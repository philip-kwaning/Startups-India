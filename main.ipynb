{
 "cells": [
  {
   "cell_type": "markdown",
   "metadata": {},
   "source": [
    "__Startup Ecosystem Analysis__\n",
    "\n",
    "+ __Project Description__\n",
    "\n",
    "The Startup Ecosystem Analysis Company Branding, Funding, and Growth Trends\" project is aimed at gaining insights into the world of startups, particularly focusing on their branding, funding, and growth patterns."
   ]
  },
  {
   "cell_type": "code",
   "execution_count": 1,
   "metadata": {},
   "outputs": [],
   "source": [
    "# import all necessary packages\n",
    "\n",
    "import pyodbc \n",
    "from dotenv import dotenv_values \n",
    "import pandas as pd\n",
    "import scipy.stats as stats\n",
    "from sklearn.impute import SimpleImputer\n",
    "import numpy as np\n",
    "import warnings\n",
    "warnings.filterwarnings('ignore')"
   ]
  },
  {
   "cell_type": "code",
   "execution_count": 2,
   "metadata": {},
   "outputs": [],
   "source": [
    "# Load environment variables from .env file into a dictionary\n",
    "\n",
    "environment_variables = dotenv_values('.env')\n",
    "\n",
    "# Get the values for the credentials you set in the '.env' file\n",
    "\n",
    "database = environment_variables.get(\"database\")\n",
    "server = environment_variables.get(\"server\")\n",
    "username = environment_variables.get(\"username\")\n",
    "password = environment_variables.get(\"password\")\n",
    "\n",
    "conn_str = f'DRIVER={{SQL Server}};SERVER={server};DATABASE={database};UID={username};PWD={password}'"
   ]
  },
  {
   "cell_type": "code",
   "execution_count": 3,
   "metadata": {},
   "outputs": [],
   "source": [
    "# create connection\n",
    "\n",
    "connection = pyodbc.connect(conn_str)"
   ]
  },
  {
   "cell_type": "code",
   "execution_count": 4,
   "metadata": {},
   "outputs": [],
   "source": [
    "# Now the sql query to get the data \n",
    "\n",
    "\n",
    "# SQL query\n",
    "query = \"SELECT * FROM dbo.LP1_startup_funding2020\"\n",
    "\n",
    "\n",
    "\n"
   ]
  },
  {
   "cell_type": "code",
   "execution_count": 5,
   "metadata": {},
   "outputs": [],
   "source": [
    " # Read data into a DataFrame\n",
    "\n",
    "\n",
    "\n",
    "df = pd.read_sql(query, connection)\n",
    "\n"
   ]
  },
  {
   "cell_type": "code",
   "execution_count": 6,
   "metadata": {},
   "outputs": [
    {
     "data": {
      "text/html": [
       "<div>\n",
       "<style scoped>\n",
       "    .dataframe tbody tr th:only-of-type {\n",
       "        vertical-align: middle;\n",
       "    }\n",
       "\n",
       "    .dataframe tbody tr th {\n",
       "        vertical-align: top;\n",
       "    }\n",
       "\n",
       "    .dataframe thead th {\n",
       "        text-align: right;\n",
       "    }\n",
       "</style>\n",
       "<table border=\"1\" class=\"dataframe\">\n",
       "  <thead>\n",
       "    <tr style=\"text-align: right;\">\n",
       "      <th></th>\n",
       "      <th>Company_Brand</th>\n",
       "      <th>Founded</th>\n",
       "      <th>HeadQuarter</th>\n",
       "      <th>Sector</th>\n",
       "      <th>What_it_does</th>\n",
       "      <th>Founders</th>\n",
       "      <th>Investor</th>\n",
       "      <th>Amount</th>\n",
       "      <th>Stage</th>\n",
       "      <th>column10</th>\n",
       "    </tr>\n",
       "  </thead>\n",
       "  <tbody>\n",
       "    <tr>\n",
       "      <th>0</th>\n",
       "      <td>Aqgromalin</td>\n",
       "      <td>2019.0</td>\n",
       "      <td>Chennai</td>\n",
       "      <td>AgriTech</td>\n",
       "      <td>Cultivating Ideas for Profit</td>\n",
       "      <td>Prasanna Manogaran, Bharani C L</td>\n",
       "      <td>Angel investors</td>\n",
       "      <td>200000.0</td>\n",
       "      <td>None</td>\n",
       "      <td>None</td>\n",
       "    </tr>\n",
       "    <tr>\n",
       "      <th>1</th>\n",
       "      <td>Krayonnz</td>\n",
       "      <td>2019.0</td>\n",
       "      <td>Bangalore</td>\n",
       "      <td>EdTech</td>\n",
       "      <td>An academy-guardian-scholar centric ecosystem ...</td>\n",
       "      <td>Saurabh Dixit, Gurudutt Upadhyay</td>\n",
       "      <td>GSF Accelerator</td>\n",
       "      <td>100000.0</td>\n",
       "      <td>Pre-seed</td>\n",
       "      <td>None</td>\n",
       "    </tr>\n",
       "    <tr>\n",
       "      <th>2</th>\n",
       "      <td>PadCare Labs</td>\n",
       "      <td>2018.0</td>\n",
       "      <td>Pune</td>\n",
       "      <td>Hygiene management</td>\n",
       "      <td>Converting bio-hazardous waste to harmless waste</td>\n",
       "      <td>Ajinkya Dhariya</td>\n",
       "      <td>Venture Center</td>\n",
       "      <td>NaN</td>\n",
       "      <td>Pre-seed</td>\n",
       "      <td>None</td>\n",
       "    </tr>\n",
       "    <tr>\n",
       "      <th>3</th>\n",
       "      <td>NCOME</td>\n",
       "      <td>2020.0</td>\n",
       "      <td>New Delhi</td>\n",
       "      <td>Escrow</td>\n",
       "      <td>Escrow-as-a-service platform</td>\n",
       "      <td>Ritesh Tiwari</td>\n",
       "      <td>Venture Catalysts, PointOne Capital</td>\n",
       "      <td>400000.0</td>\n",
       "      <td>None</td>\n",
       "      <td>None</td>\n",
       "    </tr>\n",
       "    <tr>\n",
       "      <th>4</th>\n",
       "      <td>Gramophone</td>\n",
       "      <td>2016.0</td>\n",
       "      <td>Indore</td>\n",
       "      <td>AgriTech</td>\n",
       "      <td>Gramophone is an AgTech platform enabling acce...</td>\n",
       "      <td>Ashish Rajan Singh, Harshit Gupta, Nishant Mah...</td>\n",
       "      <td>Siana Capital Management, Info Edge</td>\n",
       "      <td>340000.0</td>\n",
       "      <td>None</td>\n",
       "      <td>None</td>\n",
       "    </tr>\n",
       "  </tbody>\n",
       "</table>\n",
       "</div>"
      ],
      "text/plain": [
       "  Company_Brand  Founded HeadQuarter              Sector  \\\n",
       "0    Aqgromalin   2019.0     Chennai            AgriTech   \n",
       "1      Krayonnz   2019.0   Bangalore              EdTech   \n",
       "2  PadCare Labs   2018.0        Pune  Hygiene management   \n",
       "3         NCOME   2020.0   New Delhi              Escrow   \n",
       "4    Gramophone   2016.0      Indore            AgriTech   \n",
       "\n",
       "                                        What_it_does  \\\n",
       "0                       Cultivating Ideas for Profit   \n",
       "1  An academy-guardian-scholar centric ecosystem ...   \n",
       "2   Converting bio-hazardous waste to harmless waste   \n",
       "3                       Escrow-as-a-service platform   \n",
       "4  Gramophone is an AgTech platform enabling acce...   \n",
       "\n",
       "                                            Founders  \\\n",
       "0                    Prasanna Manogaran, Bharani C L   \n",
       "1                   Saurabh Dixit, Gurudutt Upadhyay   \n",
       "2                                    Ajinkya Dhariya   \n",
       "3                                      Ritesh Tiwari   \n",
       "4  Ashish Rajan Singh, Harshit Gupta, Nishant Mah...   \n",
       "\n",
       "                              Investor    Amount     Stage column10  \n",
       "0                      Angel investors  200000.0      None     None  \n",
       "1                      GSF Accelerator  100000.0  Pre-seed     None  \n",
       "2                       Venture Center       NaN  Pre-seed     None  \n",
       "3  Venture Catalysts, PointOne Capital  400000.0      None     None  \n",
       "4  Siana Capital Management, Info Edge  340000.0      None     None  "
      ]
     },
     "execution_count": 6,
     "metadata": {},
     "output_type": "execute_result"
    }
   ],
   "source": [
    "# data preview\n",
    "\n",
    "df.head()\n"
   ]
  },
  {
   "cell_type": "code",
   "execution_count": 7,
   "metadata": {},
   "outputs": [
    {
     "data": {
      "text/plain": [
       "(1055, 10)"
      ]
     },
     "execution_count": 7,
     "metadata": {},
     "output_type": "execute_result"
    }
   ],
   "source": [
    "df.shape"
   ]
  },
  {
   "cell_type": "code",
   "execution_count": 8,
   "metadata": {},
   "outputs": [
    {
     "data": {
      "text/html": [
       "<div>\n",
       "<style scoped>\n",
       "    .dataframe tbody tr th:only-of-type {\n",
       "        vertical-align: middle;\n",
       "    }\n",
       "\n",
       "    .dataframe tbody tr th {\n",
       "        vertical-align: top;\n",
       "    }\n",
       "\n",
       "    .dataframe thead th {\n",
       "        text-align: right;\n",
       "    }\n",
       "</style>\n",
       "<table border=\"1\" class=\"dataframe\">\n",
       "  <thead>\n",
       "    <tr style=\"text-align: right;\">\n",
       "      <th></th>\n",
       "      <th>Company_Brand</th>\n",
       "      <th>Founded</th>\n",
       "      <th>HeadQuarter</th>\n",
       "      <th>Sector</th>\n",
       "      <th>What_it_does</th>\n",
       "      <th>Founders</th>\n",
       "      <th>Investor</th>\n",
       "      <th>Amount</th>\n",
       "      <th>Stage</th>\n",
       "      <th>column10</th>\n",
       "    </tr>\n",
       "  </thead>\n",
       "  <tbody>\n",
       "    <tr>\n",
       "      <th>72</th>\n",
       "      <td>Smallcase</td>\n",
       "      <td>2015.0</td>\n",
       "      <td>Bangalore</td>\n",
       "      <td>FinTech</td>\n",
       "      <td>Changing how India invests in equities</td>\n",
       "      <td>Anugrah Shrivastava, Rohan Gupta, Vasanth Kamath</td>\n",
       "      <td>WEH Ventures, BEENEXT</td>\n",
       "      <td>NaN</td>\n",
       "      <td>None</td>\n",
       "      <td>None</td>\n",
       "    </tr>\n",
       "    <tr>\n",
       "      <th>109</th>\n",
       "      <td>Credgenics</td>\n",
       "      <td>2018.0</td>\n",
       "      <td>Gurugram</td>\n",
       "      <td>FinTech</td>\n",
       "      <td>Credgenics is a tech-enabled platform backed b...</td>\n",
       "      <td>Anand Agrawal, Mayank Khera, Rishabh Goel</td>\n",
       "      <td>Accel India, Breadlake Ventures</td>\n",
       "      <td>3000000.0</td>\n",
       "      <td>Pre-series A</td>\n",
       "      <td>None</td>\n",
       "    </tr>\n",
       "    <tr>\n",
       "      <th>116</th>\n",
       "      <td>Unacademy</td>\n",
       "      <td>2015.0</td>\n",
       "      <td>Bangalore</td>\n",
       "      <td>EdTech</td>\n",
       "      <td>Unacademy is an online learning platform provi...</td>\n",
       "      <td>Gaurav Munjal, Hemesh Singh, Roman Saini, Sach...</td>\n",
       "      <td>Dragoneer Investment Group, Tiger Global Manag...</td>\n",
       "      <td>NaN</td>\n",
       "      <td>None</td>\n",
       "      <td>None</td>\n",
       "    </tr>\n",
       "    <tr>\n",
       "      <th>120</th>\n",
       "      <td>Nykaa</td>\n",
       "      <td>2012.0</td>\n",
       "      <td>Mumbai</td>\n",
       "      <td>Cosmetics</td>\n",
       "      <td>Nykaa is an online marketplace for different b...</td>\n",
       "      <td>Falguni Nayar</td>\n",
       "      <td>Alia Bhatt, Katrina Kaif</td>\n",
       "      <td>NaN</td>\n",
       "      <td>None</td>\n",
       "      <td>None</td>\n",
       "    </tr>\n",
       "    <tr>\n",
       "      <th>124</th>\n",
       "      <td>Byju's</td>\n",
       "      <td>2011.0</td>\n",
       "      <td>Bangalore</td>\n",
       "      <td>EdTech</td>\n",
       "      <td>BYJU'S is an educational technology company th...</td>\n",
       "      <td>Byju Raveendran, Divya Gokulnath</td>\n",
       "      <td>Owl Ventures, Tiger Global Management</td>\n",
       "      <td>200000000.0</td>\n",
       "      <td>None</td>\n",
       "      <td>None</td>\n",
       "    </tr>\n",
       "    <tr>\n",
       "      <th>...</th>\n",
       "      <td>...</td>\n",
       "      <td>...</td>\n",
       "      <td>...</td>\n",
       "      <td>...</td>\n",
       "      <td>...</td>\n",
       "      <td>...</td>\n",
       "      <td>...</td>\n",
       "      <td>...</td>\n",
       "      <td>...</td>\n",
       "      <td>...</td>\n",
       "    </tr>\n",
       "    <tr>\n",
       "      <th>993</th>\n",
       "      <td>Mera Cashier</td>\n",
       "      <td>2019.0</td>\n",
       "      <td>Noida</td>\n",
       "      <td>Fintech</td>\n",
       "      <td>App meant for small and micro businessmen to m...</td>\n",
       "      <td>Suneel Kumar, Sucharita Reddy, Gaurav Tomar, A...</td>\n",
       "      <td>Amit Singal, Manish Aggarwal</td>\n",
       "      <td>250000.0</td>\n",
       "      <td>Seed Round</td>\n",
       "      <td>None</td>\n",
       "    </tr>\n",
       "    <tr>\n",
       "      <th>1009</th>\n",
       "      <td>Bounce</td>\n",
       "      <td>2014.0</td>\n",
       "      <td>Bangalore</td>\n",
       "      <td>Automotive and Rentals</td>\n",
       "      <td>Offers a variety of bikes and scooters that ca...</td>\n",
       "      <td>Vivekananda Hallekere, Anil Giri Raju,Arun Agni</td>\n",
       "      <td>Accel Partners, B Capital</td>\n",
       "      <td>97500000.0</td>\n",
       "      <td>Series D</td>\n",
       "      <td>None</td>\n",
       "    </tr>\n",
       "    <tr>\n",
       "      <th>1014</th>\n",
       "      <td>Capital Float</td>\n",
       "      <td>2013.0</td>\n",
       "      <td>Bangalore</td>\n",
       "      <td>Fintech</td>\n",
       "      <td>Digital lending</td>\n",
       "      <td>Gaurav Hinduja, Sashank Rishyasringa</td>\n",
       "      <td>Sequoia Capital, Ribbit Capital, Amazon, Saif ...</td>\n",
       "      <td>15000000.0</td>\n",
       "      <td>None</td>\n",
       "      <td>None</td>\n",
       "    </tr>\n",
       "    <tr>\n",
       "      <th>1035</th>\n",
       "      <td>Byju</td>\n",
       "      <td>2011.0</td>\n",
       "      <td>None</td>\n",
       "      <td>Edtech</td>\n",
       "      <td>Provides online learning classes</td>\n",
       "      <td>Byju Raveendran</td>\n",
       "      <td>Tiger Global</td>\n",
       "      <td>200000000.0</td>\n",
       "      <td>None</td>\n",
       "      <td>None</td>\n",
       "    </tr>\n",
       "    <tr>\n",
       "      <th>1053</th>\n",
       "      <td>Shuttl</td>\n",
       "      <td>2015.0</td>\n",
       "      <td>Delhi</td>\n",
       "      <td>Transport</td>\n",
       "      <td>App based bus aggregator serice</td>\n",
       "      <td>Amit Singh, Deepanshu Malviya</td>\n",
       "      <td>SIG Global India Fund LLP.</td>\n",
       "      <td>8043000.0</td>\n",
       "      <td>Series C</td>\n",
       "      <td>None</td>\n",
       "    </tr>\n",
       "  </tbody>\n",
       "</table>\n",
       "<p>100 rows × 10 columns</p>\n",
       "</div>"
      ],
      "text/plain": [
       "      Company_Brand  Founded HeadQuarter                  Sector  \\\n",
       "72        Smallcase   2015.0   Bangalore                 FinTech   \n",
       "109      Credgenics   2018.0    Gurugram                 FinTech   \n",
       "116       Unacademy   2015.0   Bangalore                  EdTech   \n",
       "120           Nykaa   2012.0      Mumbai               Cosmetics   \n",
       "124          Byju's   2011.0   Bangalore                  EdTech   \n",
       "...             ...      ...         ...                     ...   \n",
       "993    Mera Cashier   2019.0       Noida                 Fintech   \n",
       "1009         Bounce   2014.0   Bangalore  Automotive and Rentals   \n",
       "1014  Capital Float   2013.0   Bangalore                 Fintech   \n",
       "1035           Byju   2011.0        None                  Edtech   \n",
       "1053         Shuttl   2015.0       Delhi               Transport   \n",
       "\n",
       "                                           What_it_does  \\\n",
       "72               Changing how India invests in equities   \n",
       "109   Credgenics is a tech-enabled platform backed b...   \n",
       "116   Unacademy is an online learning platform provi...   \n",
       "120   Nykaa is an online marketplace for different b...   \n",
       "124   BYJU'S is an educational technology company th...   \n",
       "...                                                 ...   \n",
       "993   App meant for small and micro businessmen to m...   \n",
       "1009  Offers a variety of bikes and scooters that ca...   \n",
       "1014                                    Digital lending   \n",
       "1035                   Provides online learning classes   \n",
       "1053                    App based bus aggregator serice   \n",
       "\n",
       "                                               Founders  \\\n",
       "72     Anugrah Shrivastava, Rohan Gupta, Vasanth Kamath   \n",
       "109           Anand Agrawal, Mayank Khera, Rishabh Goel   \n",
       "116   Gaurav Munjal, Hemesh Singh, Roman Saini, Sach...   \n",
       "120                                       Falguni Nayar   \n",
       "124                    Byju Raveendran, Divya Gokulnath   \n",
       "...                                                 ...   \n",
       "993   Suneel Kumar, Sucharita Reddy, Gaurav Tomar, A...   \n",
       "1009    Vivekananda Hallekere, Anil Giri Raju,Arun Agni   \n",
       "1014               Gaurav Hinduja, Sashank Rishyasringa   \n",
       "1035                                    Byju Raveendran   \n",
       "1053                      Amit Singh, Deepanshu Malviya   \n",
       "\n",
       "                                               Investor       Amount  \\\n",
       "72                                WEH Ventures, BEENEXT          NaN   \n",
       "109                     Accel India, Breadlake Ventures    3000000.0   \n",
       "116   Dragoneer Investment Group, Tiger Global Manag...          NaN   \n",
       "120                            Alia Bhatt, Katrina Kaif          NaN   \n",
       "124               Owl Ventures, Tiger Global Management  200000000.0   \n",
       "...                                                 ...          ...   \n",
       "993                        Amit Singal, Manish Aggarwal     250000.0   \n",
       "1009                          Accel Partners, B Capital   97500000.0   \n",
       "1014  Sequoia Capital, Ribbit Capital, Amazon, Saif ...   15000000.0   \n",
       "1035                                       Tiger Global  200000000.0   \n",
       "1053                         SIG Global India Fund LLP.    8043000.0   \n",
       "\n",
       "             Stage column10  \n",
       "72            None     None  \n",
       "109   Pre-series A     None  \n",
       "116           None     None  \n",
       "120           None     None  \n",
       "124           None     None  \n",
       "...            ...      ...  \n",
       "993     Seed Round     None  \n",
       "1009      Series D     None  \n",
       "1014          None     None  \n",
       "1035          None     None  \n",
       "1053      Series C     None  \n",
       "\n",
       "[100 rows x 10 columns]"
      ]
     },
     "execution_count": 8,
     "metadata": {},
     "output_type": "execute_result"
    }
   ],
   "source": [
    "# check for duplicates in company name with same sector and HQ\n",
    "\n",
    "duplicates = df[df.duplicated(subset=['Company_Brand', 'HeadQuarter', 'Sector'], keep=False)]\n",
    "duplicates"
   ]
  },
  {
   "cell_type": "code",
   "execution_count": 9,
   "metadata": {},
   "outputs": [
    {
     "data": {
      "text/html": [
       "<div>\n",
       "<style scoped>\n",
       "    .dataframe tbody tr th:only-of-type {\n",
       "        vertical-align: middle;\n",
       "    }\n",
       "\n",
       "    .dataframe tbody tr th {\n",
       "        vertical-align: top;\n",
       "    }\n",
       "\n",
       "    .dataframe thead th {\n",
       "        text-align: right;\n",
       "    }\n",
       "</style>\n",
       "<table border=\"1\" class=\"dataframe\">\n",
       "  <thead>\n",
       "    <tr style=\"text-align: right;\">\n",
       "      <th></th>\n",
       "      <th>Company_Brand</th>\n",
       "      <th>Founded</th>\n",
       "      <th>HeadQuarter</th>\n",
       "      <th>Sector</th>\n",
       "      <th>What_it_does</th>\n",
       "      <th>Founders</th>\n",
       "      <th>Investor</th>\n",
       "      <th>Amount</th>\n",
       "      <th>Stage</th>\n",
       "      <th>column10</th>\n",
       "    </tr>\n",
       "  </thead>\n",
       "  <tbody>\n",
       "    <tr>\n",
       "      <th>0</th>\n",
       "      <td>aqgromalin</td>\n",
       "      <td>2019.0</td>\n",
       "      <td>chennai</td>\n",
       "      <td>agritech</td>\n",
       "      <td>Cultivating Ideas for Profit</td>\n",
       "      <td>Prasanna Manogaran, Bharani C L</td>\n",
       "      <td>Angel investors</td>\n",
       "      <td>200000.0</td>\n",
       "      <td>None</td>\n",
       "      <td>None</td>\n",
       "    </tr>\n",
       "    <tr>\n",
       "      <th>1</th>\n",
       "      <td>krayonnz</td>\n",
       "      <td>2019.0</td>\n",
       "      <td>bangalore</td>\n",
       "      <td>edtech</td>\n",
       "      <td>An academy-guardian-scholar centric ecosystem ...</td>\n",
       "      <td>Saurabh Dixit, Gurudutt Upadhyay</td>\n",
       "      <td>GSF Accelerator</td>\n",
       "      <td>100000.0</td>\n",
       "      <td>Pre-seed</td>\n",
       "      <td>None</td>\n",
       "    </tr>\n",
       "    <tr>\n",
       "      <th>2</th>\n",
       "      <td>padcare labs</td>\n",
       "      <td>2018.0</td>\n",
       "      <td>pune</td>\n",
       "      <td>hygiene management</td>\n",
       "      <td>Converting bio-hazardous waste to harmless waste</td>\n",
       "      <td>Ajinkya Dhariya</td>\n",
       "      <td>Venture Center</td>\n",
       "      <td>NaN</td>\n",
       "      <td>Pre-seed</td>\n",
       "      <td>None</td>\n",
       "    </tr>\n",
       "    <tr>\n",
       "      <th>3</th>\n",
       "      <td>ncome</td>\n",
       "      <td>2020.0</td>\n",
       "      <td>new delhi</td>\n",
       "      <td>escrow</td>\n",
       "      <td>Escrow-as-a-service platform</td>\n",
       "      <td>Ritesh Tiwari</td>\n",
       "      <td>Venture Catalysts, PointOne Capital</td>\n",
       "      <td>400000.0</td>\n",
       "      <td>None</td>\n",
       "      <td>None</td>\n",
       "    </tr>\n",
       "    <tr>\n",
       "      <th>4</th>\n",
       "      <td>gramophone</td>\n",
       "      <td>2016.0</td>\n",
       "      <td>indore</td>\n",
       "      <td>agritech</td>\n",
       "      <td>Gramophone is an AgTech platform enabling acce...</td>\n",
       "      <td>Ashish Rajan Singh, Harshit Gupta, Nishant Mah...</td>\n",
       "      <td>Siana Capital Management, Info Edge</td>\n",
       "      <td>340000.0</td>\n",
       "      <td>None</td>\n",
       "      <td>None</td>\n",
       "    </tr>\n",
       "    <tr>\n",
       "      <th>...</th>\n",
       "      <td>...</td>\n",
       "      <td>...</td>\n",
       "      <td>...</td>\n",
       "      <td>...</td>\n",
       "      <td>...</td>\n",
       "      <td>...</td>\n",
       "      <td>...</td>\n",
       "      <td>...</td>\n",
       "      <td>...</td>\n",
       "      <td>...</td>\n",
       "    </tr>\n",
       "    <tr>\n",
       "      <th>1049</th>\n",
       "      <td>fashor</td>\n",
       "      <td>2017.0</td>\n",
       "      <td>chennai</td>\n",
       "      <td>fashion</td>\n",
       "      <td>Women’s fashion and apparel</td>\n",
       "      <td>Vikram Kankaria, Priyanka Kankaria</td>\n",
       "      <td>Sprout venture partners</td>\n",
       "      <td>1000000.0</td>\n",
       "      <td>Pre Series A</td>\n",
       "      <td>None</td>\n",
       "    </tr>\n",
       "    <tr>\n",
       "      <th>1050</th>\n",
       "      <td>leverage edu</td>\n",
       "      <td>NaN</td>\n",
       "      <td>delhi</td>\n",
       "      <td>edtech</td>\n",
       "      <td>AI enabled marketplace that provides career gu...</td>\n",
       "      <td>Akshay Chaturvedi</td>\n",
       "      <td>DSG Consumer Partners, Blume Ventures</td>\n",
       "      <td>1500000.0</td>\n",
       "      <td>None</td>\n",
       "      <td>None</td>\n",
       "    </tr>\n",
       "    <tr>\n",
       "      <th>1051</th>\n",
       "      <td>epifi</td>\n",
       "      <td>NaN</td>\n",
       "      <td>None</td>\n",
       "      <td>fintech</td>\n",
       "      <td>It offers customers with a single interface fo...</td>\n",
       "      <td>Sujith Narayanan, Sumit Gwalani</td>\n",
       "      <td>Sequoia India, Ribbit Capital</td>\n",
       "      <td>13200000.0</td>\n",
       "      <td>Seed Round</td>\n",
       "      <td>None</td>\n",
       "    </tr>\n",
       "    <tr>\n",
       "      <th>1052</th>\n",
       "      <td>purplle</td>\n",
       "      <td>2012.0</td>\n",
       "      <td>mumbai</td>\n",
       "      <td>cosmetics</td>\n",
       "      <td>Online makeup and beauty products retailer</td>\n",
       "      <td>Manish Taneja, Rahul Dash</td>\n",
       "      <td>Verlinvest</td>\n",
       "      <td>8000000.0</td>\n",
       "      <td>None</td>\n",
       "      <td>None</td>\n",
       "    </tr>\n",
       "    <tr>\n",
       "      <th>1054</th>\n",
       "      <td>pando</td>\n",
       "      <td>2017.0</td>\n",
       "      <td>chennai</td>\n",
       "      <td>logitech</td>\n",
       "      <td>Networked logistics management software</td>\n",
       "      <td>Jayakrishnan, Abhijeet Manohar</td>\n",
       "      <td>Chiratae Ventures</td>\n",
       "      <td>9000000.0</td>\n",
       "      <td>Series A</td>\n",
       "      <td>None</td>\n",
       "    </tr>\n",
       "  </tbody>\n",
       "</table>\n",
       "<p>984 rows × 10 columns</p>\n",
       "</div>"
      ],
      "text/plain": [
       "     Company_Brand  Founded HeadQuarter              Sector  \\\n",
       "0       aqgromalin   2019.0     chennai            agritech   \n",
       "1         krayonnz   2019.0   bangalore              edtech   \n",
       "2     padcare labs   2018.0        pune  hygiene management   \n",
       "3            ncome   2020.0   new delhi              escrow   \n",
       "4       gramophone   2016.0      indore            agritech   \n",
       "...            ...      ...         ...                 ...   \n",
       "1049        fashor   2017.0     chennai             fashion   \n",
       "1050  leverage edu      NaN       delhi              edtech   \n",
       "1051         epifi      NaN        None             fintech   \n",
       "1052       purplle   2012.0      mumbai           cosmetics   \n",
       "1054         pando   2017.0     chennai            logitech   \n",
       "\n",
       "                                           What_it_does  \\\n",
       "0                          Cultivating Ideas for Profit   \n",
       "1     An academy-guardian-scholar centric ecosystem ...   \n",
       "2      Converting bio-hazardous waste to harmless waste   \n",
       "3                          Escrow-as-a-service platform   \n",
       "4     Gramophone is an AgTech platform enabling acce...   \n",
       "...                                                 ...   \n",
       "1049                        Women’s fashion and apparel   \n",
       "1050  AI enabled marketplace that provides career gu...   \n",
       "1051  It offers customers with a single interface fo...   \n",
       "1052         Online makeup and beauty products retailer   \n",
       "1054            Networked logistics management software   \n",
       "\n",
       "                                               Founders  \\\n",
       "0                       Prasanna Manogaran, Bharani C L   \n",
       "1                      Saurabh Dixit, Gurudutt Upadhyay   \n",
       "2                                       Ajinkya Dhariya   \n",
       "3                                         Ritesh Tiwari   \n",
       "4     Ashish Rajan Singh, Harshit Gupta, Nishant Mah...   \n",
       "...                                                 ...   \n",
       "1049                 Vikram Kankaria, Priyanka Kankaria   \n",
       "1050                                  Akshay Chaturvedi   \n",
       "1051                    Sujith Narayanan, Sumit Gwalani   \n",
       "1052                          Manish Taneja, Rahul Dash   \n",
       "1054                     Jayakrishnan, Abhijeet Manohar   \n",
       "\n",
       "                                   Investor      Amount         Stage column10  \n",
       "0                           Angel investors    200000.0          None     None  \n",
       "1                           GSF Accelerator    100000.0      Pre-seed     None  \n",
       "2                            Venture Center         NaN      Pre-seed     None  \n",
       "3       Venture Catalysts, PointOne Capital    400000.0          None     None  \n",
       "4       Siana Capital Management, Info Edge    340000.0          None     None  \n",
       "...                                     ...         ...           ...      ...  \n",
       "1049                Sprout venture partners   1000000.0  Pre Series A     None  \n",
       "1050  DSG Consumer Partners, Blume Ventures   1500000.0          None     None  \n",
       "1051          Sequoia India, Ribbit Capital  13200000.0    Seed Round     None  \n",
       "1052                             Verlinvest   8000000.0          None     None  \n",
       "1054                      Chiratae Ventures   9000000.0      Series A     None  \n",
       "\n",
       "[984 rows x 10 columns]"
      ]
     },
     "execution_count": 9,
     "metadata": {},
     "output_type": "execute_result"
    }
   ],
   "source": [
    "\n",
    "\n",
    "# covert values to lower case to avoid case sensitivity\n",
    "\n",
    "df['Company_Brand'] = df['Company_Brand'].str.lower()\n",
    "df['HeadQuarter'] = df['HeadQuarter'].str.lower()\n",
    "df['Sector'] = df['Sector'].str.lower()\n",
    "\n",
    "\n",
    "# Drop duplicates, keeping the first occurrence\n",
    "\n",
    "df = df.drop_duplicates(subset=['Company_Brand', 'HeadQuarter', 'Sector'], keep='first')\n",
    "\n",
    "\n",
    "df"
   ]
  },
  {
   "cell_type": "code",
   "execution_count": 10,
   "metadata": {},
   "outputs": [
    {
     "data": {
      "text/plain": [
       "0         aqgromalin\n",
       "1           krayonnz\n",
       "2       padcare labs\n",
       "3              ncome\n",
       "4         gramophone\n",
       "            ...     \n",
       "1049          fashor\n",
       "1050    leverage edu\n",
       "1051           epifi\n",
       "1052         purplle\n",
       "1054           pando\n",
       "Name: Company_Brand, Length: 984, dtype: object"
      ]
     },
     "execution_count": 10,
     "metadata": {},
     "output_type": "execute_result"
    }
   ],
   "source": [
    "df['Company_Brand']"
   ]
  },
  {
   "cell_type": "code",
   "execution_count": 11,
   "metadata": {},
   "outputs": [
    {
     "data": {
      "text/html": [
       "<div>\n",
       "<style scoped>\n",
       "    .dataframe tbody tr th:only-of-type {\n",
       "        vertical-align: middle;\n",
       "    }\n",
       "\n",
       "    .dataframe tbody tr th {\n",
       "        vertical-align: top;\n",
       "    }\n",
       "\n",
       "    .dataframe thead th {\n",
       "        text-align: right;\n",
       "    }\n",
       "</style>\n",
       "<table border=\"1\" class=\"dataframe\">\n",
       "  <thead>\n",
       "    <tr style=\"text-align: right;\">\n",
       "      <th></th>\n",
       "      <th>Company_Brand</th>\n",
       "      <th>Founded</th>\n",
       "      <th>HeadQuarter</th>\n",
       "      <th>Sector</th>\n",
       "      <th>What_it_does</th>\n",
       "      <th>Founders</th>\n",
       "      <th>Investor</th>\n",
       "      <th>Amount</th>\n",
       "      <th>Stage</th>\n",
       "      <th>column10</th>\n",
       "    </tr>\n",
       "  </thead>\n",
       "  <tbody>\n",
       "    <tr>\n",
       "      <th>100</th>\n",
       "      <td>credgenics</td>\n",
       "      <td>2018.0</td>\n",
       "      <td>new delhi</td>\n",
       "      <td>fintech</td>\n",
       "      <td>Credgenics is a tech-enabled platform backed b...</td>\n",
       "      <td>Anand Agrawal, Mayank Khera, Rishabh Goel</td>\n",
       "      <td>Accel India, Breadlake Ventures</td>\n",
       "      <td>3000000.0</td>\n",
       "      <td>Pre-series A</td>\n",
       "      <td>None</td>\n",
       "    </tr>\n",
       "    <tr>\n",
       "      <th>109</th>\n",
       "      <td>credgenics</td>\n",
       "      <td>2018.0</td>\n",
       "      <td>gurugram</td>\n",
       "      <td>fintech</td>\n",
       "      <td>Credgenics is a tech-enabled platform backed b...</td>\n",
       "      <td>Anand Agrawal, Mayank Khera, Rishabh Goel</td>\n",
       "      <td>Accel India, Breadlake Ventures</td>\n",
       "      <td>3000000.0</td>\n",
       "      <td>Pre-series A</td>\n",
       "      <td>None</td>\n",
       "    </tr>\n",
       "    <tr>\n",
       "      <th>598</th>\n",
       "      <td>paper boat</td>\n",
       "      <td>2013.0</td>\n",
       "      <td>gurugram</td>\n",
       "      <td>food &amp; beverages</td>\n",
       "      <td>Ecommerce platform for beverages and snacks</td>\n",
       "      <td>Neeraj Kakkar, James Nutall, Suhas Misra, Neer...</td>\n",
       "      <td>Sofina Ventures, A91 Emerging fund, SCI Growth...</td>\n",
       "      <td>3700000.0</td>\n",
       "      <td>None</td>\n",
       "      <td>None</td>\n",
       "    </tr>\n",
       "    <tr>\n",
       "      <th>636</th>\n",
       "      <td>sarva</td>\n",
       "      <td>NaN</td>\n",
       "      <td>mumbai</td>\n",
       "      <td>yoga &amp; wellness</td>\n",
       "      <td>It drives a cultural change in making yoga-bas...</td>\n",
       "      <td>Sarvesh Shashi</td>\n",
       "      <td>Shikhar Dhawan</td>\n",
       "      <td>NaN</td>\n",
       "      <td>None</td>\n",
       "      <td>None</td>\n",
       "    </tr>\n",
       "    <tr>\n",
       "      <th>743</th>\n",
       "      <td>sarva</td>\n",
       "      <td>NaN</td>\n",
       "      <td>None</td>\n",
       "      <td>yoga &amp; wellness</td>\n",
       "      <td>It drives a cultural change in making yoga-bas...</td>\n",
       "      <td>Sarvesh Shashi</td>\n",
       "      <td>Mantra Capital, Patni Family</td>\n",
       "      <td>NaN</td>\n",
       "      <td>None</td>\n",
       "      <td>None</td>\n",
       "    </tr>\n",
       "    <tr>\n",
       "      <th>859</th>\n",
       "      <td>paper boat</td>\n",
       "      <td>2013.0</td>\n",
       "      <td>bangalore</td>\n",
       "      <td>food &amp; beverages</td>\n",
       "      <td>Ecommerce platform for beverages and snacks</td>\n",
       "      <td>Neeraj Kakkar, James Nutall, Suhas Misra, Neer...</td>\n",
       "      <td>Advent Management, A91 Emerging Fund, Trifecta...</td>\n",
       "      <td>4049500.0</td>\n",
       "      <td>None</td>\n",
       "      <td>None</td>\n",
       "    </tr>\n",
       "  </tbody>\n",
       "</table>\n",
       "</div>"
      ],
      "text/plain": [
       "    Company_Brand  Founded HeadQuarter            Sector  \\\n",
       "100    credgenics   2018.0   new delhi           fintech   \n",
       "109    credgenics   2018.0    gurugram           fintech   \n",
       "598    paper boat   2013.0    gurugram  food & beverages   \n",
       "636         sarva      NaN      mumbai   yoga & wellness   \n",
       "743         sarva      NaN        None   yoga & wellness   \n",
       "859    paper boat   2013.0   bangalore  food & beverages   \n",
       "\n",
       "                                          What_it_does  \\\n",
       "100  Credgenics is a tech-enabled platform backed b...   \n",
       "109  Credgenics is a tech-enabled platform backed b...   \n",
       "598        Ecommerce platform for beverages and snacks   \n",
       "636  It drives a cultural change in making yoga-bas...   \n",
       "743  It drives a cultural change in making yoga-bas...   \n",
       "859        Ecommerce platform for beverages and snacks   \n",
       "\n",
       "                                              Founders  \\\n",
       "100          Anand Agrawal, Mayank Khera, Rishabh Goel   \n",
       "109          Anand Agrawal, Mayank Khera, Rishabh Goel   \n",
       "598  Neeraj Kakkar, James Nutall, Suhas Misra, Neer...   \n",
       "636                                     Sarvesh Shashi   \n",
       "743                                     Sarvesh Shashi   \n",
       "859  Neeraj Kakkar, James Nutall, Suhas Misra, Neer...   \n",
       "\n",
       "                                              Investor     Amount  \\\n",
       "100                    Accel India, Breadlake Ventures  3000000.0   \n",
       "109                    Accel India, Breadlake Ventures  3000000.0   \n",
       "598  Sofina Ventures, A91 Emerging fund, SCI Growth...  3700000.0   \n",
       "636                                     Shikhar Dhawan        NaN   \n",
       "743                       Mantra Capital, Patni Family        NaN   \n",
       "859  Advent Management, A91 Emerging Fund, Trifecta...  4049500.0   \n",
       "\n",
       "            Stage column10  \n",
       "100  Pre-series A     None  \n",
       "109  Pre-series A     None  \n",
       "598          None     None  \n",
       "636          None     None  \n",
       "743          None     None  \n",
       "859          None     None  "
      ]
     },
     "execution_count": 11,
     "metadata": {},
     "output_type": "execute_result"
    }
   ],
   "source": [
    "#   check for brand names with same 'What_it_does' and 'Sector'\n",
    "\n",
    "df_dups = df[df.duplicated(subset=['Company_Brand', 'What_it_does', 'Sector'], keep=False)]\n",
    "df_dups"
   ]
  },
  {
   "cell_type": "code",
   "execution_count": 12,
   "metadata": {},
   "outputs": [
    {
     "data": {
      "text/html": [
       "<div>\n",
       "<style scoped>\n",
       "    .dataframe tbody tr th:only-of-type {\n",
       "        vertical-align: middle;\n",
       "    }\n",
       "\n",
       "    .dataframe tbody tr th {\n",
       "        vertical-align: top;\n",
       "    }\n",
       "\n",
       "    .dataframe thead th {\n",
       "        text-align: right;\n",
       "    }\n",
       "</style>\n",
       "<table border=\"1\" class=\"dataframe\">\n",
       "  <thead>\n",
       "    <tr style=\"text-align: right;\">\n",
       "      <th></th>\n",
       "      <th>Company_Brand</th>\n",
       "      <th>Founded</th>\n",
       "      <th>HeadQuarter</th>\n",
       "      <th>Sector</th>\n",
       "      <th>What_it_does</th>\n",
       "      <th>Founders</th>\n",
       "      <th>Investor</th>\n",
       "      <th>Amount</th>\n",
       "      <th>Stage</th>\n",
       "      <th>column10</th>\n",
       "    </tr>\n",
       "  </thead>\n",
       "  <tbody>\n",
       "    <tr>\n",
       "      <th>0</th>\n",
       "      <td>aqgromalin</td>\n",
       "      <td>2019.0</td>\n",
       "      <td>chennai</td>\n",
       "      <td>agritech</td>\n",
       "      <td>Cultivating Ideas for Profit</td>\n",
       "      <td>Prasanna Manogaran, Bharani C L</td>\n",
       "      <td>Angel investors</td>\n",
       "      <td>200000.0</td>\n",
       "      <td>None</td>\n",
       "      <td>None</td>\n",
       "    </tr>\n",
       "    <tr>\n",
       "      <th>1</th>\n",
       "      <td>krayonnz</td>\n",
       "      <td>2019.0</td>\n",
       "      <td>bangalore</td>\n",
       "      <td>edtech</td>\n",
       "      <td>An academy-guardian-scholar centric ecosystem ...</td>\n",
       "      <td>Saurabh Dixit, Gurudutt Upadhyay</td>\n",
       "      <td>GSF Accelerator</td>\n",
       "      <td>100000.0</td>\n",
       "      <td>Pre-seed</td>\n",
       "      <td>None</td>\n",
       "    </tr>\n",
       "    <tr>\n",
       "      <th>2</th>\n",
       "      <td>padcare labs</td>\n",
       "      <td>2018.0</td>\n",
       "      <td>pune</td>\n",
       "      <td>hygiene management</td>\n",
       "      <td>Converting bio-hazardous waste to harmless waste</td>\n",
       "      <td>Ajinkya Dhariya</td>\n",
       "      <td>Venture Center</td>\n",
       "      <td>NaN</td>\n",
       "      <td>Pre-seed</td>\n",
       "      <td>None</td>\n",
       "    </tr>\n",
       "    <tr>\n",
       "      <th>3</th>\n",
       "      <td>ncome</td>\n",
       "      <td>2020.0</td>\n",
       "      <td>new delhi</td>\n",
       "      <td>escrow</td>\n",
       "      <td>Escrow-as-a-service platform</td>\n",
       "      <td>Ritesh Tiwari</td>\n",
       "      <td>Venture Catalysts, PointOne Capital</td>\n",
       "      <td>400000.0</td>\n",
       "      <td>None</td>\n",
       "      <td>None</td>\n",
       "    </tr>\n",
       "    <tr>\n",
       "      <th>4</th>\n",
       "      <td>gramophone</td>\n",
       "      <td>2016.0</td>\n",
       "      <td>indore</td>\n",
       "      <td>agritech</td>\n",
       "      <td>Gramophone is an AgTech platform enabling acce...</td>\n",
       "      <td>Ashish Rajan Singh, Harshit Gupta, Nishant Mah...</td>\n",
       "      <td>Siana Capital Management, Info Edge</td>\n",
       "      <td>340000.0</td>\n",
       "      <td>None</td>\n",
       "      <td>None</td>\n",
       "    </tr>\n",
       "    <tr>\n",
       "      <th>...</th>\n",
       "      <td>...</td>\n",
       "      <td>...</td>\n",
       "      <td>...</td>\n",
       "      <td>...</td>\n",
       "      <td>...</td>\n",
       "      <td>...</td>\n",
       "      <td>...</td>\n",
       "      <td>...</td>\n",
       "      <td>...</td>\n",
       "      <td>...</td>\n",
       "    </tr>\n",
       "    <tr>\n",
       "      <th>1049</th>\n",
       "      <td>fashor</td>\n",
       "      <td>2017.0</td>\n",
       "      <td>chennai</td>\n",
       "      <td>fashion</td>\n",
       "      <td>Women’s fashion and apparel</td>\n",
       "      <td>Vikram Kankaria, Priyanka Kankaria</td>\n",
       "      <td>Sprout venture partners</td>\n",
       "      <td>1000000.0</td>\n",
       "      <td>Pre Series A</td>\n",
       "      <td>None</td>\n",
       "    </tr>\n",
       "    <tr>\n",
       "      <th>1050</th>\n",
       "      <td>leverage edu</td>\n",
       "      <td>NaN</td>\n",
       "      <td>delhi</td>\n",
       "      <td>edtech</td>\n",
       "      <td>AI enabled marketplace that provides career gu...</td>\n",
       "      <td>Akshay Chaturvedi</td>\n",
       "      <td>DSG Consumer Partners, Blume Ventures</td>\n",
       "      <td>1500000.0</td>\n",
       "      <td>None</td>\n",
       "      <td>None</td>\n",
       "    </tr>\n",
       "    <tr>\n",
       "      <th>1051</th>\n",
       "      <td>epifi</td>\n",
       "      <td>NaN</td>\n",
       "      <td>None</td>\n",
       "      <td>fintech</td>\n",
       "      <td>It offers customers with a single interface fo...</td>\n",
       "      <td>Sujith Narayanan, Sumit Gwalani</td>\n",
       "      <td>Sequoia India, Ribbit Capital</td>\n",
       "      <td>13200000.0</td>\n",
       "      <td>Seed Round</td>\n",
       "      <td>None</td>\n",
       "    </tr>\n",
       "    <tr>\n",
       "      <th>1052</th>\n",
       "      <td>purplle</td>\n",
       "      <td>2012.0</td>\n",
       "      <td>mumbai</td>\n",
       "      <td>cosmetics</td>\n",
       "      <td>Online makeup and beauty products retailer</td>\n",
       "      <td>Manish Taneja, Rahul Dash</td>\n",
       "      <td>Verlinvest</td>\n",
       "      <td>8000000.0</td>\n",
       "      <td>None</td>\n",
       "      <td>None</td>\n",
       "    </tr>\n",
       "    <tr>\n",
       "      <th>1054</th>\n",
       "      <td>pando</td>\n",
       "      <td>2017.0</td>\n",
       "      <td>chennai</td>\n",
       "      <td>logitech</td>\n",
       "      <td>Networked logistics management software</td>\n",
       "      <td>Jayakrishnan, Abhijeet Manohar</td>\n",
       "      <td>Chiratae Ventures</td>\n",
       "      <td>9000000.0</td>\n",
       "      <td>Series A</td>\n",
       "      <td>None</td>\n",
       "    </tr>\n",
       "  </tbody>\n",
       "</table>\n",
       "<p>981 rows × 10 columns</p>\n",
       "</div>"
      ],
      "text/plain": [
       "     Company_Brand  Founded HeadQuarter              Sector  \\\n",
       "0       aqgromalin   2019.0     chennai            agritech   \n",
       "1         krayonnz   2019.0   bangalore              edtech   \n",
       "2     padcare labs   2018.0        pune  hygiene management   \n",
       "3            ncome   2020.0   new delhi              escrow   \n",
       "4       gramophone   2016.0      indore            agritech   \n",
       "...            ...      ...         ...                 ...   \n",
       "1049        fashor   2017.0     chennai             fashion   \n",
       "1050  leverage edu      NaN       delhi              edtech   \n",
       "1051         epifi      NaN        None             fintech   \n",
       "1052       purplle   2012.0      mumbai           cosmetics   \n",
       "1054         pando   2017.0     chennai            logitech   \n",
       "\n",
       "                                           What_it_does  \\\n",
       "0                          Cultivating Ideas for Profit   \n",
       "1     An academy-guardian-scholar centric ecosystem ...   \n",
       "2      Converting bio-hazardous waste to harmless waste   \n",
       "3                          Escrow-as-a-service platform   \n",
       "4     Gramophone is an AgTech platform enabling acce...   \n",
       "...                                                 ...   \n",
       "1049                        Women’s fashion and apparel   \n",
       "1050  AI enabled marketplace that provides career gu...   \n",
       "1051  It offers customers with a single interface fo...   \n",
       "1052         Online makeup and beauty products retailer   \n",
       "1054            Networked logistics management software   \n",
       "\n",
       "                                               Founders  \\\n",
       "0                       Prasanna Manogaran, Bharani C L   \n",
       "1                      Saurabh Dixit, Gurudutt Upadhyay   \n",
       "2                                       Ajinkya Dhariya   \n",
       "3                                         Ritesh Tiwari   \n",
       "4     Ashish Rajan Singh, Harshit Gupta, Nishant Mah...   \n",
       "...                                                 ...   \n",
       "1049                 Vikram Kankaria, Priyanka Kankaria   \n",
       "1050                                  Akshay Chaturvedi   \n",
       "1051                    Sujith Narayanan, Sumit Gwalani   \n",
       "1052                          Manish Taneja, Rahul Dash   \n",
       "1054                     Jayakrishnan, Abhijeet Manohar   \n",
       "\n",
       "                                   Investor      Amount         Stage column10  \n",
       "0                           Angel investors    200000.0          None     None  \n",
       "1                           GSF Accelerator    100000.0      Pre-seed     None  \n",
       "2                            Venture Center         NaN      Pre-seed     None  \n",
       "3       Venture Catalysts, PointOne Capital    400000.0          None     None  \n",
       "4       Siana Capital Management, Info Edge    340000.0          None     None  \n",
       "...                                     ...         ...           ...      ...  \n",
       "1049                Sprout venture partners   1000000.0  Pre Series A     None  \n",
       "1050  DSG Consumer Partners, Blume Ventures   1500000.0          None     None  \n",
       "1051          Sequoia India, Ribbit Capital  13200000.0    Seed Round     None  \n",
       "1052                             Verlinvest   8000000.0          None     None  \n",
       "1054                      Chiratae Ventures   9000000.0      Series A     None  \n",
       "\n",
       "[981 rows x 10 columns]"
      ]
     },
     "execution_count": 12,
     "metadata": {},
     "output_type": "execute_result"
    }
   ],
   "source": [
    "# drop duplicates of brand names with same with same 'What_it_does' and 'Sector'\n",
    "\n",
    "df = df.drop_duplicates(subset=['Company_Brand', 'What_it_does', 'Sector'], keep='first')\n",
    "df"
   ]
  },
  {
   "cell_type": "code",
   "execution_count": 13,
   "metadata": {},
   "outputs": [
    {
     "data": {
      "text/html": [
       "<div>\n",
       "<style scoped>\n",
       "    .dataframe tbody tr th:only-of-type {\n",
       "        vertical-align: middle;\n",
       "    }\n",
       "\n",
       "    .dataframe tbody tr th {\n",
       "        vertical-align: top;\n",
       "    }\n",
       "\n",
       "    .dataframe thead th {\n",
       "        text-align: right;\n",
       "    }\n",
       "</style>\n",
       "<table border=\"1\" class=\"dataframe\">\n",
       "  <thead>\n",
       "    <tr style=\"text-align: right;\">\n",
       "      <th></th>\n",
       "      <th>Company_Brand</th>\n",
       "      <th>Founded</th>\n",
       "      <th>HeadQuarter</th>\n",
       "      <th>Sector</th>\n",
       "      <th>What_it_does</th>\n",
       "      <th>Founders</th>\n",
       "      <th>Investor</th>\n",
       "      <th>Amount</th>\n",
       "      <th>Stage</th>\n",
       "      <th>column10</th>\n",
       "    </tr>\n",
       "  </thead>\n",
       "  <tbody>\n",
       "    <tr>\n",
       "      <th>87</th>\n",
       "      <td>habitat</td>\n",
       "      <td>2016.0</td>\n",
       "      <td>None</td>\n",
       "      <td>edtech</td>\n",
       "      <td>Habitat, a social learning edtech platform for...</td>\n",
       "      <td>Rohit Pande, Shikhar Sachan</td>\n",
       "      <td>Unitus Ventures, Whiteboard Capital</td>\n",
       "      <td>600000.0</td>\n",
       "      <td>Seed</td>\n",
       "      <td>None</td>\n",
       "    </tr>\n",
       "    <tr>\n",
       "      <th>92</th>\n",
       "      <td>raskik</td>\n",
       "      <td>2019.0</td>\n",
       "      <td>None</td>\n",
       "      <td>fusion beverages</td>\n",
       "      <td>All new fusion-flavour fruit juices with the g...</td>\n",
       "      <td>Vikas Chawla, Abhay Parnerkar, Satyajit Ram</td>\n",
       "      <td>Venture Catalysts, 9Unicorns</td>\n",
       "      <td>1000000.0</td>\n",
       "      <td>Pre-series A</td>\n",
       "      <td>None</td>\n",
       "    </tr>\n",
       "    <tr>\n",
       "      <th>95</th>\n",
       "      <td>pravasirojgar</td>\n",
       "      <td>2020.0</td>\n",
       "      <td>None</td>\n",
       "      <td>job portal</td>\n",
       "      <td>Initiative for blue-collar job workers</td>\n",
       "      <td>Sonu Sood</td>\n",
       "      <td>GoodWorker.</td>\n",
       "      <td>33000000.0</td>\n",
       "      <td>None</td>\n",
       "      <td>None</td>\n",
       "    </tr>\n",
       "    <tr>\n",
       "      <th>121</th>\n",
       "      <td>kaagaz scanner</td>\n",
       "      <td>2020.0</td>\n",
       "      <td>None</td>\n",
       "      <td>scanning app</td>\n",
       "      <td>Kaagaz Scanner is the Indian replacement to ba...</td>\n",
       "      <td>Snehanshu Gandhi, Gaurav Shrishrimal</td>\n",
       "      <td>Pravega Ventures</td>\n",
       "      <td>575000.0</td>\n",
       "      <td>None</td>\n",
       "      <td>None</td>\n",
       "    </tr>\n",
       "    <tr>\n",
       "      <th>487</th>\n",
       "      <td>exprs</td>\n",
       "      <td>2018.0</td>\n",
       "      <td>None</td>\n",
       "      <td>nano distribution network</td>\n",
       "      <td>Nano Distribution Centres, enabling seamless c...</td>\n",
       "      <td>Srinivas Madhavam, Srikanth Rajashekhar, Rahul...</td>\n",
       "      <td>Sweta Rau, Sandeep Kapoor</td>\n",
       "      <td>5660000.0</td>\n",
       "      <td>None</td>\n",
       "      <td>None</td>\n",
       "    </tr>\n",
       "    <tr>\n",
       "      <th>...</th>\n",
       "      <td>...</td>\n",
       "      <td>...</td>\n",
       "      <td>...</td>\n",
       "      <td>...</td>\n",
       "      <td>...</td>\n",
       "      <td>...</td>\n",
       "      <td>...</td>\n",
       "      <td>...</td>\n",
       "      <td>...</td>\n",
       "      <td>...</td>\n",
       "    </tr>\n",
       "    <tr>\n",
       "      <th>1034</th>\n",
       "      <td>zomato</td>\n",
       "      <td>NaN</td>\n",
       "      <td>None</td>\n",
       "      <td>foodtech</td>\n",
       "      <td>Online food delivery and restaurant discovery ...</td>\n",
       "      <td>Deepinder Goyal</td>\n",
       "      <td>Ant Financial</td>\n",
       "      <td>150000000.0</td>\n",
       "      <td>None</td>\n",
       "      <td>None</td>\n",
       "    </tr>\n",
       "    <tr>\n",
       "      <th>1041</th>\n",
       "      <td>shiksha</td>\n",
       "      <td>2008.0</td>\n",
       "      <td>None</td>\n",
       "      <td>edtech</td>\n",
       "      <td>It makes college selection easy for students l...</td>\n",
       "      <td>Kanav Sachdeva</td>\n",
       "      <td>Mumbai Angels Network</td>\n",
       "      <td>181000.0</td>\n",
       "      <td>None</td>\n",
       "      <td>None</td>\n",
       "    </tr>\n",
       "    <tr>\n",
       "      <th>1045</th>\n",
       "      <td>xpressbees</td>\n",
       "      <td>2015.0</td>\n",
       "      <td>None</td>\n",
       "      <td>logistics</td>\n",
       "      <td>Provides end to end supply chain solutions</td>\n",
       "      <td>Supam Maheshwari, Amitava Saha</td>\n",
       "      <td>Alibaba</td>\n",
       "      <td>10000000.0</td>\n",
       "      <td>None</td>\n",
       "      <td>None</td>\n",
       "    </tr>\n",
       "    <tr>\n",
       "      <th>1047</th>\n",
       "      <td>wealth bucket</td>\n",
       "      <td>2018.0</td>\n",
       "      <td>None</td>\n",
       "      <td>fintech</td>\n",
       "      <td>An online platform for mutual fund investments</td>\n",
       "      <td>Himanshu Jain, Pulkit Jain</td>\n",
       "      <td>NorthStar, Vinod Khatumal</td>\n",
       "      <td>3000000.0</td>\n",
       "      <td>None</td>\n",
       "      <td>None</td>\n",
       "    </tr>\n",
       "    <tr>\n",
       "      <th>1051</th>\n",
       "      <td>epifi</td>\n",
       "      <td>NaN</td>\n",
       "      <td>None</td>\n",
       "      <td>fintech</td>\n",
       "      <td>It offers customers with a single interface fo...</td>\n",
       "      <td>Sujith Narayanan, Sumit Gwalani</td>\n",
       "      <td>Sequoia India, Ribbit Capital</td>\n",
       "      <td>13200000.0</td>\n",
       "      <td>Seed Round</td>\n",
       "      <td>None</td>\n",
       "    </tr>\n",
       "  </tbody>\n",
       "</table>\n",
       "<p>90 rows × 10 columns</p>\n",
       "</div>"
      ],
      "text/plain": [
       "       Company_Brand  Founded HeadQuarter                     Sector  \\\n",
       "87           habitat   2016.0        None                     edtech   \n",
       "92            raskik   2019.0        None           fusion beverages   \n",
       "95     pravasirojgar   2020.0        None                 job portal   \n",
       "121   kaagaz scanner   2020.0        None               scanning app   \n",
       "487            exprs   2018.0        None  nano distribution network   \n",
       "...              ...      ...         ...                        ...   \n",
       "1034          zomato      NaN        None                   foodtech   \n",
       "1041         shiksha   2008.0        None                     edtech   \n",
       "1045      xpressbees   2015.0        None                  logistics   \n",
       "1047   wealth bucket   2018.0        None                    fintech   \n",
       "1051           epifi      NaN        None                    fintech   \n",
       "\n",
       "                                           What_it_does  \\\n",
       "87    Habitat, a social learning edtech platform for...   \n",
       "92    All new fusion-flavour fruit juices with the g...   \n",
       "95               Initiative for blue-collar job workers   \n",
       "121   Kaagaz Scanner is the Indian replacement to ba...   \n",
       "487   Nano Distribution Centres, enabling seamless c...   \n",
       "...                                                 ...   \n",
       "1034  Online food delivery and restaurant discovery ...   \n",
       "1041  It makes college selection easy for students l...   \n",
       "1045         Provides end to end supply chain solutions   \n",
       "1047     An online platform for mutual fund investments   \n",
       "1051  It offers customers with a single interface fo...   \n",
       "\n",
       "                                               Founders  \\\n",
       "87                          Rohit Pande, Shikhar Sachan   \n",
       "92          Vikas Chawla, Abhay Parnerkar, Satyajit Ram   \n",
       "95                                            Sonu Sood   \n",
       "121                Snehanshu Gandhi, Gaurav Shrishrimal   \n",
       "487   Srinivas Madhavam, Srikanth Rajashekhar, Rahul...   \n",
       "...                                                 ...   \n",
       "1034                                    Deepinder Goyal   \n",
       "1041                                     Kanav Sachdeva   \n",
       "1045                     Supam Maheshwari, Amitava Saha   \n",
       "1047                         Himanshu Jain, Pulkit Jain   \n",
       "1051                    Sujith Narayanan, Sumit Gwalani   \n",
       "\n",
       "                                 Investor       Amount         Stage column10  \n",
       "87    Unitus Ventures, Whiteboard Capital     600000.0          Seed     None  \n",
       "92           Venture Catalysts, 9Unicorns    1000000.0  Pre-series A     None  \n",
       "95                            GoodWorker.   33000000.0          None     None  \n",
       "121                      Pravega Ventures     575000.0          None     None  \n",
       "487             Sweta Rau, Sandeep Kapoor    5660000.0          None     None  \n",
       "...                                   ...          ...           ...      ...  \n",
       "1034                        Ant Financial  150000000.0          None     None  \n",
       "1041                Mumbai Angels Network     181000.0          None     None  \n",
       "1045                              Alibaba   10000000.0          None     None  \n",
       "1047            NorthStar, Vinod Khatumal    3000000.0          None     None  \n",
       "1051        Sequoia India, Ribbit Capital   13200000.0    Seed Round     None  \n",
       "\n",
       "[90 rows x 10 columns]"
      ]
     },
     "execution_count": 13,
     "metadata": {},
     "output_type": "execute_result"
    }
   ],
   "source": [
    "# check null in HQ (HeadQuarter)\n",
    "\n",
    "result = df[df['HeadQuarter'].isnull()]\n",
    "result\n"
   ]
  },
  {
   "cell_type": "code",
   "execution_count": 14,
   "metadata": {},
   "outputs": [
    {
     "name": "stdout",
     "output_type": "stream",
     "text": [
      "The percentage of null values in 'HeadQuarter' column is: 9.17%\n"
     ]
    }
   ],
   "source": [
    "# check for % of null values in HQ\n",
    "\n",
    "\n",
    "column_name = 'HeadQuarter'\n",
    "total_rows = len(df)\n",
    "null_count = df['HeadQuarter'].isnull().sum()\n",
    "percentage_null = (null_count / total_rows) * 100\n",
    "\n",
    "\n",
    "\n",
    "print(f\"The percentage of null values in '{column_name}' column is: {percentage_null:.2f}%\")"
   ]
  },
  {
   "cell_type": "markdown",
   "metadata": {},
   "source": [
    "the null values in the HeadQuarter is ignored for it has no significant impact on analysis"
   ]
  },
  {
   "cell_type": "code",
   "execution_count": 15,
   "metadata": {},
   "outputs": [
    {
     "data": {
      "text/html": [
       "<div>\n",
       "<style scoped>\n",
       "    .dataframe tbody tr th:only-of-type {\n",
       "        vertical-align: middle;\n",
       "    }\n",
       "\n",
       "    .dataframe tbody tr th {\n",
       "        vertical-align: top;\n",
       "    }\n",
       "\n",
       "    .dataframe thead th {\n",
       "        text-align: right;\n",
       "    }\n",
       "</style>\n",
       "<table border=\"1\" class=\"dataframe\">\n",
       "  <thead>\n",
       "    <tr style=\"text-align: right;\">\n",
       "      <th></th>\n",
       "      <th>Company_Brand</th>\n",
       "      <th>Founded</th>\n",
       "      <th>HeadQuarter</th>\n",
       "      <th>Sector</th>\n",
       "      <th>What_it_does</th>\n",
       "      <th>Founders</th>\n",
       "      <th>Investor</th>\n",
       "      <th>Amount</th>\n",
       "      <th>Stage</th>\n",
       "    </tr>\n",
       "  </thead>\n",
       "  <tbody>\n",
       "    <tr>\n",
       "      <th>0</th>\n",
       "      <td>aqgromalin</td>\n",
       "      <td>2019.0</td>\n",
       "      <td>chennai</td>\n",
       "      <td>agritech</td>\n",
       "      <td>Cultivating Ideas for Profit</td>\n",
       "      <td>Prasanna Manogaran, Bharani C L</td>\n",
       "      <td>Angel investors</td>\n",
       "      <td>200000.0</td>\n",
       "      <td>None</td>\n",
       "    </tr>\n",
       "    <tr>\n",
       "      <th>1</th>\n",
       "      <td>krayonnz</td>\n",
       "      <td>2019.0</td>\n",
       "      <td>bangalore</td>\n",
       "      <td>edtech</td>\n",
       "      <td>An academy-guardian-scholar centric ecosystem ...</td>\n",
       "      <td>Saurabh Dixit, Gurudutt Upadhyay</td>\n",
       "      <td>GSF Accelerator</td>\n",
       "      <td>100000.0</td>\n",
       "      <td>Pre-seed</td>\n",
       "    </tr>\n",
       "    <tr>\n",
       "      <th>2</th>\n",
       "      <td>padcare labs</td>\n",
       "      <td>2018.0</td>\n",
       "      <td>pune</td>\n",
       "      <td>hygiene management</td>\n",
       "      <td>Converting bio-hazardous waste to harmless waste</td>\n",
       "      <td>Ajinkya Dhariya</td>\n",
       "      <td>Venture Center</td>\n",
       "      <td>NaN</td>\n",
       "      <td>Pre-seed</td>\n",
       "    </tr>\n",
       "    <tr>\n",
       "      <th>3</th>\n",
       "      <td>ncome</td>\n",
       "      <td>2020.0</td>\n",
       "      <td>new delhi</td>\n",
       "      <td>escrow</td>\n",
       "      <td>Escrow-as-a-service platform</td>\n",
       "      <td>Ritesh Tiwari</td>\n",
       "      <td>Venture Catalysts, PointOne Capital</td>\n",
       "      <td>400000.0</td>\n",
       "      <td>None</td>\n",
       "    </tr>\n",
       "    <tr>\n",
       "      <th>4</th>\n",
       "      <td>gramophone</td>\n",
       "      <td>2016.0</td>\n",
       "      <td>indore</td>\n",
       "      <td>agritech</td>\n",
       "      <td>Gramophone is an AgTech platform enabling acce...</td>\n",
       "      <td>Ashish Rajan Singh, Harshit Gupta, Nishant Mah...</td>\n",
       "      <td>Siana Capital Management, Info Edge</td>\n",
       "      <td>340000.0</td>\n",
       "      <td>None</td>\n",
       "    </tr>\n",
       "    <tr>\n",
       "      <th>...</th>\n",
       "      <td>...</td>\n",
       "      <td>...</td>\n",
       "      <td>...</td>\n",
       "      <td>...</td>\n",
       "      <td>...</td>\n",
       "      <td>...</td>\n",
       "      <td>...</td>\n",
       "      <td>...</td>\n",
       "      <td>...</td>\n",
       "    </tr>\n",
       "    <tr>\n",
       "      <th>1049</th>\n",
       "      <td>fashor</td>\n",
       "      <td>2017.0</td>\n",
       "      <td>chennai</td>\n",
       "      <td>fashion</td>\n",
       "      <td>Women’s fashion and apparel</td>\n",
       "      <td>Vikram Kankaria, Priyanka Kankaria</td>\n",
       "      <td>Sprout venture partners</td>\n",
       "      <td>1000000.0</td>\n",
       "      <td>Pre Series A</td>\n",
       "    </tr>\n",
       "    <tr>\n",
       "      <th>1050</th>\n",
       "      <td>leverage edu</td>\n",
       "      <td>NaN</td>\n",
       "      <td>delhi</td>\n",
       "      <td>edtech</td>\n",
       "      <td>AI enabled marketplace that provides career gu...</td>\n",
       "      <td>Akshay Chaturvedi</td>\n",
       "      <td>DSG Consumer Partners, Blume Ventures</td>\n",
       "      <td>1500000.0</td>\n",
       "      <td>None</td>\n",
       "    </tr>\n",
       "    <tr>\n",
       "      <th>1051</th>\n",
       "      <td>epifi</td>\n",
       "      <td>NaN</td>\n",
       "      <td>None</td>\n",
       "      <td>fintech</td>\n",
       "      <td>It offers customers with a single interface fo...</td>\n",
       "      <td>Sujith Narayanan, Sumit Gwalani</td>\n",
       "      <td>Sequoia India, Ribbit Capital</td>\n",
       "      <td>13200000.0</td>\n",
       "      <td>Seed Round</td>\n",
       "    </tr>\n",
       "    <tr>\n",
       "      <th>1052</th>\n",
       "      <td>purplle</td>\n",
       "      <td>2012.0</td>\n",
       "      <td>mumbai</td>\n",
       "      <td>cosmetics</td>\n",
       "      <td>Online makeup and beauty products retailer</td>\n",
       "      <td>Manish Taneja, Rahul Dash</td>\n",
       "      <td>Verlinvest</td>\n",
       "      <td>8000000.0</td>\n",
       "      <td>None</td>\n",
       "    </tr>\n",
       "    <tr>\n",
       "      <th>1054</th>\n",
       "      <td>pando</td>\n",
       "      <td>2017.0</td>\n",
       "      <td>chennai</td>\n",
       "      <td>logitech</td>\n",
       "      <td>Networked logistics management software</td>\n",
       "      <td>Jayakrishnan, Abhijeet Manohar</td>\n",
       "      <td>Chiratae Ventures</td>\n",
       "      <td>9000000.0</td>\n",
       "      <td>Series A</td>\n",
       "    </tr>\n",
       "  </tbody>\n",
       "</table>\n",
       "<p>981 rows × 9 columns</p>\n",
       "</div>"
      ],
      "text/plain": [
       "     Company_Brand  Founded HeadQuarter              Sector  \\\n",
       "0       aqgromalin   2019.0     chennai            agritech   \n",
       "1         krayonnz   2019.0   bangalore              edtech   \n",
       "2     padcare labs   2018.0        pune  hygiene management   \n",
       "3            ncome   2020.0   new delhi              escrow   \n",
       "4       gramophone   2016.0      indore            agritech   \n",
       "...            ...      ...         ...                 ...   \n",
       "1049        fashor   2017.0     chennai             fashion   \n",
       "1050  leverage edu      NaN       delhi              edtech   \n",
       "1051         epifi      NaN        None             fintech   \n",
       "1052       purplle   2012.0      mumbai           cosmetics   \n",
       "1054         pando   2017.0     chennai            logitech   \n",
       "\n",
       "                                           What_it_does  \\\n",
       "0                          Cultivating Ideas for Profit   \n",
       "1     An academy-guardian-scholar centric ecosystem ...   \n",
       "2      Converting bio-hazardous waste to harmless waste   \n",
       "3                          Escrow-as-a-service platform   \n",
       "4     Gramophone is an AgTech platform enabling acce...   \n",
       "...                                                 ...   \n",
       "1049                        Women’s fashion and apparel   \n",
       "1050  AI enabled marketplace that provides career gu...   \n",
       "1051  It offers customers with a single interface fo...   \n",
       "1052         Online makeup and beauty products retailer   \n",
       "1054            Networked logistics management software   \n",
       "\n",
       "                                               Founders  \\\n",
       "0                       Prasanna Manogaran, Bharani C L   \n",
       "1                      Saurabh Dixit, Gurudutt Upadhyay   \n",
       "2                                       Ajinkya Dhariya   \n",
       "3                                         Ritesh Tiwari   \n",
       "4     Ashish Rajan Singh, Harshit Gupta, Nishant Mah...   \n",
       "...                                                 ...   \n",
       "1049                 Vikram Kankaria, Priyanka Kankaria   \n",
       "1050                                  Akshay Chaturvedi   \n",
       "1051                    Sujith Narayanan, Sumit Gwalani   \n",
       "1052                          Manish Taneja, Rahul Dash   \n",
       "1054                     Jayakrishnan, Abhijeet Manohar   \n",
       "\n",
       "                                   Investor      Amount         Stage  \n",
       "0                           Angel investors    200000.0          None  \n",
       "1                           GSF Accelerator    100000.0      Pre-seed  \n",
       "2                            Venture Center         NaN      Pre-seed  \n",
       "3       Venture Catalysts, PointOne Capital    400000.0          None  \n",
       "4       Siana Capital Management, Info Edge    340000.0          None  \n",
       "...                                     ...         ...           ...  \n",
       "1049                Sprout venture partners   1000000.0  Pre Series A  \n",
       "1050  DSG Consumer Partners, Blume Ventures   1500000.0          None  \n",
       "1051          Sequoia India, Ribbit Capital  13200000.0    Seed Round  \n",
       "1052                             Verlinvest   8000000.0          None  \n",
       "1054                      Chiratae Ventures   9000000.0      Series A  \n",
       "\n",
       "[981 rows x 9 columns]"
      ]
     },
     "execution_count": 15,
     "metadata": {},
     "output_type": "execute_result"
    }
   ],
   "source": [
    "# drop 'column10'from data\n",
    "\n",
    "df= df.drop('column10', axis=1)\n",
    "df"
   ]
  },
  {
   "cell_type": "code",
   "execution_count": 16,
   "metadata": {},
   "outputs": [
    {
     "name": "stdout",
     "output_type": "stream",
     "text": [
      "<class 'pandas.core.frame.DataFrame'>\n",
      "Index: 981 entries, 0 to 1054\n",
      "Data columns (total 9 columns):\n",
      " #   Column         Non-Null Count  Dtype  \n",
      "---  ------         --------------  -----  \n",
      " 0   Company_Brand  981 non-null    object \n",
      " 1   Founded        789 non-null    float64\n",
      " 2   HeadQuarter    891 non-null    object \n",
      " 3   Sector         969 non-null    object \n",
      " 4   What_it_does   981 non-null    object \n",
      " 5   Founders       969 non-null    object \n",
      " 6   Investor       943 non-null    object \n",
      " 7   Amount         735 non-null    float64\n",
      " 8   Stage          552 non-null    object \n",
      "dtypes: float64(2), object(7)\n",
      "memory usage: 76.6+ KB\n"
     ]
    }
   ],
   "source": [
    "df.info()"
   ]
  },
  {
   "cell_type": "code",
   "execution_count": 17,
   "metadata": {},
   "outputs": [
    {
     "data": {
      "text/html": [
       "<div>\n",
       "<style scoped>\n",
       "    .dataframe tbody tr th:only-of-type {\n",
       "        vertical-align: middle;\n",
       "    }\n",
       "\n",
       "    .dataframe tbody tr th {\n",
       "        vertical-align: top;\n",
       "    }\n",
       "\n",
       "    .dataframe thead th {\n",
       "        text-align: right;\n",
       "    }\n",
       "</style>\n",
       "<table border=\"1\" class=\"dataframe\">\n",
       "  <thead>\n",
       "    <tr style=\"text-align: right;\">\n",
       "      <th></th>\n",
       "      <th>Company_Brand</th>\n",
       "      <th>Founded</th>\n",
       "      <th>HeadQuarter</th>\n",
       "      <th>Sector</th>\n",
       "      <th>What_it_does</th>\n",
       "      <th>Founders</th>\n",
       "      <th>Investor</th>\n",
       "      <th>Amount</th>\n",
       "      <th>Stage</th>\n",
       "    </tr>\n",
       "  </thead>\n",
       "  <tbody>\n",
       "    <tr>\n",
       "      <th>0</th>\n",
       "      <td>aqgromalin</td>\n",
       "      <td>2019.0</td>\n",
       "      <td>chennai</td>\n",
       "      <td>agritech</td>\n",
       "      <td>Cultivating Ideas for Profit</td>\n",
       "      <td>Prasanna Manogaran, Bharani C L</td>\n",
       "      <td>Angel investors</td>\n",
       "      <td>200000.0</td>\n",
       "      <td>None</td>\n",
       "    </tr>\n",
       "    <tr>\n",
       "      <th>1</th>\n",
       "      <td>krayonnz</td>\n",
       "      <td>2019.0</td>\n",
       "      <td>bangalore</td>\n",
       "      <td>edtech</td>\n",
       "      <td>An academy-guardian-scholar centric ecosystem ...</td>\n",
       "      <td>Saurabh Dixit, Gurudutt Upadhyay</td>\n",
       "      <td>GSF Accelerator</td>\n",
       "      <td>100000.0</td>\n",
       "      <td>Pre-seed</td>\n",
       "    </tr>\n",
       "    <tr>\n",
       "      <th>2</th>\n",
       "      <td>padcare labs</td>\n",
       "      <td>2018.0</td>\n",
       "      <td>pune</td>\n",
       "      <td>hygiene management</td>\n",
       "      <td>Converting bio-hazardous waste to harmless waste</td>\n",
       "      <td>Ajinkya Dhariya</td>\n",
       "      <td>Venture Center</td>\n",
       "      <td>NaN</td>\n",
       "      <td>Pre-seed</td>\n",
       "    </tr>\n",
       "    <tr>\n",
       "      <th>3</th>\n",
       "      <td>ncome</td>\n",
       "      <td>2020.0</td>\n",
       "      <td>new delhi</td>\n",
       "      <td>escrow</td>\n",
       "      <td>Escrow-as-a-service platform</td>\n",
       "      <td>Ritesh Tiwari</td>\n",
       "      <td>Venture Catalysts, PointOne Capital</td>\n",
       "      <td>400000.0</td>\n",
       "      <td>None</td>\n",
       "    </tr>\n",
       "    <tr>\n",
       "      <th>4</th>\n",
       "      <td>gramophone</td>\n",
       "      <td>2016.0</td>\n",
       "      <td>indore</td>\n",
       "      <td>agritech</td>\n",
       "      <td>Gramophone is an AgTech platform enabling acce...</td>\n",
       "      <td>Ashish Rajan Singh, Harshit Gupta, Nishant Mah...</td>\n",
       "      <td>Siana Capital Management, Info Edge</td>\n",
       "      <td>340000.0</td>\n",
       "      <td>None</td>\n",
       "    </tr>\n",
       "    <tr>\n",
       "      <th>...</th>\n",
       "      <td>...</td>\n",
       "      <td>...</td>\n",
       "      <td>...</td>\n",
       "      <td>...</td>\n",
       "      <td>...</td>\n",
       "      <td>...</td>\n",
       "      <td>...</td>\n",
       "      <td>...</td>\n",
       "      <td>...</td>\n",
       "    </tr>\n",
       "    <tr>\n",
       "      <th>1049</th>\n",
       "      <td>fashor</td>\n",
       "      <td>2017.0</td>\n",
       "      <td>chennai</td>\n",
       "      <td>fashion</td>\n",
       "      <td>Women’s fashion and apparel</td>\n",
       "      <td>Vikram Kankaria, Priyanka Kankaria</td>\n",
       "      <td>Sprout venture partners</td>\n",
       "      <td>1000000.0</td>\n",
       "      <td>Pre Series A</td>\n",
       "    </tr>\n",
       "    <tr>\n",
       "      <th>1050</th>\n",
       "      <td>leverage edu</td>\n",
       "      <td>NaN</td>\n",
       "      <td>delhi</td>\n",
       "      <td>edtech</td>\n",
       "      <td>AI enabled marketplace that provides career gu...</td>\n",
       "      <td>Akshay Chaturvedi</td>\n",
       "      <td>DSG Consumer Partners, Blume Ventures</td>\n",
       "      <td>1500000.0</td>\n",
       "      <td>None</td>\n",
       "    </tr>\n",
       "    <tr>\n",
       "      <th>1051</th>\n",
       "      <td>epifi</td>\n",
       "      <td>NaN</td>\n",
       "      <td>None</td>\n",
       "      <td>fintech</td>\n",
       "      <td>It offers customers with a single interface fo...</td>\n",
       "      <td>Sujith Narayanan, Sumit Gwalani</td>\n",
       "      <td>Sequoia India, Ribbit Capital</td>\n",
       "      <td>13200000.0</td>\n",
       "      <td>Seed Round</td>\n",
       "    </tr>\n",
       "    <tr>\n",
       "      <th>1052</th>\n",
       "      <td>purplle</td>\n",
       "      <td>2012.0</td>\n",
       "      <td>mumbai</td>\n",
       "      <td>cosmetics</td>\n",
       "      <td>Online makeup and beauty products retailer</td>\n",
       "      <td>Manish Taneja, Rahul Dash</td>\n",
       "      <td>Verlinvest</td>\n",
       "      <td>8000000.0</td>\n",
       "      <td>None</td>\n",
       "    </tr>\n",
       "    <tr>\n",
       "      <th>1054</th>\n",
       "      <td>pando</td>\n",
       "      <td>2017.0</td>\n",
       "      <td>chennai</td>\n",
       "      <td>logitech</td>\n",
       "      <td>Networked logistics management software</td>\n",
       "      <td>Jayakrishnan, Abhijeet Manohar</td>\n",
       "      <td>Chiratae Ventures</td>\n",
       "      <td>9000000.0</td>\n",
       "      <td>Series A</td>\n",
       "    </tr>\n",
       "  </tbody>\n",
       "</table>\n",
       "<p>981 rows × 9 columns</p>\n",
       "</div>"
      ],
      "text/plain": [
       "     Company_Brand  Founded HeadQuarter              Sector  \\\n",
       "0       aqgromalin   2019.0     chennai            agritech   \n",
       "1         krayonnz   2019.0   bangalore              edtech   \n",
       "2     padcare labs   2018.0        pune  hygiene management   \n",
       "3            ncome   2020.0   new delhi              escrow   \n",
       "4       gramophone   2016.0      indore            agritech   \n",
       "...            ...      ...         ...                 ...   \n",
       "1049        fashor   2017.0     chennai             fashion   \n",
       "1050  leverage edu      NaN       delhi              edtech   \n",
       "1051         epifi      NaN        None             fintech   \n",
       "1052       purplle   2012.0      mumbai           cosmetics   \n",
       "1054         pando   2017.0     chennai            logitech   \n",
       "\n",
       "                                           What_it_does  \\\n",
       "0                          Cultivating Ideas for Profit   \n",
       "1     An academy-guardian-scholar centric ecosystem ...   \n",
       "2      Converting bio-hazardous waste to harmless waste   \n",
       "3                          Escrow-as-a-service platform   \n",
       "4     Gramophone is an AgTech platform enabling acce...   \n",
       "...                                                 ...   \n",
       "1049                        Women’s fashion and apparel   \n",
       "1050  AI enabled marketplace that provides career gu...   \n",
       "1051  It offers customers with a single interface fo...   \n",
       "1052         Online makeup and beauty products retailer   \n",
       "1054            Networked logistics management software   \n",
       "\n",
       "                                               Founders  \\\n",
       "0                       Prasanna Manogaran, Bharani C L   \n",
       "1                      Saurabh Dixit, Gurudutt Upadhyay   \n",
       "2                                       Ajinkya Dhariya   \n",
       "3                                         Ritesh Tiwari   \n",
       "4     Ashish Rajan Singh, Harshit Gupta, Nishant Mah...   \n",
       "...                                                 ...   \n",
       "1049                 Vikram Kankaria, Priyanka Kankaria   \n",
       "1050                                  Akshay Chaturvedi   \n",
       "1051                    Sujith Narayanan, Sumit Gwalani   \n",
       "1052                          Manish Taneja, Rahul Dash   \n",
       "1054                     Jayakrishnan, Abhijeet Manohar   \n",
       "\n",
       "                                   Investor      Amount         Stage  \n",
       "0                           Angel investors    200000.0          None  \n",
       "1                           GSF Accelerator    100000.0      Pre-seed  \n",
       "2                            Venture Center         NaN      Pre-seed  \n",
       "3       Venture Catalysts, PointOne Capital    400000.0          None  \n",
       "4       Siana Capital Management, Info Edge    340000.0          None  \n",
       "...                                     ...         ...           ...  \n",
       "1049                Sprout venture partners   1000000.0  Pre Series A  \n",
       "1050  DSG Consumer Partners, Blume Ventures   1500000.0          None  \n",
       "1051          Sequoia India, Ribbit Capital  13200000.0    Seed Round  \n",
       "1052                             Verlinvest   8000000.0          None  \n",
       "1054                      Chiratae Ventures   9000000.0      Series A  \n",
       "\n",
       "[981 rows x 9 columns]"
      ]
     },
     "execution_count": 17,
     "metadata": {},
     "output_type": "execute_result"
    }
   ],
   "source": [
    "# change column name' What it does' to  What_it_does\n",
    "df = df.rename(columns={ 'What it does':' What_it_does'})\n",
    "df"
   ]
  },
  {
   "cell_type": "markdown",
   "metadata": {},
   "source": [
    "first data set has 9 columns and 981 entries now"
   ]
  },
  {
   "cell_type": "code",
   "execution_count": 18,
   "metadata": {},
   "outputs": [
    {
     "data": {
      "text/html": [
       "<div>\n",
       "<style scoped>\n",
       "    .dataframe tbody tr th:only-of-type {\n",
       "        vertical-align: middle;\n",
       "    }\n",
       "\n",
       "    .dataframe tbody tr th {\n",
       "        vertical-align: top;\n",
       "    }\n",
       "\n",
       "    .dataframe thead th {\n",
       "        text-align: right;\n",
       "    }\n",
       "</style>\n",
       "<table border=\"1\" class=\"dataframe\">\n",
       "  <thead>\n",
       "    <tr style=\"text-align: right;\">\n",
       "      <th></th>\n",
       "      <th>Company_Brand</th>\n",
       "      <th>Founded</th>\n",
       "      <th>HeadQuarter</th>\n",
       "      <th>Sector</th>\n",
       "      <th>What_it_does</th>\n",
       "      <th>Founders</th>\n",
       "      <th>Investor</th>\n",
       "      <th>Amount</th>\n",
       "      <th>Stage</th>\n",
       "    </tr>\n",
       "  </thead>\n",
       "  <tbody>\n",
       "    <tr>\n",
       "      <th>2</th>\n",
       "      <td>padcare labs</td>\n",
       "      <td>2018.0</td>\n",
       "      <td>pune</td>\n",
       "      <td>hygiene management</td>\n",
       "      <td>Converting bio-hazardous waste to harmless waste</td>\n",
       "      <td>Ajinkya Dhariya</td>\n",
       "      <td>Venture Center</td>\n",
       "      <td>NaN</td>\n",
       "      <td>Pre-seed</td>\n",
       "    </tr>\n",
       "    <tr>\n",
       "      <th>7</th>\n",
       "      <td>metvy</td>\n",
       "      <td>2018.0</td>\n",
       "      <td>gurgaon</td>\n",
       "      <td>networking platform</td>\n",
       "      <td>AI driven networking platform for individuals ...</td>\n",
       "      <td>Shawrya Mehrotra</td>\n",
       "      <td>HostelFund</td>\n",
       "      <td>NaN</td>\n",
       "      <td>Pre-series</td>\n",
       "    </tr>\n",
       "    <tr>\n",
       "      <th>11</th>\n",
       "      <td>medfin</td>\n",
       "      <td>2017.0</td>\n",
       "      <td>bangalore</td>\n",
       "      <td>healthtech</td>\n",
       "      <td>Medfin is a Discovery platform for medical pro...</td>\n",
       "      <td>Arjun Kumar, Arun Kumar, Sidharth Gurjar</td>\n",
       "      <td>Axilor Ventures, S.D. Shibulal</td>\n",
       "      <td>NaN</td>\n",
       "      <td>Series A</td>\n",
       "    </tr>\n",
       "    <tr>\n",
       "      <th>12</th>\n",
       "      <td>masterg</td>\n",
       "      <td>2015.0</td>\n",
       "      <td>new delhi</td>\n",
       "      <td>fashion startup</td>\n",
       "      <td>MasterG is a design and skill development orga...</td>\n",
       "      <td>Gayatri Jolly</td>\n",
       "      <td>Acumen Fund's angel programme</td>\n",
       "      <td>NaN</td>\n",
       "      <td>None</td>\n",
       "    </tr>\n",
       "    <tr>\n",
       "      <th>18</th>\n",
       "      <td>pine labs</td>\n",
       "      <td>1998.0</td>\n",
       "      <td>noida</td>\n",
       "      <td>fintech</td>\n",
       "      <td>A merchant platform company that provides fina...</td>\n",
       "      <td>Amrish Rau</td>\n",
       "      <td>Mastercard, Temasek Holdings</td>\n",
       "      <td>NaN</td>\n",
       "      <td>None</td>\n",
       "    </tr>\n",
       "    <tr>\n",
       "      <th>20</th>\n",
       "      <td>ewar</td>\n",
       "      <td>2019.0</td>\n",
       "      <td>bangalore</td>\n",
       "      <td>gaming</td>\n",
       "      <td>EWar Games is a e-sports and real-time gaming ...</td>\n",
       "      <td>Parth Chadha, Rahul Singh</td>\n",
       "      <td>Jindal Steels, Jeet Banerjee</td>\n",
       "      <td>NaN</td>\n",
       "      <td>Pre-series A</td>\n",
       "    </tr>\n",
       "    <tr>\n",
       "      <th>28</th>\n",
       "      <td>voosh</td>\n",
       "      <td>2020.0</td>\n",
       "      <td>bangalore</td>\n",
       "      <td>food industry</td>\n",
       "      <td>Building India's largest digital food service ...</td>\n",
       "      <td>Priyam Saraswat</td>\n",
       "      <td>Better Capital</td>\n",
       "      <td>NaN</td>\n",
       "      <td>Pre-seed</td>\n",
       "    </tr>\n",
       "    <tr>\n",
       "      <th>29</th>\n",
       "      <td>delhivery</td>\n",
       "      <td>2011.0</td>\n",
       "      <td>gurgaon</td>\n",
       "      <td>e-commerce</td>\n",
       "      <td>Delhivery is a supply chain services company t...</td>\n",
       "      <td>Kapil Bharati, Mohit Tandon, Sahil Barua, Sura...</td>\n",
       "      <td>Steadview Capital, Canada Pension Plan Investm...</td>\n",
       "      <td>NaN</td>\n",
       "      <td>None</td>\n",
       "    </tr>\n",
       "    <tr>\n",
       "      <th>35</th>\n",
       "      <td>hudle</td>\n",
       "      <td>2016.0</td>\n",
       "      <td>new delhi</td>\n",
       "      <td>sports</td>\n",
       "      <td>Hudle is a sports &amp; fitness discovery &amp; bookin...</td>\n",
       "      <td>Suhail Narain</td>\n",
       "      <td>Survam Partners</td>\n",
       "      <td>NaN</td>\n",
       "      <td>Pre-series A</td>\n",
       "    </tr>\n",
       "    <tr>\n",
       "      <th>40</th>\n",
       "      <td>fleeca india</td>\n",
       "      <td>2016.0</td>\n",
       "      <td>jaipur</td>\n",
       "      <td>tyre management</td>\n",
       "      <td>FLEECA is a Tyre Care Provider company.</td>\n",
       "      <td>Tikam Jain</td>\n",
       "      <td>Bridgestone India</td>\n",
       "      <td>NaN</td>\n",
       "      <td>None</td>\n",
       "    </tr>\n",
       "    <tr>\n",
       "      <th>44</th>\n",
       "      <td>pointone capital</td>\n",
       "      <td>2020.0</td>\n",
       "      <td>bangalore</td>\n",
       "      <td>venture capitalist</td>\n",
       "      <td>Pre-seed/Seed focussed VC investor</td>\n",
       "      <td>Mihir Jha</td>\n",
       "      <td>None</td>\n",
       "      <td>NaN</td>\n",
       "      <td>None</td>\n",
       "    </tr>\n",
       "    <tr>\n",
       "      <th>47</th>\n",
       "      <td>tinker coders</td>\n",
       "      <td>2020.0</td>\n",
       "      <td>noida</td>\n",
       "      <td>edtech</td>\n",
       "      <td>Tinker Coder is a LIVE Online Platform through...</td>\n",
       "      <td>Anoop Gautam</td>\n",
       "      <td>STEMROBO Technologies</td>\n",
       "      <td>NaN</td>\n",
       "      <td>Seed</td>\n",
       "    </tr>\n",
       "    <tr>\n",
       "      <th>52</th>\n",
       "      <td>neodocs</td>\n",
       "      <td>2020.0</td>\n",
       "      <td>mumbai</td>\n",
       "      <td>healthtech</td>\n",
       "      <td>Neodocs analyses medical reports and provides ...</td>\n",
       "      <td>Anurag Meena, Nikunj Malpani, Pratik Lodha</td>\n",
       "      <td>9Unicorns Accelerator Fund</td>\n",
       "      <td>NaN</td>\n",
       "      <td>Pre-seed</td>\n",
       "    </tr>\n",
       "    <tr>\n",
       "      <th>53</th>\n",
       "      <td>the eplane</td>\n",
       "      <td>2016.0</td>\n",
       "      <td>chennai</td>\n",
       "      <td>aero company</td>\n",
       "      <td>Transforming the mobility landscape using aeri...</td>\n",
       "      <td>Satya Chakravarthy, Pranjal Mehta</td>\n",
       "      <td>Speciale Invest</td>\n",
       "      <td>NaN</td>\n",
       "      <td>Seed</td>\n",
       "    </tr>\n",
       "    <tr>\n",
       "      <th>61</th>\n",
       "      <td>swipez</td>\n",
       "      <td>2014.0</td>\n",
       "      <td>pune</td>\n",
       "      <td>fintech</td>\n",
       "      <td>Swipez is a payment collection platform.</td>\n",
       "      <td>Vivek Iyer</td>\n",
       "      <td>9Unicorns, Anicut</td>\n",
       "      <td>NaN</td>\n",
       "      <td>None</td>\n",
       "    </tr>\n",
       "    <tr>\n",
       "      <th>62</th>\n",
       "      <td>humus</td>\n",
       "      <td>2019.0</td>\n",
       "      <td>bangalore</td>\n",
       "      <td>agritech</td>\n",
       "      <td>Farmgate to Retail outlet Agri-Fresh produce s...</td>\n",
       "      <td>Manjunatha T N, Shilpa Gopalaiah</td>\n",
       "      <td>Venture Catalysts, 9Unicorns, We Founders Circle.</td>\n",
       "      <td>NaN</td>\n",
       "      <td>None</td>\n",
       "    </tr>\n",
       "    <tr>\n",
       "      <th>63</th>\n",
       "      <td>artivatic.ai</td>\n",
       "      <td>2017.0</td>\n",
       "      <td>bangalore</td>\n",
       "      <td>tech company</td>\n",
       "      <td>Artivatic's patent pending technology solves c...</td>\n",
       "      <td>Layak Singh</td>\n",
       "      <td>SenseAI Ventures, Saurabh Chugh</td>\n",
       "      <td>NaN</td>\n",
       "      <td>None</td>\n",
       "    </tr>\n",
       "    <tr>\n",
       "      <th>64</th>\n",
       "      <td>prescinto</td>\n",
       "      <td>2016.0</td>\n",
       "      <td>ahmedabad</td>\n",
       "      <td>solar monitoring company</td>\n",
       "      <td>Prescinto provides solutions for solar monitor...</td>\n",
       "      <td>Puneet Singh Jaggi, Sanjay Bhasin, Ram Menon</td>\n",
       "      <td>Startup incubator, Accelerator Venture Catalysts</td>\n",
       "      <td>NaN</td>\n",
       "      <td>Seed</td>\n",
       "    </tr>\n",
       "    <tr>\n",
       "      <th>65</th>\n",
       "      <td>toppeq</td>\n",
       "      <td>2019.0</td>\n",
       "      <td>mumbai</td>\n",
       "      <td>saas startup</td>\n",
       "      <td>SaaS-based equity management platform</td>\n",
       "      <td>Nandini Sankar</td>\n",
       "      <td>None</td>\n",
       "      <td>NaN</td>\n",
       "      <td>Seed</td>\n",
       "    </tr>\n",
       "    <tr>\n",
       "      <th>68</th>\n",
       "      <td>freshtohome</td>\n",
       "      <td>2015.0</td>\n",
       "      <td>bangalore</td>\n",
       "      <td>e-commerce</td>\n",
       "      <td>Freshtohome is an e-commerce platform for fres...</td>\n",
       "      <td>Shan Kadavil</td>\n",
       "      <td>Investment Corporation of Dubai (ICD)</td>\n",
       "      <td>NaN</td>\n",
       "      <td>None</td>\n",
       "    </tr>\n",
       "  </tbody>\n",
       "</table>\n",
       "</div>"
      ],
      "text/plain": [
       "       Company_Brand  Founded HeadQuarter                    Sector  \\\n",
       "2       padcare labs   2018.0        pune        hygiene management   \n",
       "7              metvy   2018.0     gurgaon       networking platform   \n",
       "11            medfin   2017.0   bangalore                healthtech   \n",
       "12           masterg   2015.0   new delhi           fashion startup   \n",
       "18         pine labs   1998.0       noida                   fintech   \n",
       "20              ewar   2019.0   bangalore                    gaming   \n",
       "28             voosh   2020.0   bangalore             food industry   \n",
       "29         delhivery   2011.0     gurgaon                e-commerce   \n",
       "35             hudle   2016.0   new delhi                    sports   \n",
       "40      fleeca india   2016.0      jaipur           tyre management   \n",
       "44  pointone capital   2020.0   bangalore        venture capitalist   \n",
       "47     tinker coders   2020.0       noida                    edtech   \n",
       "52           neodocs   2020.0      mumbai                healthtech   \n",
       "53        the eplane   2016.0     chennai              aero company   \n",
       "61            swipez   2014.0        pune                   fintech   \n",
       "62             humus   2019.0   bangalore                  agritech   \n",
       "63      artivatic.ai   2017.0   bangalore              tech company   \n",
       "64         prescinto   2016.0   ahmedabad  solar monitoring company   \n",
       "65            toppeq   2019.0      mumbai              saas startup   \n",
       "68       freshtohome   2015.0   bangalore                e-commerce   \n",
       "\n",
       "                                         What_it_does  \\\n",
       "2    Converting bio-hazardous waste to harmless waste   \n",
       "7   AI driven networking platform for individuals ...   \n",
       "11  Medfin is a Discovery platform for medical pro...   \n",
       "12  MasterG is a design and skill development orga...   \n",
       "18  A merchant platform company that provides fina...   \n",
       "20  EWar Games is a e-sports and real-time gaming ...   \n",
       "28  Building India's largest digital food service ...   \n",
       "29  Delhivery is a supply chain services company t...   \n",
       "35  Hudle is a sports & fitness discovery & bookin...   \n",
       "40            FLEECA is a Tyre Care Provider company.   \n",
       "44                 Pre-seed/Seed focussed VC investor   \n",
       "47  Tinker Coder is a LIVE Online Platform through...   \n",
       "52  Neodocs analyses medical reports and provides ...   \n",
       "53  Transforming the mobility landscape using aeri...   \n",
       "61           Swipez is a payment collection platform.   \n",
       "62  Farmgate to Retail outlet Agri-Fresh produce s...   \n",
       "63  Artivatic's patent pending technology solves c...   \n",
       "64  Prescinto provides solutions for solar monitor...   \n",
       "65              SaaS-based equity management platform   \n",
       "68  Freshtohome is an e-commerce platform for fres...   \n",
       "\n",
       "                                             Founders  \\\n",
       "2                                     Ajinkya Dhariya   \n",
       "7                                    Shawrya Mehrotra   \n",
       "11           Arjun Kumar, Arun Kumar, Sidharth Gurjar   \n",
       "12                                      Gayatri Jolly   \n",
       "18                                         Amrish Rau   \n",
       "20                          Parth Chadha, Rahul Singh   \n",
       "28                                    Priyam Saraswat   \n",
       "29  Kapil Bharati, Mohit Tandon, Sahil Barua, Sura...   \n",
       "35                                      Suhail Narain   \n",
       "40                                         Tikam Jain   \n",
       "44                                          Mihir Jha   \n",
       "47                                       Anoop Gautam   \n",
       "52         Anurag Meena, Nikunj Malpani, Pratik Lodha   \n",
       "53                  Satya Chakravarthy, Pranjal Mehta   \n",
       "61                                         Vivek Iyer   \n",
       "62                   Manjunatha T N, Shilpa Gopalaiah   \n",
       "63                                        Layak Singh   \n",
       "64       Puneet Singh Jaggi, Sanjay Bhasin, Ram Menon   \n",
       "65                                     Nandini Sankar   \n",
       "68                                       Shan Kadavil   \n",
       "\n",
       "                                             Investor  Amount         Stage  \n",
       "2                                      Venture Center     NaN      Pre-seed  \n",
       "7                                          HostelFund     NaN    Pre-series  \n",
       "11                     Axilor Ventures, S.D. Shibulal     NaN      Series A  \n",
       "12                      Acumen Fund's angel programme     NaN          None  \n",
       "18                       Mastercard, Temasek Holdings     NaN          None  \n",
       "20                       Jindal Steels, Jeet Banerjee     NaN  Pre-series A  \n",
       "28                                     Better Capital     NaN      Pre-seed  \n",
       "29  Steadview Capital, Canada Pension Plan Investm...     NaN          None  \n",
       "35                                    Survam Partners     NaN  Pre-series A  \n",
       "40                                  Bridgestone India     NaN          None  \n",
       "44                                               None     NaN          None  \n",
       "47                              STEMROBO Technologies     NaN          Seed  \n",
       "52                         9Unicorns Accelerator Fund     NaN      Pre-seed  \n",
       "53                                    Speciale Invest     NaN          Seed  \n",
       "61                                  9Unicorns, Anicut     NaN          None  \n",
       "62  Venture Catalysts, 9Unicorns, We Founders Circle.     NaN          None  \n",
       "63                    SenseAI Ventures, Saurabh Chugh     NaN          None  \n",
       "64   Startup incubator, Accelerator Venture Catalysts     NaN          Seed  \n",
       "65                                               None     NaN          Seed  \n",
       "68              Investment Corporation of Dubai (ICD)     NaN          None  "
      ]
     },
     "execution_count": 18,
     "metadata": {},
     "output_type": "execute_result"
    }
   ],
   "source": [
    "null_amt = df[df['Amount'].isna()]\n",
    "\n",
    "null_amt.head(20)"
   ]
  },
  {
   "cell_type": "code",
   "execution_count": 19,
   "metadata": {},
   "outputs": [
    {
     "data": {
      "text/html": [
       "<div>\n",
       "<style scoped>\n",
       "    .dataframe tbody tr th:only-of-type {\n",
       "        vertical-align: middle;\n",
       "    }\n",
       "\n",
       "    .dataframe tbody tr th {\n",
       "        vertical-align: top;\n",
       "    }\n",
       "\n",
       "    .dataframe thead th {\n",
       "        text-align: right;\n",
       "    }\n",
       "</style>\n",
       "<table border=\"1\" class=\"dataframe\">\n",
       "  <thead>\n",
       "    <tr style=\"text-align: right;\">\n",
       "      <th></th>\n",
       "      <th>Company_Brand</th>\n",
       "      <th>Founded</th>\n",
       "      <th>HeadQuarter</th>\n",
       "      <th>Sector</th>\n",
       "      <th>What_it_does</th>\n",
       "      <th>Founders</th>\n",
       "      <th>Investor</th>\n",
       "      <th>Amount</th>\n",
       "      <th>Stage</th>\n",
       "    </tr>\n",
       "  </thead>\n",
       "  <tbody>\n",
       "    <tr>\n",
       "      <th>0</th>\n",
       "      <td>aqgromalin</td>\n",
       "      <td>2019.0</td>\n",
       "      <td>chennai</td>\n",
       "      <td>agritech</td>\n",
       "      <td>Cultivating Ideas for Profit</td>\n",
       "      <td>Prasanna Manogaran, Bharani C L</td>\n",
       "      <td>Angel investors</td>\n",
       "      <td>200000.0</td>\n",
       "      <td>None</td>\n",
       "    </tr>\n",
       "    <tr>\n",
       "      <th>1</th>\n",
       "      <td>krayonnz</td>\n",
       "      <td>2019.0</td>\n",
       "      <td>bangalore</td>\n",
       "      <td>edtech</td>\n",
       "      <td>An academy-guardian-scholar centric ecosystem ...</td>\n",
       "      <td>Saurabh Dixit, Gurudutt Upadhyay</td>\n",
       "      <td>GSF Accelerator</td>\n",
       "      <td>100000.0</td>\n",
       "      <td>Pre-seed</td>\n",
       "    </tr>\n",
       "    <tr>\n",
       "      <th>2</th>\n",
       "      <td>padcare labs</td>\n",
       "      <td>2018.0</td>\n",
       "      <td>pune</td>\n",
       "      <td>hygiene management</td>\n",
       "      <td>Converting bio-hazardous waste to harmless waste</td>\n",
       "      <td>Ajinkya Dhariya</td>\n",
       "      <td>Venture Center</td>\n",
       "      <td>3000000.0</td>\n",
       "      <td>Pre-seed</td>\n",
       "    </tr>\n",
       "    <tr>\n",
       "      <th>3</th>\n",
       "      <td>ncome</td>\n",
       "      <td>2020.0</td>\n",
       "      <td>new delhi</td>\n",
       "      <td>escrow</td>\n",
       "      <td>Escrow-as-a-service platform</td>\n",
       "      <td>Ritesh Tiwari</td>\n",
       "      <td>Venture Catalysts, PointOne Capital</td>\n",
       "      <td>400000.0</td>\n",
       "      <td>None</td>\n",
       "    </tr>\n",
       "    <tr>\n",
       "      <th>4</th>\n",
       "      <td>gramophone</td>\n",
       "      <td>2016.0</td>\n",
       "      <td>indore</td>\n",
       "      <td>agritech</td>\n",
       "      <td>Gramophone is an AgTech platform enabling acce...</td>\n",
       "      <td>Ashish Rajan Singh, Harshit Gupta, Nishant Mah...</td>\n",
       "      <td>Siana Capital Management, Info Edge</td>\n",
       "      <td>340000.0</td>\n",
       "      <td>None</td>\n",
       "    </tr>\n",
       "    <tr>\n",
       "      <th>5</th>\n",
       "      <td>qzense</td>\n",
       "      <td>2019.0</td>\n",
       "      <td>bangalore</td>\n",
       "      <td>agritech</td>\n",
       "      <td>qZense Labs is building the next-generation Io...</td>\n",
       "      <td>Rubal Chib, Dr Srishti Batra</td>\n",
       "      <td>Venture Catalysts, 9Unicorns Accelerator Fund</td>\n",
       "      <td>600000.0</td>\n",
       "      <td>Seed</td>\n",
       "    </tr>\n",
       "    <tr>\n",
       "      <th>6</th>\n",
       "      <td>myclassboard</td>\n",
       "      <td>2008.0</td>\n",
       "      <td>hyderabad</td>\n",
       "      <td>edtech</td>\n",
       "      <td>MyClassboard is a full-fledged School / Colleg...</td>\n",
       "      <td>Ajay Sakhamuri</td>\n",
       "      <td>ICICI Bank.</td>\n",
       "      <td>600000.0</td>\n",
       "      <td>Pre-series A</td>\n",
       "    </tr>\n",
       "    <tr>\n",
       "      <th>7</th>\n",
       "      <td>metvy</td>\n",
       "      <td>2018.0</td>\n",
       "      <td>gurgaon</td>\n",
       "      <td>networking platform</td>\n",
       "      <td>AI driven networking platform for individuals ...</td>\n",
       "      <td>Shawrya Mehrotra</td>\n",
       "      <td>HostelFund</td>\n",
       "      <td>3000000.0</td>\n",
       "      <td>Pre-series</td>\n",
       "    </tr>\n",
       "    <tr>\n",
       "      <th>8</th>\n",
       "      <td>rupeek</td>\n",
       "      <td>2015.0</td>\n",
       "      <td>bangalore</td>\n",
       "      <td>fintech</td>\n",
       "      <td>Rupeek is an online lending platform that spec...</td>\n",
       "      <td>Amar Prabhu, Ashwin Soni, Sumit Maniyar</td>\n",
       "      <td>KB Investment, Bertelsmann India Investments</td>\n",
       "      <td>45000000.0</td>\n",
       "      <td>Series C</td>\n",
       "    </tr>\n",
       "    <tr>\n",
       "      <th>9</th>\n",
       "      <td>gig india</td>\n",
       "      <td>2017.0</td>\n",
       "      <td>pune</td>\n",
       "      <td>crowdsourcing</td>\n",
       "      <td>GigIndia is a marketplace that provides on-dem...</td>\n",
       "      <td>Aditya Shirole, Sahil Sharma</td>\n",
       "      <td>Shantanu Deshpande, Subramaniam Ramadorai</td>\n",
       "      <td>1000000.0</td>\n",
       "      <td>Pre-series A</td>\n",
       "    </tr>\n",
       "    <tr>\n",
       "      <th>10</th>\n",
       "      <td>slurrp farm</td>\n",
       "      <td>2016.0</td>\n",
       "      <td>gurgaon</td>\n",
       "      <td>food &amp; bevarages</td>\n",
       "      <td>Slurrp Farm is a children health food brand.</td>\n",
       "      <td>Meghana Narayan</td>\n",
       "      <td>Fireside Ventures</td>\n",
       "      <td>2000000.0</td>\n",
       "      <td>Series A</td>\n",
       "    </tr>\n",
       "    <tr>\n",
       "      <th>11</th>\n",
       "      <td>medfin</td>\n",
       "      <td>2017.0</td>\n",
       "      <td>bangalore</td>\n",
       "      <td>healthtech</td>\n",
       "      <td>Medfin is a Discovery platform for medical pro...</td>\n",
       "      <td>Arjun Kumar, Arun Kumar, Sidharth Gurjar</td>\n",
       "      <td>Axilor Ventures, S.D. Shibulal</td>\n",
       "      <td>3000000.0</td>\n",
       "      <td>Series A</td>\n",
       "    </tr>\n",
       "    <tr>\n",
       "      <th>12</th>\n",
       "      <td>masterg</td>\n",
       "      <td>2015.0</td>\n",
       "      <td>new delhi</td>\n",
       "      <td>fashion startup</td>\n",
       "      <td>MasterG is a design and skill development orga...</td>\n",
       "      <td>Gayatri Jolly</td>\n",
       "      <td>Acumen Fund's angel programme</td>\n",
       "      <td>3000000.0</td>\n",
       "      <td>None</td>\n",
       "    </tr>\n",
       "    <tr>\n",
       "      <th>13</th>\n",
       "      <td>brila 91</td>\n",
       "      <td>2014.0</td>\n",
       "      <td>new delhi</td>\n",
       "      <td>food &amp; bevarages</td>\n",
       "      <td>Bira 91 is a craft beer company.</td>\n",
       "      <td>Ankur Jain</td>\n",
       "      <td>Sequoia Capital India, Sixth Sense Ventures</td>\n",
       "      <td>1200000.0</td>\n",
       "      <td>None</td>\n",
       "    </tr>\n",
       "    <tr>\n",
       "      <th>14</th>\n",
       "      <td>foodybuddy</td>\n",
       "      <td>2015.0</td>\n",
       "      <td>belgaum</td>\n",
       "      <td>food industry</td>\n",
       "      <td>FoodyBuddy is a online food delivery portal</td>\n",
       "      <td>Akil Sethuraman, Anup Gopinath, Rachna Rao</td>\n",
       "      <td>Rebel Foods</td>\n",
       "      <td>600000.0</td>\n",
       "      <td>None</td>\n",
       "    </tr>\n",
       "    <tr>\n",
       "      <th>15</th>\n",
       "      <td>zomato</td>\n",
       "      <td>2008.0</td>\n",
       "      <td>gurgaon</td>\n",
       "      <td>food delivery</td>\n",
       "      <td>Zomato is a food delivery and restaurant disco...</td>\n",
       "      <td>Deepinder Goyal, Gaurav Gupta, Pankaj Chaddah</td>\n",
       "      <td>Kora, Tiger Global Management</td>\n",
       "      <td>660000000.0</td>\n",
       "      <td>None</td>\n",
       "    </tr>\n",
       "    <tr>\n",
       "      <th>16</th>\n",
       "      <td>oureye.ai</td>\n",
       "      <td>2020.0</td>\n",
       "      <td>bangalore</td>\n",
       "      <td>virtual auditing startup</td>\n",
       "      <td>Video intelligence solution for Enterprise Sta...</td>\n",
       "      <td>Miran Junaidi, Saurabh Ghanekar, Sourav Sanyal</td>\n",
       "      <td>100X VC, Amara Ventures</td>\n",
       "      <td>120000.0</td>\n",
       "      <td>None</td>\n",
       "    </tr>\n",
       "    <tr>\n",
       "      <th>17</th>\n",
       "      <td>shiprocket</td>\n",
       "      <td>2017.0</td>\n",
       "      <td>new delhi</td>\n",
       "      <td>e-commerce</td>\n",
       "      <td>Shiprocket helps online retailers simplify the...</td>\n",
       "      <td>Gautam Kapoor, Saahil Goel, Vishesh Khurana</td>\n",
       "      <td>Bertelsmann India Investments, InnoVen Capital</td>\n",
       "      <td>7500000.0</td>\n",
       "      <td>Series C</td>\n",
       "    </tr>\n",
       "    <tr>\n",
       "      <th>18</th>\n",
       "      <td>pine labs</td>\n",
       "      <td>1998.0</td>\n",
       "      <td>noida</td>\n",
       "      <td>fintech</td>\n",
       "      <td>A merchant platform company that provides fina...</td>\n",
       "      <td>Amrish Rau</td>\n",
       "      <td>Mastercard, Temasek Holdings</td>\n",
       "      <td>3000000.0</td>\n",
       "      <td>None</td>\n",
       "    </tr>\n",
       "    <tr>\n",
       "      <th>19</th>\n",
       "      <td>moneyboxx finance</td>\n",
       "      <td>2019.0</td>\n",
       "      <td>new delhi</td>\n",
       "      <td>fintech</td>\n",
       "      <td>MONEYBOXX FINANCE LTD is committed to providin...</td>\n",
       "      <td>Prashant Agarwal</td>\n",
       "      <td>BlackSoil, Caspian</td>\n",
       "      <td>1000000.0</td>\n",
       "      <td>None</td>\n",
       "    </tr>\n",
       "  </tbody>\n",
       "</table>\n",
       "</div>"
      ],
      "text/plain": [
       "        Company_Brand  Founded HeadQuarter                    Sector  \\\n",
       "0          aqgromalin   2019.0     chennai                  agritech   \n",
       "1            krayonnz   2019.0   bangalore                    edtech   \n",
       "2        padcare labs   2018.0        pune        hygiene management   \n",
       "3               ncome   2020.0   new delhi                    escrow   \n",
       "4          gramophone   2016.0      indore                  agritech   \n",
       "5              qzense   2019.0   bangalore                  agritech   \n",
       "6        myclassboard   2008.0   hyderabad                    edtech   \n",
       "7               metvy   2018.0     gurgaon       networking platform   \n",
       "8              rupeek   2015.0   bangalore                   fintech   \n",
       "9           gig india   2017.0        pune             crowdsourcing   \n",
       "10        slurrp farm   2016.0     gurgaon          food & bevarages   \n",
       "11             medfin   2017.0   bangalore                healthtech   \n",
       "12            masterg   2015.0   new delhi           fashion startup   \n",
       "13           brila 91   2014.0   new delhi          food & bevarages   \n",
       "14         foodybuddy   2015.0     belgaum             food industry   \n",
       "15             zomato   2008.0     gurgaon             food delivery   \n",
       "16          oureye.ai   2020.0   bangalore  virtual auditing startup   \n",
       "17         shiprocket   2017.0   new delhi                e-commerce   \n",
       "18          pine labs   1998.0       noida                   fintech   \n",
       "19  moneyboxx finance   2019.0   new delhi                   fintech   \n",
       "\n",
       "                                         What_it_does  \\\n",
       "0                        Cultivating Ideas for Profit   \n",
       "1   An academy-guardian-scholar centric ecosystem ...   \n",
       "2    Converting bio-hazardous waste to harmless waste   \n",
       "3                        Escrow-as-a-service platform   \n",
       "4   Gramophone is an AgTech platform enabling acce...   \n",
       "5   qZense Labs is building the next-generation Io...   \n",
       "6   MyClassboard is a full-fledged School / Colleg...   \n",
       "7   AI driven networking platform for individuals ...   \n",
       "8   Rupeek is an online lending platform that spec...   \n",
       "9   GigIndia is a marketplace that provides on-dem...   \n",
       "10       Slurrp Farm is a children health food brand.   \n",
       "11  Medfin is a Discovery platform for medical pro...   \n",
       "12  MasterG is a design and skill development orga...   \n",
       "13                   Bira 91 is a craft beer company.   \n",
       "14        FoodyBuddy is a online food delivery portal   \n",
       "15  Zomato is a food delivery and restaurant disco...   \n",
       "16  Video intelligence solution for Enterprise Sta...   \n",
       "17  Shiprocket helps online retailers simplify the...   \n",
       "18  A merchant platform company that provides fina...   \n",
       "19  MONEYBOXX FINANCE LTD is committed to providin...   \n",
       "\n",
       "                                             Founders  \\\n",
       "0                     Prasanna Manogaran, Bharani C L   \n",
       "1                    Saurabh Dixit, Gurudutt Upadhyay   \n",
       "2                                     Ajinkya Dhariya   \n",
       "3                                       Ritesh Tiwari   \n",
       "4   Ashish Rajan Singh, Harshit Gupta, Nishant Mah...   \n",
       "5                        Rubal Chib, Dr Srishti Batra   \n",
       "6                                      Ajay Sakhamuri   \n",
       "7                                    Shawrya Mehrotra   \n",
       "8             Amar Prabhu, Ashwin Soni, Sumit Maniyar   \n",
       "9                        Aditya Shirole, Sahil Sharma   \n",
       "10                                    Meghana Narayan   \n",
       "11           Arjun Kumar, Arun Kumar, Sidharth Gurjar   \n",
       "12                                      Gayatri Jolly   \n",
       "13                                         Ankur Jain   \n",
       "14         Akil Sethuraman, Anup Gopinath, Rachna Rao   \n",
       "15      Deepinder Goyal, Gaurav Gupta, Pankaj Chaddah   \n",
       "16     Miran Junaidi, Saurabh Ghanekar, Sourav Sanyal   \n",
       "17        Gautam Kapoor, Saahil Goel, Vishesh Khurana   \n",
       "18                                         Amrish Rau   \n",
       "19                                   Prashant Agarwal   \n",
       "\n",
       "                                          Investor       Amount         Stage  \n",
       "0                                  Angel investors     200000.0          None  \n",
       "1                                  GSF Accelerator     100000.0      Pre-seed  \n",
       "2                                   Venture Center    3000000.0      Pre-seed  \n",
       "3              Venture Catalysts, PointOne Capital     400000.0          None  \n",
       "4              Siana Capital Management, Info Edge     340000.0          None  \n",
       "5    Venture Catalysts, 9Unicorns Accelerator Fund     600000.0          Seed  \n",
       "6                                      ICICI Bank.     600000.0  Pre-series A  \n",
       "7                                       HostelFund    3000000.0    Pre-series  \n",
       "8     KB Investment, Bertelsmann India Investments   45000000.0      Series C  \n",
       "9        Shantanu Deshpande, Subramaniam Ramadorai    1000000.0  Pre-series A  \n",
       "10                               Fireside Ventures    2000000.0      Series A  \n",
       "11                  Axilor Ventures, S.D. Shibulal    3000000.0      Series A  \n",
       "12                   Acumen Fund's angel programme    3000000.0          None  \n",
       "13     Sequoia Capital India, Sixth Sense Ventures    1200000.0          None  \n",
       "14                                     Rebel Foods     600000.0          None  \n",
       "15                   Kora, Tiger Global Management  660000000.0          None  \n",
       "16                         100X VC, Amara Ventures     120000.0          None  \n",
       "17  Bertelsmann India Investments, InnoVen Capital    7500000.0      Series C  \n",
       "18                    Mastercard, Temasek Holdings    3000000.0          None  \n",
       "19                              BlackSoil, Caspian    1000000.0          None  "
      ]
     },
     "execution_count": 19,
     "metadata": {},
     "output_type": "execute_result"
    }
   ],
   "source": [
    "# Create a SimpleImputer instance with the strategy set to 'mean'\n",
    "imputer = SimpleImputer(strategy='median')\n",
    "\n",
    "# Fit the imputer on the 'Amount' column and transform the DataFrame\n",
    "df['Amount'] = imputer.fit_transform(df[['Amount']])\n",
    "\n",
    "# Print the DataFrame to verify the changes\n",
    "df.head(20)"
   ]
  },
  {
   "cell_type": "markdown",
   "metadata": {},
   "source": [
    "Query to get the second dataset"
   ]
  },
  {
   "cell_type": "code",
   "execution_count": 20,
   "metadata": {},
   "outputs": [],
   "source": [
    "# query to get the second dataset\n",
    "\n",
    "query = \"SELECT * FROM dbo.LP1_startup_funding2021\"\n",
    "\n",
    " \n",
    " # Read data into a DataFrame\n",
    "df_1= pd.read_sql(query, connection)\n",
    "\n"
   ]
  },
  {
   "cell_type": "markdown",
   "metadata": {},
   "source": [
    "Preview second dataset"
   ]
  },
  {
   "cell_type": "code",
   "execution_count": 21,
   "metadata": {},
   "outputs": [
    {
     "data": {
      "text/html": [
       "<div>\n",
       "<style scoped>\n",
       "    .dataframe tbody tr th:only-of-type {\n",
       "        vertical-align: middle;\n",
       "    }\n",
       "\n",
       "    .dataframe tbody tr th {\n",
       "        vertical-align: top;\n",
       "    }\n",
       "\n",
       "    .dataframe thead th {\n",
       "        text-align: right;\n",
       "    }\n",
       "</style>\n",
       "<table border=\"1\" class=\"dataframe\">\n",
       "  <thead>\n",
       "    <tr style=\"text-align: right;\">\n",
       "      <th></th>\n",
       "      <th>Company_Brand</th>\n",
       "      <th>Founded</th>\n",
       "      <th>HeadQuarter</th>\n",
       "      <th>Sector</th>\n",
       "      <th>What_it_does</th>\n",
       "      <th>Founders</th>\n",
       "      <th>Investor</th>\n",
       "      <th>Amount</th>\n",
       "      <th>Stage</th>\n",
       "    </tr>\n",
       "  </thead>\n",
       "  <tbody>\n",
       "    <tr>\n",
       "      <th>0</th>\n",
       "      <td>Unbox Robotics</td>\n",
       "      <td>2019.0</td>\n",
       "      <td>Bangalore</td>\n",
       "      <td>AI startup</td>\n",
       "      <td>Unbox Robotics builds on-demand AI-driven ware...</td>\n",
       "      <td>Pramod Ghadge, Shahid Memon</td>\n",
       "      <td>BEENEXT, Entrepreneur First</td>\n",
       "      <td>$1,200,000</td>\n",
       "      <td>Pre-series A</td>\n",
       "    </tr>\n",
       "    <tr>\n",
       "      <th>1</th>\n",
       "      <td>upGrad</td>\n",
       "      <td>2015.0</td>\n",
       "      <td>Mumbai</td>\n",
       "      <td>EdTech</td>\n",
       "      <td>UpGrad is an online higher education platform.</td>\n",
       "      <td>Mayank Kumar, Phalgun Kompalli, Ravijot Chugh,...</td>\n",
       "      <td>Unilazer Ventures, IIFL Asset Management</td>\n",
       "      <td>$120,000,000</td>\n",
       "      <td>None</td>\n",
       "    </tr>\n",
       "    <tr>\n",
       "      <th>2</th>\n",
       "      <td>Lead School</td>\n",
       "      <td>2012.0</td>\n",
       "      <td>Mumbai</td>\n",
       "      <td>EdTech</td>\n",
       "      <td>LEAD School offers technology based school tra...</td>\n",
       "      <td>Smita Deorah, Sumeet Mehta</td>\n",
       "      <td>GSV Ventures, Westbridge Capital</td>\n",
       "      <td>$30,000,000</td>\n",
       "      <td>Series D</td>\n",
       "    </tr>\n",
       "    <tr>\n",
       "      <th>3</th>\n",
       "      <td>Bizongo</td>\n",
       "      <td>2015.0</td>\n",
       "      <td>Mumbai</td>\n",
       "      <td>B2B E-commerce</td>\n",
       "      <td>Bizongo is a business-to-business online marke...</td>\n",
       "      <td>Aniket Deb, Ankit Tomar, Sachin Agrawal</td>\n",
       "      <td>CDC Group, IDG Capital</td>\n",
       "      <td>$51,000,000</td>\n",
       "      <td>Series C</td>\n",
       "    </tr>\n",
       "    <tr>\n",
       "      <th>4</th>\n",
       "      <td>FypMoney</td>\n",
       "      <td>2021.0</td>\n",
       "      <td>Gurugram</td>\n",
       "      <td>FinTech</td>\n",
       "      <td>FypMoney is Digital NEO Bank for Teenagers, em...</td>\n",
       "      <td>Kapil Banwari</td>\n",
       "      <td>Liberatha Kallat, Mukesh Yadav, Dinesh Nagpal</td>\n",
       "      <td>$2,000,000</td>\n",
       "      <td>Seed</td>\n",
       "    </tr>\n",
       "  </tbody>\n",
       "</table>\n",
       "</div>"
      ],
      "text/plain": [
       "    Company_Brand  Founded HeadQuarter          Sector  \\\n",
       "0  Unbox Robotics   2019.0   Bangalore      AI startup   \n",
       "1          upGrad   2015.0      Mumbai          EdTech   \n",
       "2     Lead School   2012.0      Mumbai          EdTech   \n",
       "3         Bizongo   2015.0      Mumbai  B2B E-commerce   \n",
       "4        FypMoney   2021.0    Gurugram         FinTech   \n",
       "\n",
       "                                        What_it_does  \\\n",
       "0  Unbox Robotics builds on-demand AI-driven ware...   \n",
       "1     UpGrad is an online higher education platform.   \n",
       "2  LEAD School offers technology based school tra...   \n",
       "3  Bizongo is a business-to-business online marke...   \n",
       "4  FypMoney is Digital NEO Bank for Teenagers, em...   \n",
       "\n",
       "                                            Founders  \\\n",
       "0                        Pramod Ghadge, Shahid Memon   \n",
       "1  Mayank Kumar, Phalgun Kompalli, Ravijot Chugh,...   \n",
       "2                         Smita Deorah, Sumeet Mehta   \n",
       "3            Aniket Deb, Ankit Tomar, Sachin Agrawal   \n",
       "4                                      Kapil Banwari   \n",
       "\n",
       "                                        Investor        Amount         Stage  \n",
       "0                    BEENEXT, Entrepreneur First    $1,200,000  Pre-series A  \n",
       "1       Unilazer Ventures, IIFL Asset Management  $120,000,000          None  \n",
       "2               GSV Ventures, Westbridge Capital   $30,000,000      Series D  \n",
       "3                         CDC Group, IDG Capital   $51,000,000      Series C  \n",
       "4  Liberatha Kallat, Mukesh Yadav, Dinesh Nagpal    $2,000,000          Seed  "
      ]
     },
     "execution_count": 21,
     "metadata": {},
     "output_type": "execute_result"
    }
   ],
   "source": [
    "# Preview second dataset in dataframe\n",
    "\n",
    "df_1.head()"
   ]
  },
  {
   "cell_type": "code",
   "execution_count": 22,
   "metadata": {},
   "outputs": [
    {
     "name": "stdout",
     "output_type": "stream",
     "text": [
      "<class 'pandas.core.frame.DataFrame'>\n",
      "RangeIndex: 1209 entries, 0 to 1208\n",
      "Data columns (total 9 columns):\n",
      " #   Column         Non-Null Count  Dtype  \n",
      "---  ------         --------------  -----  \n",
      " 0   Company_Brand  1209 non-null   object \n",
      " 1   Founded        1208 non-null   float64\n",
      " 2   HeadQuarter    1208 non-null   object \n",
      " 3   Sector         1209 non-null   object \n",
      " 4   What_it_does   1209 non-null   object \n",
      " 5   Founders       1205 non-null   object \n",
      " 6   Investor       1147 non-null   object \n",
      " 7   Amount         1206 non-null   object \n",
      " 8   Stage          781 non-null    object \n",
      "dtypes: float64(1), object(8)\n",
      "memory usage: 85.1+ KB\n"
     ]
    }
   ],
   "source": [
    "# DataFrame's structure and data types of its columns.\n",
    "\n",
    "df_1.info()"
   ]
  },
  {
   "cell_type": "markdown",
   "metadata": {},
   "source": [
    "second data set has 9 columns and 1209 entries "
   ]
  },
  {
   "cell_type": "markdown",
   "metadata": {},
   "source": [
    "Read the third dataset"
   ]
  },
  {
   "cell_type": "code",
   "execution_count": 23,
   "metadata": {},
   "outputs": [
    {
     "name": "stdout",
     "output_type": "stream",
     "text": [
      "<class 'pandas.core.frame.DataFrame'>\n",
      "RangeIndex: 89 entries, 0 to 88\n",
      "Data columns (total 9 columns):\n",
      " #   Column         Non-Null Count  Dtype  \n",
      "---  ------         --------------  -----  \n",
      " 0   Company/Brand  89 non-null     object \n",
      " 1   Founded        60 non-null     float64\n",
      " 2   HeadQuarter    70 non-null     object \n",
      " 3   Sector         84 non-null     object \n",
      " 4   What it does   89 non-null     object \n",
      " 5   Founders       86 non-null     object \n",
      " 6   Investor       89 non-null     object \n",
      " 7   Amount($)      89 non-null     object \n",
      " 8   Stage          43 non-null     object \n",
      "dtypes: float64(1), object(8)\n",
      "memory usage: 6.4+ KB\n"
     ]
    }
   ],
   "source": [
    "# get the third dataset and preview\n",
    "\n",
    "df_2=pd.read_csv('startup_funding2019.csv')\n",
    "\n",
    "df_2.info()\n"
   ]
  },
  {
   "cell_type": "markdown",
   "metadata": {},
   "source": [
    "clean column names to be as of previous datasets"
   ]
  },
  {
   "cell_type": "code",
   "execution_count": 24,
   "metadata": {},
   "outputs": [
    {
     "data": {
      "text/html": [
       "<div>\n",
       "<style scoped>\n",
       "    .dataframe tbody tr th:only-of-type {\n",
       "        vertical-align: middle;\n",
       "    }\n",
       "\n",
       "    .dataframe tbody tr th {\n",
       "        vertical-align: top;\n",
       "    }\n",
       "\n",
       "    .dataframe thead th {\n",
       "        text-align: right;\n",
       "    }\n",
       "</style>\n",
       "<table border=\"1\" class=\"dataframe\">\n",
       "  <thead>\n",
       "    <tr style=\"text-align: right;\">\n",
       "      <th></th>\n",
       "      <th>Company_Brand</th>\n",
       "      <th>Founded</th>\n",
       "      <th>HeadQuarter</th>\n",
       "      <th>Sector</th>\n",
       "      <th>What_it_does</th>\n",
       "      <th>Founders</th>\n",
       "      <th>Investor</th>\n",
       "      <th>Amount</th>\n",
       "      <th>Stage</th>\n",
       "    </tr>\n",
       "  </thead>\n",
       "  <tbody>\n",
       "    <tr>\n",
       "      <th>0</th>\n",
       "      <td>Bombay Shaving</td>\n",
       "      <td>NaN</td>\n",
       "      <td>NaN</td>\n",
       "      <td>Ecommerce</td>\n",
       "      <td>Provides a range of male grooming products</td>\n",
       "      <td>Shantanu Deshpande</td>\n",
       "      <td>Sixth Sense Ventures</td>\n",
       "      <td>$6,300,000</td>\n",
       "      <td>NaN</td>\n",
       "    </tr>\n",
       "    <tr>\n",
       "      <th>1</th>\n",
       "      <td>Ruangguru</td>\n",
       "      <td>2014.0</td>\n",
       "      <td>Mumbai</td>\n",
       "      <td>Edtech</td>\n",
       "      <td>A learning platform that provides topic-based ...</td>\n",
       "      <td>Adamas Belva Syah Devara, Iman Usman.</td>\n",
       "      <td>General Atlantic</td>\n",
       "      <td>$150,000,000</td>\n",
       "      <td>Series C</td>\n",
       "    </tr>\n",
       "    <tr>\n",
       "      <th>2</th>\n",
       "      <td>Eduisfun</td>\n",
       "      <td>NaN</td>\n",
       "      <td>Mumbai</td>\n",
       "      <td>Edtech</td>\n",
       "      <td>It aims to make learning fun via games.</td>\n",
       "      <td>Jatin Solanki</td>\n",
       "      <td>Deepak Parekh, Amitabh Bachchan, Piyush Pandey</td>\n",
       "      <td>$28,000,000</td>\n",
       "      <td>Fresh funding</td>\n",
       "    </tr>\n",
       "    <tr>\n",
       "      <th>3</th>\n",
       "      <td>HomeLane</td>\n",
       "      <td>2014.0</td>\n",
       "      <td>Chennai</td>\n",
       "      <td>Interior design</td>\n",
       "      <td>Provides interior designing solutions</td>\n",
       "      <td>Srikanth Iyer, Rama Harinath</td>\n",
       "      <td>Evolvence India Fund (EIF), Pidilite Group, FJ...</td>\n",
       "      <td>$30,000,000</td>\n",
       "      <td>Series D</td>\n",
       "    </tr>\n",
       "    <tr>\n",
       "      <th>4</th>\n",
       "      <td>Nu Genes</td>\n",
       "      <td>2004.0</td>\n",
       "      <td>Telangana</td>\n",
       "      <td>AgriTech</td>\n",
       "      <td>It is a seed company engaged in production, pr...</td>\n",
       "      <td>Narayana Reddy Punyala</td>\n",
       "      <td>Innovation in Food and Agriculture (IFA)</td>\n",
       "      <td>$6,000,000</td>\n",
       "      <td>NaN</td>\n",
       "    </tr>\n",
       "  </tbody>\n",
       "</table>\n",
       "</div>"
      ],
      "text/plain": [
       "    Company_Brand  Founded HeadQuarter           Sector  \\\n",
       "0  Bombay Shaving      NaN         NaN        Ecommerce   \n",
       "1       Ruangguru   2014.0      Mumbai           Edtech   \n",
       "2        Eduisfun      NaN      Mumbai           Edtech   \n",
       "3        HomeLane   2014.0     Chennai  Interior design   \n",
       "4        Nu Genes   2004.0   Telangana         AgriTech   \n",
       "\n",
       "                                        What_it_does  \\\n",
       "0         Provides a range of male grooming products   \n",
       "1  A learning platform that provides topic-based ...   \n",
       "2            It aims to make learning fun via games.   \n",
       "3              Provides interior designing solutions   \n",
       "4  It is a seed company engaged in production, pr...   \n",
       "\n",
       "                                Founders  \\\n",
       "0                     Shantanu Deshpande   \n",
       "1  Adamas Belva Syah Devara, Iman Usman.   \n",
       "2                          Jatin Solanki   \n",
       "3           Srikanth Iyer, Rama Harinath   \n",
       "4                 Narayana Reddy Punyala   \n",
       "\n",
       "                                            Investor        Amount  \\\n",
       "0                               Sixth Sense Ventures    $6,300,000   \n",
       "1                                   General Atlantic  $150,000,000   \n",
       "2     Deepak Parekh, Amitabh Bachchan, Piyush Pandey   $28,000,000   \n",
       "3  Evolvence India Fund (EIF), Pidilite Group, FJ...   $30,000,000   \n",
       "4           Innovation in Food and Agriculture (IFA)    $6,000,000   \n",
       "\n",
       "           Stage  \n",
       "0            NaN  \n",
       "1       Series C  \n",
       "2  Fresh funding  \n",
       "3       Series D  \n",
       "4            NaN  "
      ]
     },
     "execution_count": 24,
     "metadata": {},
     "output_type": "execute_result"
    }
   ],
   "source": [
    "\n",
    "# create dictionary to map column names\n",
    "new_colnames = {\n",
    "    \n",
    "    'Company/Brand':'Company_Brand',\n",
    "   \n",
    "    'What it does':'What_it_does',\n",
    "    'Amount($)':'Amount'}\n",
    "df_2 = df_2.rename(columns=new_colnames)\n",
    "# Company_Brand\tFounded\tHeadQuarter\tSector\tWhat_it_does\tFounders\tInvestor\tAmount\tStage\n",
    "\n",
    "df_2.head()"
   ]
  },
  {
   "cell_type": "markdown",
   "metadata": {},
   "source": [
    "Read the last dataset"
   ]
  },
  {
   "cell_type": "code",
   "execution_count": 25,
   "metadata": {},
   "outputs": [
    {
     "data": {
      "text/html": [
       "<div>\n",
       "<style scoped>\n",
       "    .dataframe tbody tr th:only-of-type {\n",
       "        vertical-align: middle;\n",
       "    }\n",
       "\n",
       "    .dataframe tbody tr th {\n",
       "        vertical-align: top;\n",
       "    }\n",
       "\n",
       "    .dataframe thead th {\n",
       "        text-align: right;\n",
       "    }\n",
       "</style>\n",
       "<table border=\"1\" class=\"dataframe\">\n",
       "  <thead>\n",
       "    <tr style=\"text-align: right;\">\n",
       "      <th></th>\n",
       "      <th>Company Name</th>\n",
       "      <th>Industry</th>\n",
       "      <th>Round/Series</th>\n",
       "      <th>Amount</th>\n",
       "      <th>Location</th>\n",
       "      <th>About Company</th>\n",
       "    </tr>\n",
       "  </thead>\n",
       "  <tbody>\n",
       "    <tr>\n",
       "      <th>0</th>\n",
       "      <td>TheCollegeFever</td>\n",
       "      <td>Brand Marketing, Event Promotion, Marketing, S...</td>\n",
       "      <td>Seed</td>\n",
       "      <td>250000</td>\n",
       "      <td>Bangalore, Karnataka, India</td>\n",
       "      <td>TheCollegeFever is a hub for fun, fiesta and f...</td>\n",
       "    </tr>\n",
       "    <tr>\n",
       "      <th>1</th>\n",
       "      <td>Happy Cow Dairy</td>\n",
       "      <td>Agriculture, Farming</td>\n",
       "      <td>Seed</td>\n",
       "      <td>₹40,000,000</td>\n",
       "      <td>Mumbai, Maharashtra, India</td>\n",
       "      <td>A startup which aggregates milk from dairy far...</td>\n",
       "    </tr>\n",
       "    <tr>\n",
       "      <th>2</th>\n",
       "      <td>MyLoanCare</td>\n",
       "      <td>Credit, Financial Services, Lending, Marketplace</td>\n",
       "      <td>Series A</td>\n",
       "      <td>₹65,000,000</td>\n",
       "      <td>Gurgaon, Haryana, India</td>\n",
       "      <td>Leading Online Loans Marketplace in India</td>\n",
       "    </tr>\n",
       "    <tr>\n",
       "      <th>3</th>\n",
       "      <td>PayMe India</td>\n",
       "      <td>Financial Services, FinTech</td>\n",
       "      <td>Angel</td>\n",
       "      <td>2000000</td>\n",
       "      <td>Noida, Uttar Pradesh, India</td>\n",
       "      <td>PayMe India is an innovative FinTech organizat...</td>\n",
       "    </tr>\n",
       "    <tr>\n",
       "      <th>4</th>\n",
       "      <td>Eunimart</td>\n",
       "      <td>E-Commerce Platforms, Retail, SaaS</td>\n",
       "      <td>Seed</td>\n",
       "      <td>—</td>\n",
       "      <td>Hyderabad, Andhra Pradesh, India</td>\n",
       "      <td>Eunimart is a one stop solution for merchants ...</td>\n",
       "    </tr>\n",
       "  </tbody>\n",
       "</table>\n",
       "</div>"
      ],
      "text/plain": [
       "      Company Name                                           Industry  \\\n",
       "0  TheCollegeFever  Brand Marketing, Event Promotion, Marketing, S...   \n",
       "1  Happy Cow Dairy                               Agriculture, Farming   \n",
       "2       MyLoanCare   Credit, Financial Services, Lending, Marketplace   \n",
       "3      PayMe India                        Financial Services, FinTech   \n",
       "4         Eunimart                 E-Commerce Platforms, Retail, SaaS   \n",
       "\n",
       "  Round/Series       Amount                          Location  \\\n",
       "0         Seed       250000       Bangalore, Karnataka, India   \n",
       "1         Seed  ₹40,000,000        Mumbai, Maharashtra, India   \n",
       "2     Series A  ₹65,000,000           Gurgaon, Haryana, India   \n",
       "3        Angel      2000000       Noida, Uttar Pradesh, India   \n",
       "4         Seed            —  Hyderabad, Andhra Pradesh, India   \n",
       "\n",
       "                                       About Company  \n",
       "0  TheCollegeFever is a hub for fun, fiesta and f...  \n",
       "1  A startup which aggregates milk from dairy far...  \n",
       "2          Leading Online Loans Marketplace in India  \n",
       "3  PayMe India is an innovative FinTech organizat...  \n",
       "4  Eunimart is a one stop solution for merchants ...  "
      ]
     },
     "execution_count": 25,
     "metadata": {},
     "output_type": "execute_result"
    }
   ],
   "source": [
    "# get the third dataset and preview\n",
    "\n",
    "df_3=pd.read_csv('startup_funding2018.csv')\n",
    "\n",
    "df_3.head()"
   ]
  },
  {
   "cell_type": "code",
   "execution_count": 26,
   "metadata": {},
   "outputs": [
    {
     "data": {
      "text/html": [
       "<div>\n",
       "<style scoped>\n",
       "    .dataframe tbody tr th:only-of-type {\n",
       "        vertical-align: middle;\n",
       "    }\n",
       "\n",
       "    .dataframe tbody tr th {\n",
       "        vertical-align: top;\n",
       "    }\n",
       "\n",
       "    .dataframe thead th {\n",
       "        text-align: right;\n",
       "    }\n",
       "</style>\n",
       "<table border=\"1\" class=\"dataframe\">\n",
       "  <thead>\n",
       "    <tr style=\"text-align: right;\">\n",
       "      <th></th>\n",
       "      <th>Company Name</th>\n",
       "      <th>Industry</th>\n",
       "      <th>Round/Series</th>\n",
       "      <th>Amount</th>\n",
       "      <th>Location</th>\n",
       "      <th>About Company</th>\n",
       "    </tr>\n",
       "  </thead>\n",
       "  <tbody>\n",
       "    <tr>\n",
       "      <th>0</th>\n",
       "      <td>TheCollegeFever</td>\n",
       "      <td>Brand Marketing, Event Promotion, Marketing, S...</td>\n",
       "      <td>Seed</td>\n",
       "      <td>250000</td>\n",
       "      <td>Bangalore, Karnataka, India</td>\n",
       "      <td>TheCollegeFever is a hub for fun, fiesta and f...</td>\n",
       "    </tr>\n",
       "    <tr>\n",
       "      <th>1</th>\n",
       "      <td>Happy Cow Dairy</td>\n",
       "      <td>Agriculture, Farming</td>\n",
       "      <td>Seed</td>\n",
       "      <td>533333.333333</td>\n",
       "      <td>Mumbai, Maharashtra, India</td>\n",
       "      <td>A startup which aggregates milk from dairy far...</td>\n",
       "    </tr>\n",
       "    <tr>\n",
       "      <th>2</th>\n",
       "      <td>MyLoanCare</td>\n",
       "      <td>Credit, Financial Services, Lending, Marketplace</td>\n",
       "      <td>Series A</td>\n",
       "      <td>866666.666667</td>\n",
       "      <td>Gurgaon, Haryana, India</td>\n",
       "      <td>Leading Online Loans Marketplace in India</td>\n",
       "    </tr>\n",
       "    <tr>\n",
       "      <th>3</th>\n",
       "      <td>PayMe India</td>\n",
       "      <td>Financial Services, FinTech</td>\n",
       "      <td>Angel</td>\n",
       "      <td>2000000</td>\n",
       "      <td>Noida, Uttar Pradesh, India</td>\n",
       "      <td>PayMe India is an innovative FinTech organizat...</td>\n",
       "    </tr>\n",
       "    <tr>\n",
       "      <th>4</th>\n",
       "      <td>Eunimart</td>\n",
       "      <td>E-Commerce Platforms, Retail, SaaS</td>\n",
       "      <td>Seed</td>\n",
       "      <td>—</td>\n",
       "      <td>Hyderabad, Andhra Pradesh, India</td>\n",
       "      <td>Eunimart is a one stop solution for merchants ...</td>\n",
       "    </tr>\n",
       "  </tbody>\n",
       "</table>\n",
       "</div>"
      ],
      "text/plain": [
       "      Company Name                                           Industry  \\\n",
       "0  TheCollegeFever  Brand Marketing, Event Promotion, Marketing, S...   \n",
       "1  Happy Cow Dairy                               Agriculture, Farming   \n",
       "2       MyLoanCare   Credit, Financial Services, Lending, Marketplace   \n",
       "3      PayMe India                        Financial Services, FinTech   \n",
       "4         Eunimart                 E-Commerce Platforms, Retail, SaaS   \n",
       "\n",
       "  Round/Series         Amount                          Location  \\\n",
       "0         Seed         250000       Bangalore, Karnataka, India   \n",
       "1         Seed  533333.333333        Mumbai, Maharashtra, India   \n",
       "2     Series A  866666.666667           Gurgaon, Haryana, India   \n",
       "3        Angel        2000000       Noida, Uttar Pradesh, India   \n",
       "4         Seed              —  Hyderabad, Andhra Pradesh, India   \n",
       "\n",
       "                                       About Company  \n",
       "0  TheCollegeFever is a hub for fun, fiesta and f...  \n",
       "1  A startup which aggregates milk from dairy far...  \n",
       "2          Leading Online Loans Marketplace in India  \n",
       "3  PayMe India is an innovative FinTech organizat...  \n",
       "4  Eunimart is a one stop solution for merchants ...  "
      ]
     },
     "execution_count": 26,
     "metadata": {},
     "output_type": "execute_result"
    }
   ],
   "source": [
    "def convert_to_dollars(value):\n",
    "    \n",
    "    \n",
    "    if '₹' in value:\n",
    "        # Remove ₹ symbol and commas, and convert to numeric (1 USD = 75 INR,)\n",
    "        value = value.replace('₹', '').replace(',', '')\n",
    "        return pd.to_numeric(value) / 75\n",
    "    elif '$' in value:\n",
    "        # Leave values with $ unchanged\n",
    "        return pd.to_numeric(value.replace('$', '').replace(',', ''))\n",
    "    else:\n",
    "        # For other cases, return the original value\n",
    "        return value\n",
    "\n",
    "# Apply the function to the 'Amount' column\n",
    "df_3['Amount']= df_3['Amount'].apply(lambda x: convert_to_dollars(x) if pd.notnull(x) else x)\n",
    "\n",
    "# Print the DataFrame after conversion\n",
    "df_3.head()\n"
   ]
  },
  {
   "cell_type": "code",
   "execution_count": null,
   "metadata": {},
   "outputs": [],
   "source": []
  },
  {
   "cell_type": "markdown",
   "metadata": {},
   "source": [
    "+ The last dataset is having 6 columns instead of 9 as compared to the previous datasets\n",
    "+ last dataset has different column names from the previous dataset"
   ]
  },
  {
   "cell_type": "markdown",
   "metadata": {},
   "source": [
    "__Clean last dataset__"
   ]
  },
  {
   "cell_type": "code",
   "execution_count": 27,
   "metadata": {},
   "outputs": [
    {
     "data": {
      "text/html": [
       "<div>\n",
       "<style scoped>\n",
       "    .dataframe tbody tr th:only-of-type {\n",
       "        vertical-align: middle;\n",
       "    }\n",
       "\n",
       "    .dataframe tbody tr th {\n",
       "        vertical-align: top;\n",
       "    }\n",
       "\n",
       "    .dataframe thead th {\n",
       "        text-align: right;\n",
       "    }\n",
       "</style>\n",
       "<table border=\"1\" class=\"dataframe\">\n",
       "  <thead>\n",
       "    <tr style=\"text-align: right;\">\n",
       "      <th></th>\n",
       "      <th>Company_Brand</th>\n",
       "      <th>Sector</th>\n",
       "      <th>Stage</th>\n",
       "      <th>Amount</th>\n",
       "      <th>HeadQuarter</th>\n",
       "      <th>What_it_does</th>\n",
       "    </tr>\n",
       "  </thead>\n",
       "  <tbody>\n",
       "    <tr>\n",
       "      <th>0</th>\n",
       "      <td>TheCollegeFever</td>\n",
       "      <td>Brand Marketing, Event Promotion, Marketing, S...</td>\n",
       "      <td>Seed</td>\n",
       "      <td>250000</td>\n",
       "      <td>Bangalore, Karnataka, India</td>\n",
       "      <td>TheCollegeFever is a hub for fun, fiesta and f...</td>\n",
       "    </tr>\n",
       "    <tr>\n",
       "      <th>1</th>\n",
       "      <td>Happy Cow Dairy</td>\n",
       "      <td>Agriculture, Farming</td>\n",
       "      <td>Seed</td>\n",
       "      <td>533333.333333</td>\n",
       "      <td>Mumbai, Maharashtra, India</td>\n",
       "      <td>A startup which aggregates milk from dairy far...</td>\n",
       "    </tr>\n",
       "    <tr>\n",
       "      <th>2</th>\n",
       "      <td>MyLoanCare</td>\n",
       "      <td>Credit, Financial Services, Lending, Marketplace</td>\n",
       "      <td>Series A</td>\n",
       "      <td>866666.666667</td>\n",
       "      <td>Gurgaon, Haryana, India</td>\n",
       "      <td>Leading Online Loans Marketplace in India</td>\n",
       "    </tr>\n",
       "    <tr>\n",
       "      <th>3</th>\n",
       "      <td>PayMe India</td>\n",
       "      <td>Financial Services, FinTech</td>\n",
       "      <td>Angel</td>\n",
       "      <td>2000000</td>\n",
       "      <td>Noida, Uttar Pradesh, India</td>\n",
       "      <td>PayMe India is an innovative FinTech organizat...</td>\n",
       "    </tr>\n",
       "    <tr>\n",
       "      <th>4</th>\n",
       "      <td>Eunimart</td>\n",
       "      <td>E-Commerce Platforms, Retail, SaaS</td>\n",
       "      <td>Seed</td>\n",
       "      <td>—</td>\n",
       "      <td>Hyderabad, Andhra Pradesh, India</td>\n",
       "      <td>Eunimart is a one stop solution for merchants ...</td>\n",
       "    </tr>\n",
       "    <tr>\n",
       "      <th>...</th>\n",
       "      <td>...</td>\n",
       "      <td>...</td>\n",
       "      <td>...</td>\n",
       "      <td>...</td>\n",
       "      <td>...</td>\n",
       "      <td>...</td>\n",
       "    </tr>\n",
       "    <tr>\n",
       "      <th>521</th>\n",
       "      <td>Udaan</td>\n",
       "      <td>B2B, Business Development, Internet, Marketplace</td>\n",
       "      <td>Series C</td>\n",
       "      <td>225000000</td>\n",
       "      <td>Bangalore, Karnataka, India</td>\n",
       "      <td>Udaan is a B2B trade platform, designed specif...</td>\n",
       "    </tr>\n",
       "    <tr>\n",
       "      <th>522</th>\n",
       "      <td>Happyeasygo Group</td>\n",
       "      <td>Tourism, Travel</td>\n",
       "      <td>Series A</td>\n",
       "      <td>—</td>\n",
       "      <td>Haryana, Haryana, India</td>\n",
       "      <td>HappyEasyGo is an online travel domain.</td>\n",
       "    </tr>\n",
       "    <tr>\n",
       "      <th>523</th>\n",
       "      <td>Mombay</td>\n",
       "      <td>Food and Beverage, Food Delivery, Internet</td>\n",
       "      <td>Seed</td>\n",
       "      <td>7500</td>\n",
       "      <td>Mumbai, Maharashtra, India</td>\n",
       "      <td>Mombay is a unique opportunity for housewives ...</td>\n",
       "    </tr>\n",
       "    <tr>\n",
       "      <th>524</th>\n",
       "      <td>Droni Tech</td>\n",
       "      <td>Information Technology</td>\n",
       "      <td>Seed</td>\n",
       "      <td>466666.666667</td>\n",
       "      <td>Mumbai, Maharashtra, India</td>\n",
       "      <td>Droni Tech manufacture UAVs and develop softwa...</td>\n",
       "    </tr>\n",
       "    <tr>\n",
       "      <th>525</th>\n",
       "      <td>Netmeds</td>\n",
       "      <td>Biotechnology, Health Care, Pharmaceutical</td>\n",
       "      <td>Series C</td>\n",
       "      <td>35000000</td>\n",
       "      <td>Chennai, Tamil Nadu, India</td>\n",
       "      <td>Welcome to India's most convenient pharmacy!</td>\n",
       "    </tr>\n",
       "  </tbody>\n",
       "</table>\n",
       "<p>526 rows × 6 columns</p>\n",
       "</div>"
      ],
      "text/plain": [
       "         Company_Brand                                             Sector  \\\n",
       "0      TheCollegeFever  Brand Marketing, Event Promotion, Marketing, S...   \n",
       "1      Happy Cow Dairy                               Agriculture, Farming   \n",
       "2           MyLoanCare   Credit, Financial Services, Lending, Marketplace   \n",
       "3          PayMe India                        Financial Services, FinTech   \n",
       "4             Eunimart                 E-Commerce Platforms, Retail, SaaS   \n",
       "..                 ...                                                ...   \n",
       "521              Udaan   B2B, Business Development, Internet, Marketplace   \n",
       "522  Happyeasygo Group                                    Tourism, Travel   \n",
       "523             Mombay         Food and Beverage, Food Delivery, Internet   \n",
       "524         Droni Tech                             Information Technology   \n",
       "525            Netmeds         Biotechnology, Health Care, Pharmaceutical   \n",
       "\n",
       "        Stage         Amount                       HeadQuarter  \\\n",
       "0        Seed         250000       Bangalore, Karnataka, India   \n",
       "1        Seed  533333.333333        Mumbai, Maharashtra, India   \n",
       "2    Series A  866666.666667           Gurgaon, Haryana, India   \n",
       "3       Angel        2000000       Noida, Uttar Pradesh, India   \n",
       "4        Seed              —  Hyderabad, Andhra Pradesh, India   \n",
       "..        ...            ...                               ...   \n",
       "521  Series C      225000000       Bangalore, Karnataka, India   \n",
       "522  Series A              —           Haryana, Haryana, India   \n",
       "523      Seed           7500        Mumbai, Maharashtra, India   \n",
       "524      Seed  466666.666667        Mumbai, Maharashtra, India   \n",
       "525  Series C       35000000        Chennai, Tamil Nadu, India   \n",
       "\n",
       "                                          What_it_does  \n",
       "0    TheCollegeFever is a hub for fun, fiesta and f...  \n",
       "1    A startup which aggregates milk from dairy far...  \n",
       "2            Leading Online Loans Marketplace in India  \n",
       "3    PayMe India is an innovative FinTech organizat...  \n",
       "4    Eunimart is a one stop solution for merchants ...  \n",
       "..                                                 ...  \n",
       "521  Udaan is a B2B trade platform, designed specif...  \n",
       "522            HappyEasyGo is an online travel domain.  \n",
       "523  Mombay is a unique opportunity for housewives ...  \n",
       "524  Droni Tech manufacture UAVs and develop softwa...  \n",
       "525       Welcome to India's most convenient pharmacy!  \n",
       "\n",
       "[526 rows x 6 columns]"
      ]
     },
     "execution_count": 27,
     "metadata": {},
     "output_type": "execute_result"
    }
   ],
   "source": [
    "# Rename columns\n",
    "\n",
    "# create dictionary to map column names\n",
    "new_colnames = {\n",
    "    \n",
    "    'Company Name':'Company_Brand',\n",
    "    'Industry': 'Sector',\n",
    "    'Round/Series': 'Stage',\n",
    "    'Location': 'HeadQuarter',\n",
    "    'About Company':'What_it_does',\n",
    "    'Amount':'Amount'}\n",
    "df_3 = df_3.rename(columns=new_colnames)\n",
    "\n",
    "df_3\n",
    "\n",
    "\n",
    "# Company_Brand\tFounded\tHeadQuarter\tSector\tWhat_it_does\tFounders\tInvestor\tAmount\tStage\n",
    "\n"
   ]
  },
  {
   "cell_type": "markdown",
   "metadata": {},
   "source": [
    "+ __Datasets now have same column names__\n",
    "+ Concat datasets"
   ]
  },
  {
   "cell_type": "code",
   "execution_count": 28,
   "metadata": {},
   "outputs": [],
   "source": [
    "# concat datasets along rows(axis=0)\n",
    "\n",
    "data = pd.concat([df,df_1, df_2, df_3], axis=0, ignore_index=True)\n",
    "\n"
   ]
  },
  {
   "cell_type": "code",
   "execution_count": 29,
   "metadata": {},
   "outputs": [
    {
     "data": {
      "text/html": [
       "<div>\n",
       "<style scoped>\n",
       "    .dataframe tbody tr th:only-of-type {\n",
       "        vertical-align: middle;\n",
       "    }\n",
       "\n",
       "    .dataframe tbody tr th {\n",
       "        vertical-align: top;\n",
       "    }\n",
       "\n",
       "    .dataframe thead th {\n",
       "        text-align: right;\n",
       "    }\n",
       "</style>\n",
       "<table border=\"1\" class=\"dataframe\">\n",
       "  <thead>\n",
       "    <tr style=\"text-align: right;\">\n",
       "      <th></th>\n",
       "      <th>Company_Brand</th>\n",
       "      <th>Founded</th>\n",
       "      <th>HeadQuarter</th>\n",
       "      <th>Sector</th>\n",
       "      <th>What_it_does</th>\n",
       "      <th>Founders</th>\n",
       "      <th>Investor</th>\n",
       "      <th>Amount</th>\n",
       "      <th>Stage</th>\n",
       "    </tr>\n",
       "  </thead>\n",
       "  <tbody>\n",
       "    <tr>\n",
       "      <th>2800</th>\n",
       "      <td>Udaan</td>\n",
       "      <td>NaN</td>\n",
       "      <td>Bangalore, Karnataka, India</td>\n",
       "      <td>B2B, Business Development, Internet, Marketplace</td>\n",
       "      <td>Udaan is a B2B trade platform, designed specif...</td>\n",
       "      <td>NaN</td>\n",
       "      <td>NaN</td>\n",
       "      <td>225000000</td>\n",
       "      <td>Series C</td>\n",
       "    </tr>\n",
       "    <tr>\n",
       "      <th>2801</th>\n",
       "      <td>Happyeasygo Group</td>\n",
       "      <td>NaN</td>\n",
       "      <td>Haryana, Haryana, India</td>\n",
       "      <td>Tourism, Travel</td>\n",
       "      <td>HappyEasyGo is an online travel domain.</td>\n",
       "      <td>NaN</td>\n",
       "      <td>NaN</td>\n",
       "      <td>—</td>\n",
       "      <td>Series A</td>\n",
       "    </tr>\n",
       "    <tr>\n",
       "      <th>2802</th>\n",
       "      <td>Mombay</td>\n",
       "      <td>NaN</td>\n",
       "      <td>Mumbai, Maharashtra, India</td>\n",
       "      <td>Food and Beverage, Food Delivery, Internet</td>\n",
       "      <td>Mombay is a unique opportunity for housewives ...</td>\n",
       "      <td>NaN</td>\n",
       "      <td>NaN</td>\n",
       "      <td>7500</td>\n",
       "      <td>Seed</td>\n",
       "    </tr>\n",
       "    <tr>\n",
       "      <th>2803</th>\n",
       "      <td>Droni Tech</td>\n",
       "      <td>NaN</td>\n",
       "      <td>Mumbai, Maharashtra, India</td>\n",
       "      <td>Information Technology</td>\n",
       "      <td>Droni Tech manufacture UAVs and develop softwa...</td>\n",
       "      <td>NaN</td>\n",
       "      <td>NaN</td>\n",
       "      <td>466666.666667</td>\n",
       "      <td>Seed</td>\n",
       "    </tr>\n",
       "    <tr>\n",
       "      <th>2804</th>\n",
       "      <td>Netmeds</td>\n",
       "      <td>NaN</td>\n",
       "      <td>Chennai, Tamil Nadu, India</td>\n",
       "      <td>Biotechnology, Health Care, Pharmaceutical</td>\n",
       "      <td>Welcome to India's most convenient pharmacy!</td>\n",
       "      <td>NaN</td>\n",
       "      <td>NaN</td>\n",
       "      <td>35000000</td>\n",
       "      <td>Series C</td>\n",
       "    </tr>\n",
       "  </tbody>\n",
       "</table>\n",
       "</div>"
      ],
      "text/plain": [
       "          Company_Brand  Founded                  HeadQuarter  \\\n",
       "2800              Udaan      NaN  Bangalore, Karnataka, India   \n",
       "2801  Happyeasygo Group      NaN      Haryana, Haryana, India   \n",
       "2802             Mombay      NaN   Mumbai, Maharashtra, India   \n",
       "2803         Droni Tech      NaN   Mumbai, Maharashtra, India   \n",
       "2804            Netmeds      NaN   Chennai, Tamil Nadu, India   \n",
       "\n",
       "                                                Sector  \\\n",
       "2800  B2B, Business Development, Internet, Marketplace   \n",
       "2801                                   Tourism, Travel   \n",
       "2802        Food and Beverage, Food Delivery, Internet   \n",
       "2803                            Information Technology   \n",
       "2804        Biotechnology, Health Care, Pharmaceutical   \n",
       "\n",
       "                                           What_it_does Founders Investor  \\\n",
       "2800  Udaan is a B2B trade platform, designed specif...      NaN      NaN   \n",
       "2801            HappyEasyGo is an online travel domain.      NaN      NaN   \n",
       "2802  Mombay is a unique opportunity for housewives ...      NaN      NaN   \n",
       "2803  Droni Tech manufacture UAVs and develop softwa...      NaN      NaN   \n",
       "2804       Welcome to India's most convenient pharmacy!      NaN      NaN   \n",
       "\n",
       "             Amount     Stage  \n",
       "2800      225000000  Series C  \n",
       "2801              —  Series A  \n",
       "2802           7500      Seed  \n",
       "2803  466666.666667      Seed  \n",
       "2804       35000000  Series C  "
      ]
     },
     "execution_count": 29,
     "metadata": {},
     "output_type": "execute_result"
    }
   ],
   "source": [
    "# preview the Dataset\n",
    "\n",
    "data.tail()"
   ]
  },
  {
   "cell_type": "code",
   "execution_count": 30,
   "metadata": {},
   "outputs": [
    {
     "data": {
      "text/html": [
       "<div>\n",
       "<style scoped>\n",
       "    .dataframe tbody tr th:only-of-type {\n",
       "        vertical-align: middle;\n",
       "    }\n",
       "\n",
       "    .dataframe tbody tr th {\n",
       "        vertical-align: top;\n",
       "    }\n",
       "\n",
       "    .dataframe thead th {\n",
       "        text-align: right;\n",
       "    }\n",
       "</style>\n",
       "<table border=\"1\" class=\"dataframe\">\n",
       "  <thead>\n",
       "    <tr style=\"text-align: right;\">\n",
       "      <th></th>\n",
       "      <th>Company_Brand</th>\n",
       "      <th>Founded</th>\n",
       "      <th>HeadQuarter</th>\n",
       "      <th>Sector</th>\n",
       "      <th>What_it_does</th>\n",
       "      <th>Founders</th>\n",
       "      <th>Investor</th>\n",
       "      <th>Amount</th>\n",
       "      <th>Stage</th>\n",
       "    </tr>\n",
       "  </thead>\n",
       "  <tbody>\n",
       "    <tr>\n",
       "      <th>0</th>\n",
       "      <td>aqgromalin</td>\n",
       "      <td>2019.0</td>\n",
       "      <td>chennai</td>\n",
       "      <td>agritech</td>\n",
       "      <td>Cultivating Ideas for Profit</td>\n",
       "      <td>Prasanna Manogaran, Bharani C L</td>\n",
       "      <td>Angel investors</td>\n",
       "      <td>200000.0</td>\n",
       "      <td>None</td>\n",
       "    </tr>\n",
       "    <tr>\n",
       "      <th>1</th>\n",
       "      <td>krayonnz</td>\n",
       "      <td>2019.0</td>\n",
       "      <td>bangalore</td>\n",
       "      <td>edtech</td>\n",
       "      <td>An academy-guardian-scholar centric ecosystem ...</td>\n",
       "      <td>Saurabh Dixit, Gurudutt Upadhyay</td>\n",
       "      <td>GSF Accelerator</td>\n",
       "      <td>100000.0</td>\n",
       "      <td>Pre-seed</td>\n",
       "    </tr>\n",
       "    <tr>\n",
       "      <th>2</th>\n",
       "      <td>padcare labs</td>\n",
       "      <td>2018.0</td>\n",
       "      <td>pune</td>\n",
       "      <td>hygiene management</td>\n",
       "      <td>Converting bio-hazardous waste to harmless waste</td>\n",
       "      <td>Ajinkya Dhariya</td>\n",
       "      <td>Venture Center</td>\n",
       "      <td>3000000.0</td>\n",
       "      <td>Pre-seed</td>\n",
       "    </tr>\n",
       "    <tr>\n",
       "      <th>3</th>\n",
       "      <td>ncome</td>\n",
       "      <td>2020.0</td>\n",
       "      <td>new delhi</td>\n",
       "      <td>escrow</td>\n",
       "      <td>Escrow-as-a-service platform</td>\n",
       "      <td>Ritesh Tiwari</td>\n",
       "      <td>Venture Catalysts, PointOne Capital</td>\n",
       "      <td>400000.0</td>\n",
       "      <td>None</td>\n",
       "    </tr>\n",
       "    <tr>\n",
       "      <th>4</th>\n",
       "      <td>gramophone</td>\n",
       "      <td>2016.0</td>\n",
       "      <td>indore</td>\n",
       "      <td>agritech</td>\n",
       "      <td>Gramophone is an AgTech platform enabling acce...</td>\n",
       "      <td>Ashish Rajan Singh, Harshit Gupta, Nishant Mah...</td>\n",
       "      <td>Siana Capital Management, Info Edge</td>\n",
       "      <td>340000.0</td>\n",
       "      <td>None</td>\n",
       "    </tr>\n",
       "  </tbody>\n",
       "</table>\n",
       "</div>"
      ],
      "text/plain": [
       "  Company_Brand  Founded HeadQuarter              Sector  \\\n",
       "0    aqgromalin   2019.0     chennai            agritech   \n",
       "1      krayonnz   2019.0   bangalore              edtech   \n",
       "2  padcare labs   2018.0        pune  hygiene management   \n",
       "3         ncome   2020.0   new delhi              escrow   \n",
       "4    gramophone   2016.0      indore            agritech   \n",
       "\n",
       "                                        What_it_does  \\\n",
       "0                       Cultivating Ideas for Profit   \n",
       "1  An academy-guardian-scholar centric ecosystem ...   \n",
       "2   Converting bio-hazardous waste to harmless waste   \n",
       "3                       Escrow-as-a-service platform   \n",
       "4  Gramophone is an AgTech platform enabling acce...   \n",
       "\n",
       "                                            Founders  \\\n",
       "0                    Prasanna Manogaran, Bharani C L   \n",
       "1                   Saurabh Dixit, Gurudutt Upadhyay   \n",
       "2                                    Ajinkya Dhariya   \n",
       "3                                      Ritesh Tiwari   \n",
       "4  Ashish Rajan Singh, Harshit Gupta, Nishant Mah...   \n",
       "\n",
       "                              Investor     Amount     Stage  \n",
       "0                      Angel investors   200000.0      None  \n",
       "1                      GSF Accelerator   100000.0  Pre-seed  \n",
       "2                       Venture Center  3000000.0  Pre-seed  \n",
       "3  Venture Catalysts, PointOne Capital   400000.0      None  \n",
       "4  Siana Capital Management, Info Edge   340000.0      None  "
      ]
     },
     "execution_count": 30,
     "metadata": {},
     "output_type": "execute_result"
    }
   ],
   "source": [
    "# function to covert rupee to dollars and remove currency signs\n",
    "def convert_to_dollars(value):\n",
    "    \n",
    "    if isinstance(value, float):\n",
    "\n",
    "        # If the value is already a float, return it as is\n",
    "        return value\n",
    "    elif isinstance(value, str) and value.isdigit():\n",
    "\n",
    "        # If the value is a string consisting of digits, convert it to numeric\n",
    "        return pd.to_numeric(value) / 75\n",
    "    elif isinstance(value, str) and '.' in value:\n",
    "        # If the value is a string containing a dot (possible decimal), convert it to numeric\n",
    "        return pd.to_numeric(value) / 75\n",
    "    else:\n",
    "        # For other cases, return NaN\n",
    "        return float('nan')\n",
    "\n",
    "\n",
    "# Apply the function to the 'Amount' column\n",
    "data['Amount'] = data['Amount'].apply(lambda x: convert_to_dollars(x) if pd.notnull(x) else x)\n",
    "\n",
    "# # Convert the 'Amount' column to float\n",
    "data['Amount'] = data['Amount'].astype(float)\n",
    "\n",
    "# Print the DataFrame after conversion\n",
    "data.head()\n"
   ]
  },
  {
   "cell_type": "code",
   "execution_count": 31,
   "metadata": {},
   "outputs": [
    {
     "name": "stdout",
     "output_type": "stream",
     "text": [
      "<class 'pandas.core.frame.DataFrame'>\n",
      "RangeIndex: 2805 entries, 0 to 2804\n",
      "Data columns (total 9 columns):\n",
      " #   Column         Non-Null Count  Dtype  \n",
      "---  ------         --------------  -----  \n",
      " 0   Company_Brand  2805 non-null   object \n",
      " 1   Founded        2057 non-null   float64\n",
      " 2   HeadQuarter    2695 non-null   object \n",
      " 3   Sector         2788 non-null   object \n",
      " 4   What_it_does   2805 non-null   object \n",
      " 5   Founders       2260 non-null   object \n",
      " 6   Investor       2179 non-null   object \n",
      " 7   Amount         1300 non-null   float64\n",
      " 8   Stage          1902 non-null   object \n",
      "dtypes: float64(2), object(7)\n",
      "memory usage: 197.4+ KB\n"
     ]
    }
   ],
   "source": [
    "data.info()"
   ]
  },
  {
   "cell_type": "code",
   "execution_count": 32,
   "metadata": {},
   "outputs": [
    {
     "data": {
      "text/html": [
       "<div>\n",
       "<style scoped>\n",
       "    .dataframe tbody tr th:only-of-type {\n",
       "        vertical-align: middle;\n",
       "    }\n",
       "\n",
       "    .dataframe tbody tr th {\n",
       "        vertical-align: top;\n",
       "    }\n",
       "\n",
       "    .dataframe thead th {\n",
       "        text-align: right;\n",
       "    }\n",
       "</style>\n",
       "<table border=\"1\" class=\"dataframe\">\n",
       "  <thead>\n",
       "    <tr style=\"text-align: right;\">\n",
       "      <th></th>\n",
       "      <th>Company_Brand</th>\n",
       "      <th>Founded</th>\n",
       "      <th>HeadQuarter</th>\n",
       "      <th>Sector</th>\n",
       "      <th>What_it_does</th>\n",
       "      <th>Founders</th>\n",
       "      <th>Investor</th>\n",
       "      <th>Amount</th>\n",
       "      <th>Stage</th>\n",
       "    </tr>\n",
       "  </thead>\n",
       "  <tbody>\n",
       "    <tr>\n",
       "      <th>0</th>\n",
       "      <td>aqgromalin</td>\n",
       "      <td>2019.0</td>\n",
       "      <td>chennai</td>\n",
       "      <td>agritech</td>\n",
       "      <td>Cultivating Ideas for Profit</td>\n",
       "      <td>Prasanna Manogaran, Bharani C L</td>\n",
       "      <td>Angel investors</td>\n",
       "      <td>200000.0</td>\n",
       "      <td>None</td>\n",
       "    </tr>\n",
       "    <tr>\n",
       "      <th>1</th>\n",
       "      <td>krayonnz</td>\n",
       "      <td>2019.0</td>\n",
       "      <td>bangalore</td>\n",
       "      <td>edtech</td>\n",
       "      <td>An academy-guardian-scholar centric ecosystem ...</td>\n",
       "      <td>Saurabh Dixit, Gurudutt Upadhyay</td>\n",
       "      <td>GSF Accelerator</td>\n",
       "      <td>100000.0</td>\n",
       "      <td>Pre-seed</td>\n",
       "    </tr>\n",
       "    <tr>\n",
       "      <th>2</th>\n",
       "      <td>padcare labs</td>\n",
       "      <td>2018.0</td>\n",
       "      <td>pune</td>\n",
       "      <td>hygiene management</td>\n",
       "      <td>Converting bio-hazardous waste to harmless waste</td>\n",
       "      <td>Ajinkya Dhariya</td>\n",
       "      <td>Venture Center</td>\n",
       "      <td>3000000.0</td>\n",
       "      <td>Pre-seed</td>\n",
       "    </tr>\n",
       "    <tr>\n",
       "      <th>3</th>\n",
       "      <td>ncome</td>\n",
       "      <td>2020.0</td>\n",
       "      <td>new delhi</td>\n",
       "      <td>escrow</td>\n",
       "      <td>Escrow-as-a-service platform</td>\n",
       "      <td>Ritesh Tiwari</td>\n",
       "      <td>Venture Catalysts, PointOne Capital</td>\n",
       "      <td>400000.0</td>\n",
       "      <td>None</td>\n",
       "    </tr>\n",
       "    <tr>\n",
       "      <th>4</th>\n",
       "      <td>gramophone</td>\n",
       "      <td>2016.0</td>\n",
       "      <td>indore</td>\n",
       "      <td>agritech</td>\n",
       "      <td>Gramophone is an AgTech platform enabling acce...</td>\n",
       "      <td>Ashish Rajan Singh, Harshit Gupta, Nishant Mah...</td>\n",
       "      <td>Siana Capital Management, Info Edge</td>\n",
       "      <td>340000.0</td>\n",
       "      <td>None</td>\n",
       "    </tr>\n",
       "    <tr>\n",
       "      <th>5</th>\n",
       "      <td>qzense</td>\n",
       "      <td>2019.0</td>\n",
       "      <td>bangalore</td>\n",
       "      <td>agritech</td>\n",
       "      <td>qZense Labs is building the next-generation Io...</td>\n",
       "      <td>Rubal Chib, Dr Srishti Batra</td>\n",
       "      <td>Venture Catalysts, 9Unicorns Accelerator Fund</td>\n",
       "      <td>600000.0</td>\n",
       "      <td>Seed</td>\n",
       "    </tr>\n",
       "    <tr>\n",
       "      <th>6</th>\n",
       "      <td>myclassboard</td>\n",
       "      <td>2008.0</td>\n",
       "      <td>hyderabad</td>\n",
       "      <td>edtech</td>\n",
       "      <td>MyClassboard is a full-fledged School / Colleg...</td>\n",
       "      <td>Ajay Sakhamuri</td>\n",
       "      <td>ICICI Bank.</td>\n",
       "      <td>600000.0</td>\n",
       "      <td>Pre-series A</td>\n",
       "    </tr>\n",
       "    <tr>\n",
       "      <th>7</th>\n",
       "      <td>metvy</td>\n",
       "      <td>2018.0</td>\n",
       "      <td>gurgaon</td>\n",
       "      <td>networking platform</td>\n",
       "      <td>AI driven networking platform for individuals ...</td>\n",
       "      <td>Shawrya Mehrotra</td>\n",
       "      <td>HostelFund</td>\n",
       "      <td>3000000.0</td>\n",
       "      <td>Pre-series</td>\n",
       "    </tr>\n",
       "    <tr>\n",
       "      <th>8</th>\n",
       "      <td>rupeek</td>\n",
       "      <td>2015.0</td>\n",
       "      <td>bangalore</td>\n",
       "      <td>fintech</td>\n",
       "      <td>Rupeek is an online lending platform that spec...</td>\n",
       "      <td>Amar Prabhu, Ashwin Soni, Sumit Maniyar</td>\n",
       "      <td>KB Investment, Bertelsmann India Investments</td>\n",
       "      <td>45000000.0</td>\n",
       "      <td>Series C</td>\n",
       "    </tr>\n",
       "    <tr>\n",
       "      <th>9</th>\n",
       "      <td>gig india</td>\n",
       "      <td>2017.0</td>\n",
       "      <td>pune</td>\n",
       "      <td>crowdsourcing</td>\n",
       "      <td>GigIndia is a marketplace that provides on-dem...</td>\n",
       "      <td>Aditya Shirole, Sahil Sharma</td>\n",
       "      <td>Shantanu Deshpande, Subramaniam Ramadorai</td>\n",
       "      <td>1000000.0</td>\n",
       "      <td>Pre-series A</td>\n",
       "    </tr>\n",
       "    <tr>\n",
       "      <th>10</th>\n",
       "      <td>slurrp farm</td>\n",
       "      <td>2016.0</td>\n",
       "      <td>gurgaon</td>\n",
       "      <td>food &amp; bevarages</td>\n",
       "      <td>Slurrp Farm is a children health food brand.</td>\n",
       "      <td>Meghana Narayan</td>\n",
       "      <td>Fireside Ventures</td>\n",
       "      <td>2000000.0</td>\n",
       "      <td>Series A</td>\n",
       "    </tr>\n",
       "    <tr>\n",
       "      <th>11</th>\n",
       "      <td>medfin</td>\n",
       "      <td>2017.0</td>\n",
       "      <td>bangalore</td>\n",
       "      <td>healthtech</td>\n",
       "      <td>Medfin is a Discovery platform for medical pro...</td>\n",
       "      <td>Arjun Kumar, Arun Kumar, Sidharth Gurjar</td>\n",
       "      <td>Axilor Ventures, S.D. Shibulal</td>\n",
       "      <td>3000000.0</td>\n",
       "      <td>Series A</td>\n",
       "    </tr>\n",
       "    <tr>\n",
       "      <th>12</th>\n",
       "      <td>masterg</td>\n",
       "      <td>2015.0</td>\n",
       "      <td>new delhi</td>\n",
       "      <td>fashion startup</td>\n",
       "      <td>MasterG is a design and skill development orga...</td>\n",
       "      <td>Gayatri Jolly</td>\n",
       "      <td>Acumen Fund's angel programme</td>\n",
       "      <td>3000000.0</td>\n",
       "      <td>None</td>\n",
       "    </tr>\n",
       "    <tr>\n",
       "      <th>13</th>\n",
       "      <td>brila 91</td>\n",
       "      <td>2014.0</td>\n",
       "      <td>new delhi</td>\n",
       "      <td>food &amp; bevarages</td>\n",
       "      <td>Bira 91 is a craft beer company.</td>\n",
       "      <td>Ankur Jain</td>\n",
       "      <td>Sequoia Capital India, Sixth Sense Ventures</td>\n",
       "      <td>1200000.0</td>\n",
       "      <td>None</td>\n",
       "    </tr>\n",
       "    <tr>\n",
       "      <th>14</th>\n",
       "      <td>foodybuddy</td>\n",
       "      <td>2015.0</td>\n",
       "      <td>belgaum</td>\n",
       "      <td>food industry</td>\n",
       "      <td>FoodyBuddy is a online food delivery portal</td>\n",
       "      <td>Akil Sethuraman, Anup Gopinath, Rachna Rao</td>\n",
       "      <td>Rebel Foods</td>\n",
       "      <td>600000.0</td>\n",
       "      <td>None</td>\n",
       "    </tr>\n",
       "    <tr>\n",
       "      <th>15</th>\n",
       "      <td>zomato</td>\n",
       "      <td>2008.0</td>\n",
       "      <td>gurgaon</td>\n",
       "      <td>food delivery</td>\n",
       "      <td>Zomato is a food delivery and restaurant disco...</td>\n",
       "      <td>Deepinder Goyal, Gaurav Gupta, Pankaj Chaddah</td>\n",
       "      <td>Kora, Tiger Global Management</td>\n",
       "      <td>660000000.0</td>\n",
       "      <td>None</td>\n",
       "    </tr>\n",
       "    <tr>\n",
       "      <th>16</th>\n",
       "      <td>oureye.ai</td>\n",
       "      <td>2020.0</td>\n",
       "      <td>bangalore</td>\n",
       "      <td>virtual auditing startup</td>\n",
       "      <td>Video intelligence solution for Enterprise Sta...</td>\n",
       "      <td>Miran Junaidi, Saurabh Ghanekar, Sourav Sanyal</td>\n",
       "      <td>100X VC, Amara Ventures</td>\n",
       "      <td>120000.0</td>\n",
       "      <td>None</td>\n",
       "    </tr>\n",
       "    <tr>\n",
       "      <th>17</th>\n",
       "      <td>shiprocket</td>\n",
       "      <td>2017.0</td>\n",
       "      <td>new delhi</td>\n",
       "      <td>e-commerce</td>\n",
       "      <td>Shiprocket helps online retailers simplify the...</td>\n",
       "      <td>Gautam Kapoor, Saahil Goel, Vishesh Khurana</td>\n",
       "      <td>Bertelsmann India Investments, InnoVen Capital</td>\n",
       "      <td>7500000.0</td>\n",
       "      <td>Series C</td>\n",
       "    </tr>\n",
       "    <tr>\n",
       "      <th>18</th>\n",
       "      <td>pine labs</td>\n",
       "      <td>1998.0</td>\n",
       "      <td>noida</td>\n",
       "      <td>fintech</td>\n",
       "      <td>A merchant platform company that provides fina...</td>\n",
       "      <td>Amrish Rau</td>\n",
       "      <td>Mastercard, Temasek Holdings</td>\n",
       "      <td>3000000.0</td>\n",
       "      <td>None</td>\n",
       "    </tr>\n",
       "    <tr>\n",
       "      <th>19</th>\n",
       "      <td>moneyboxx finance</td>\n",
       "      <td>2019.0</td>\n",
       "      <td>new delhi</td>\n",
       "      <td>fintech</td>\n",
       "      <td>MONEYBOXX FINANCE LTD is committed to providin...</td>\n",
       "      <td>Prashant Agarwal</td>\n",
       "      <td>BlackSoil, Caspian</td>\n",
       "      <td>1000000.0</td>\n",
       "      <td>None</td>\n",
       "    </tr>\n",
       "  </tbody>\n",
       "</table>\n",
       "</div>"
      ],
      "text/plain": [
       "        Company_Brand  Founded HeadQuarter                    Sector  \\\n",
       "0          aqgromalin   2019.0     chennai                  agritech   \n",
       "1            krayonnz   2019.0   bangalore                    edtech   \n",
       "2        padcare labs   2018.0        pune        hygiene management   \n",
       "3               ncome   2020.0   new delhi                    escrow   \n",
       "4          gramophone   2016.0      indore                  agritech   \n",
       "5              qzense   2019.0   bangalore                  agritech   \n",
       "6        myclassboard   2008.0   hyderabad                    edtech   \n",
       "7               metvy   2018.0     gurgaon       networking platform   \n",
       "8              rupeek   2015.0   bangalore                   fintech   \n",
       "9           gig india   2017.0        pune             crowdsourcing   \n",
       "10        slurrp farm   2016.0     gurgaon          food & bevarages   \n",
       "11             medfin   2017.0   bangalore                healthtech   \n",
       "12            masterg   2015.0   new delhi           fashion startup   \n",
       "13           brila 91   2014.0   new delhi          food & bevarages   \n",
       "14         foodybuddy   2015.0     belgaum             food industry   \n",
       "15             zomato   2008.0     gurgaon             food delivery   \n",
       "16          oureye.ai   2020.0   bangalore  virtual auditing startup   \n",
       "17         shiprocket   2017.0   new delhi                e-commerce   \n",
       "18          pine labs   1998.0       noida                   fintech   \n",
       "19  moneyboxx finance   2019.0   new delhi                   fintech   \n",
       "\n",
       "                                         What_it_does  \\\n",
       "0                        Cultivating Ideas for Profit   \n",
       "1   An academy-guardian-scholar centric ecosystem ...   \n",
       "2    Converting bio-hazardous waste to harmless waste   \n",
       "3                        Escrow-as-a-service platform   \n",
       "4   Gramophone is an AgTech platform enabling acce...   \n",
       "5   qZense Labs is building the next-generation Io...   \n",
       "6   MyClassboard is a full-fledged School / Colleg...   \n",
       "7   AI driven networking platform for individuals ...   \n",
       "8   Rupeek is an online lending platform that spec...   \n",
       "9   GigIndia is a marketplace that provides on-dem...   \n",
       "10       Slurrp Farm is a children health food brand.   \n",
       "11  Medfin is a Discovery platform for medical pro...   \n",
       "12  MasterG is a design and skill development orga...   \n",
       "13                   Bira 91 is a craft beer company.   \n",
       "14        FoodyBuddy is a online food delivery portal   \n",
       "15  Zomato is a food delivery and restaurant disco...   \n",
       "16  Video intelligence solution for Enterprise Sta...   \n",
       "17  Shiprocket helps online retailers simplify the...   \n",
       "18  A merchant platform company that provides fina...   \n",
       "19  MONEYBOXX FINANCE LTD is committed to providin...   \n",
       "\n",
       "                                             Founders  \\\n",
       "0                     Prasanna Manogaran, Bharani C L   \n",
       "1                    Saurabh Dixit, Gurudutt Upadhyay   \n",
       "2                                     Ajinkya Dhariya   \n",
       "3                                       Ritesh Tiwari   \n",
       "4   Ashish Rajan Singh, Harshit Gupta, Nishant Mah...   \n",
       "5                        Rubal Chib, Dr Srishti Batra   \n",
       "6                                      Ajay Sakhamuri   \n",
       "7                                    Shawrya Mehrotra   \n",
       "8             Amar Prabhu, Ashwin Soni, Sumit Maniyar   \n",
       "9                        Aditya Shirole, Sahil Sharma   \n",
       "10                                    Meghana Narayan   \n",
       "11           Arjun Kumar, Arun Kumar, Sidharth Gurjar   \n",
       "12                                      Gayatri Jolly   \n",
       "13                                         Ankur Jain   \n",
       "14         Akil Sethuraman, Anup Gopinath, Rachna Rao   \n",
       "15      Deepinder Goyal, Gaurav Gupta, Pankaj Chaddah   \n",
       "16     Miran Junaidi, Saurabh Ghanekar, Sourav Sanyal   \n",
       "17        Gautam Kapoor, Saahil Goel, Vishesh Khurana   \n",
       "18                                         Amrish Rau   \n",
       "19                                   Prashant Agarwal   \n",
       "\n",
       "                                          Investor       Amount         Stage  \n",
       "0                                  Angel investors     200000.0          None  \n",
       "1                                  GSF Accelerator     100000.0      Pre-seed  \n",
       "2                                   Venture Center    3000000.0      Pre-seed  \n",
       "3              Venture Catalysts, PointOne Capital     400000.0          None  \n",
       "4              Siana Capital Management, Info Edge     340000.0          None  \n",
       "5    Venture Catalysts, 9Unicorns Accelerator Fund     600000.0          Seed  \n",
       "6                                      ICICI Bank.     600000.0  Pre-series A  \n",
       "7                                       HostelFund    3000000.0    Pre-series  \n",
       "8     KB Investment, Bertelsmann India Investments   45000000.0      Series C  \n",
       "9        Shantanu Deshpande, Subramaniam Ramadorai    1000000.0  Pre-series A  \n",
       "10                               Fireside Ventures    2000000.0      Series A  \n",
       "11                  Axilor Ventures, S.D. Shibulal    3000000.0      Series A  \n",
       "12                   Acumen Fund's angel programme    3000000.0          None  \n",
       "13     Sequoia Capital India, Sixth Sense Ventures    1200000.0          None  \n",
       "14                                     Rebel Foods     600000.0          None  \n",
       "15                   Kora, Tiger Global Management  660000000.0          None  \n",
       "16                         100X VC, Amara Ventures     120000.0          None  \n",
       "17  Bertelsmann India Investments, InnoVen Capital    7500000.0      Series C  \n",
       "18                    Mastercard, Temasek Holdings    3000000.0          None  \n",
       "19                              BlackSoil, Caspian    1000000.0          None  "
      ]
     },
     "execution_count": 32,
     "metadata": {},
     "output_type": "execute_result"
    }
   ],
   "source": [
    "data['Amount'] = data['Amount'].astype(float)\n",
    "\n",
    "# Create a SimpleImputer instance with the strategy set to 'mean'\n",
    "imputer = SimpleImputer(strategy='median')\n",
    "\n",
    "# Fit the imputer on the 'Amount' column and transform the DataFrame\n",
    "data['Amount'] = imputer.fit_transform(data[['Amount']])\n",
    "\n",
    "# Print the DataFrame to verify the changes\n",
    "data.head(20)\n",
    "\n",
    "# # fiil na with mean\n",
    "\n",
    "# # Calculate the mean of the 'Amount' column\n",
    "# mean_amount = data['Amount'].mean()\n",
    "\n",
    "# # Impute null values with the mean\n",
    "# data['Amount'] = data['Amount'].fillna(mean_amount)\n",
    "\n",
    "# # Print the DataFrame after imputation\n",
    "# data.tail()\n"
   ]
  },
  {
   "cell_type": "code",
   "execution_count": 33,
   "metadata": {},
   "outputs": [
    {
     "data": {
      "text/html": [
       "<div>\n",
       "<style scoped>\n",
       "    .dataframe tbody tr th:only-of-type {\n",
       "        vertical-align: middle;\n",
       "    }\n",
       "\n",
       "    .dataframe tbody tr th {\n",
       "        vertical-align: top;\n",
       "    }\n",
       "\n",
       "    .dataframe thead th {\n",
       "        text-align: right;\n",
       "    }\n",
       "</style>\n",
       "<table border=\"1\" class=\"dataframe\">\n",
       "  <thead>\n",
       "    <tr style=\"text-align: right;\">\n",
       "      <th></th>\n",
       "      <th>Company_Brand</th>\n",
       "      <th>Founded</th>\n",
       "      <th>HeadQuarter</th>\n",
       "      <th>Sector</th>\n",
       "      <th>What_it_does</th>\n",
       "      <th>Founders</th>\n",
       "      <th>Investor</th>\n",
       "      <th>Amount</th>\n",
       "      <th>Stage</th>\n",
       "    </tr>\n",
       "  </thead>\n",
       "  <tbody>\n",
       "    <tr>\n",
       "      <th>2800</th>\n",
       "      <td>Udaan</td>\n",
       "      <td>NaN</td>\n",
       "      <td>Bangalore</td>\n",
       "      <td>B2B</td>\n",
       "      <td>Udaan is a B2B trade platform, designed specif...</td>\n",
       "      <td>NaN</td>\n",
       "      <td>NaN</td>\n",
       "      <td>3.000000e+06</td>\n",
       "      <td>Series C</td>\n",
       "    </tr>\n",
       "    <tr>\n",
       "      <th>2801</th>\n",
       "      <td>Happyeasygo Group</td>\n",
       "      <td>NaN</td>\n",
       "      <td>Haryana</td>\n",
       "      <td>Tourism</td>\n",
       "      <td>HappyEasyGo is an online travel domain.</td>\n",
       "      <td>NaN</td>\n",
       "      <td>NaN</td>\n",
       "      <td>3.000000e+06</td>\n",
       "      <td>Series A</td>\n",
       "    </tr>\n",
       "    <tr>\n",
       "      <th>2802</th>\n",
       "      <td>Mombay</td>\n",
       "      <td>NaN</td>\n",
       "      <td>Mumbai</td>\n",
       "      <td>Food and Beverage</td>\n",
       "      <td>Mombay is a unique opportunity for housewives ...</td>\n",
       "      <td>NaN</td>\n",
       "      <td>NaN</td>\n",
       "      <td>1.000000e+02</td>\n",
       "      <td>Seed</td>\n",
       "    </tr>\n",
       "    <tr>\n",
       "      <th>2803</th>\n",
       "      <td>Droni Tech</td>\n",
       "      <td>NaN</td>\n",
       "      <td>Mumbai</td>\n",
       "      <td>Information Technology</td>\n",
       "      <td>Droni Tech manufacture UAVs and develop softwa...</td>\n",
       "      <td>NaN</td>\n",
       "      <td>NaN</td>\n",
       "      <td>4.666667e+05</td>\n",
       "      <td>Seed</td>\n",
       "    </tr>\n",
       "    <tr>\n",
       "      <th>2804</th>\n",
       "      <td>Netmeds</td>\n",
       "      <td>NaN</td>\n",
       "      <td>Chennai</td>\n",
       "      <td>Biotechnology</td>\n",
       "      <td>Welcome to India's most convenient pharmacy!</td>\n",
       "      <td>NaN</td>\n",
       "      <td>NaN</td>\n",
       "      <td>4.666667e+05</td>\n",
       "      <td>Series C</td>\n",
       "    </tr>\n",
       "  </tbody>\n",
       "</table>\n",
       "</div>"
      ],
      "text/plain": [
       "          Company_Brand  Founded HeadQuarter                  Sector  \\\n",
       "2800              Udaan      NaN   Bangalore                     B2B   \n",
       "2801  Happyeasygo Group      NaN     Haryana                 Tourism   \n",
       "2802             Mombay      NaN      Mumbai       Food and Beverage   \n",
       "2803         Droni Tech      NaN      Mumbai  Information Technology   \n",
       "2804            Netmeds      NaN     Chennai           Biotechnology   \n",
       "\n",
       "                                           What_it_does Founders Investor  \\\n",
       "2800  Udaan is a B2B trade platform, designed specif...      NaN      NaN   \n",
       "2801            HappyEasyGo is an online travel domain.      NaN      NaN   \n",
       "2802  Mombay is a unique opportunity for housewives ...      NaN      NaN   \n",
       "2803  Droni Tech manufacture UAVs and develop softwa...      NaN      NaN   \n",
       "2804       Welcome to India's most convenient pharmacy!      NaN      NaN   \n",
       "\n",
       "            Amount     Stage  \n",
       "2800  3.000000e+06  Series C  \n",
       "2801  3.000000e+06  Series A  \n",
       "2802  1.000000e+02      Seed  \n",
       "2803  4.666667e+05      Seed  \n",
       "2804  4.666667e+05  Series C  "
      ]
     },
     "execution_count": 33,
     "metadata": {},
     "output_type": "execute_result"
    }
   ],
   "source": [
    "\n",
    "# clean HeadQuarter and Sector  \n",
    "data['Sector'] = data['Sector'].str.split(',').str[0]\n",
    "\n",
    "data['HeadQuarter'] = data['HeadQuarter'].str.split(',').str[0]\n",
    "\n",
    "data.tail()\n",
    " "
   ]
  },
  {
   "cell_type": "code",
   "execution_count": 34,
   "metadata": {},
   "outputs": [],
   "source": [
    "# Drop colums\n",
    "\n",
    "data = data.drop(columns= ['Founded','Founders','Investor'])\n",
    "\n"
   ]
  },
  {
   "cell_type": "code",
   "execution_count": 35,
   "metadata": {},
   "outputs": [
    {
     "data": {
      "text/html": [
       "<div>\n",
       "<style scoped>\n",
       "    .dataframe tbody tr th:only-of-type {\n",
       "        vertical-align: middle;\n",
       "    }\n",
       "\n",
       "    .dataframe tbody tr th {\n",
       "        vertical-align: top;\n",
       "    }\n",
       "\n",
       "    .dataframe thead th {\n",
       "        text-align: right;\n",
       "    }\n",
       "</style>\n",
       "<table border=\"1\" class=\"dataframe\">\n",
       "  <thead>\n",
       "    <tr style=\"text-align: right;\">\n",
       "      <th></th>\n",
       "      <th>Company_Brand</th>\n",
       "      <th>HeadQuarter</th>\n",
       "      <th>Sector</th>\n",
       "      <th>What_it_does</th>\n",
       "      <th>Amount</th>\n",
       "      <th>Stage</th>\n",
       "    </tr>\n",
       "  </thead>\n",
       "  <tbody>\n",
       "    <tr>\n",
       "      <th>0</th>\n",
       "      <td>aqgromalin</td>\n",
       "      <td>chennai</td>\n",
       "      <td>agritech</td>\n",
       "      <td>Cultivating Ideas for Profit</td>\n",
       "      <td>2.000000e+05</td>\n",
       "      <td>None</td>\n",
       "    </tr>\n",
       "    <tr>\n",
       "      <th>1</th>\n",
       "      <td>krayonnz</td>\n",
       "      <td>bangalore</td>\n",
       "      <td>edtech</td>\n",
       "      <td>An academy-guardian-scholar centric ecosystem ...</td>\n",
       "      <td>1.000000e+05</td>\n",
       "      <td>Pre-seed</td>\n",
       "    </tr>\n",
       "    <tr>\n",
       "      <th>2</th>\n",
       "      <td>padcare labs</td>\n",
       "      <td>pune</td>\n",
       "      <td>hygiene management</td>\n",
       "      <td>Converting bio-hazardous waste to harmless waste</td>\n",
       "      <td>3.000000e+06</td>\n",
       "      <td>Pre-seed</td>\n",
       "    </tr>\n",
       "    <tr>\n",
       "      <th>3</th>\n",
       "      <td>ncome</td>\n",
       "      <td>new delhi</td>\n",
       "      <td>escrow</td>\n",
       "      <td>Escrow-as-a-service platform</td>\n",
       "      <td>4.000000e+05</td>\n",
       "      <td>None</td>\n",
       "    </tr>\n",
       "    <tr>\n",
       "      <th>4</th>\n",
       "      <td>gramophone</td>\n",
       "      <td>indore</td>\n",
       "      <td>agritech</td>\n",
       "      <td>Gramophone is an AgTech platform enabling acce...</td>\n",
       "      <td>3.400000e+05</td>\n",
       "      <td>None</td>\n",
       "    </tr>\n",
       "    <tr>\n",
       "      <th>...</th>\n",
       "      <td>...</td>\n",
       "      <td>...</td>\n",
       "      <td>...</td>\n",
       "      <td>...</td>\n",
       "      <td>...</td>\n",
       "      <td>...</td>\n",
       "    </tr>\n",
       "    <tr>\n",
       "      <th>2800</th>\n",
       "      <td>Udaan</td>\n",
       "      <td>Bangalore</td>\n",
       "      <td>B2B</td>\n",
       "      <td>Udaan is a B2B trade platform, designed specif...</td>\n",
       "      <td>3.000000e+06</td>\n",
       "      <td>Series C</td>\n",
       "    </tr>\n",
       "    <tr>\n",
       "      <th>2801</th>\n",
       "      <td>Happyeasygo Group</td>\n",
       "      <td>Haryana</td>\n",
       "      <td>Tourism</td>\n",
       "      <td>HappyEasyGo is an online travel domain.</td>\n",
       "      <td>3.000000e+06</td>\n",
       "      <td>Series A</td>\n",
       "    </tr>\n",
       "    <tr>\n",
       "      <th>2802</th>\n",
       "      <td>Mombay</td>\n",
       "      <td>Mumbai</td>\n",
       "      <td>Food and Beverage</td>\n",
       "      <td>Mombay is a unique opportunity for housewives ...</td>\n",
       "      <td>1.000000e+02</td>\n",
       "      <td>Seed</td>\n",
       "    </tr>\n",
       "    <tr>\n",
       "      <th>2803</th>\n",
       "      <td>Droni Tech</td>\n",
       "      <td>Mumbai</td>\n",
       "      <td>Information Technology</td>\n",
       "      <td>Droni Tech manufacture UAVs and develop softwa...</td>\n",
       "      <td>4.666667e+05</td>\n",
       "      <td>Seed</td>\n",
       "    </tr>\n",
       "    <tr>\n",
       "      <th>2804</th>\n",
       "      <td>Netmeds</td>\n",
       "      <td>Chennai</td>\n",
       "      <td>Biotechnology</td>\n",
       "      <td>Welcome to India's most convenient pharmacy!</td>\n",
       "      <td>4.666667e+05</td>\n",
       "      <td>Series C</td>\n",
       "    </tr>\n",
       "  </tbody>\n",
       "</table>\n",
       "<p>2805 rows × 6 columns</p>\n",
       "</div>"
      ],
      "text/plain": [
       "          Company_Brand HeadQuarter                  Sector  \\\n",
       "0            aqgromalin     chennai                agritech   \n",
       "1              krayonnz   bangalore                  edtech   \n",
       "2          padcare labs        pune      hygiene management   \n",
       "3                 ncome   new delhi                  escrow   \n",
       "4            gramophone      indore                agritech   \n",
       "...                 ...         ...                     ...   \n",
       "2800              Udaan   Bangalore                     B2B   \n",
       "2801  Happyeasygo Group     Haryana                 Tourism   \n",
       "2802             Mombay      Mumbai       Food and Beverage   \n",
       "2803         Droni Tech      Mumbai  Information Technology   \n",
       "2804            Netmeds     Chennai           Biotechnology   \n",
       "\n",
       "                                           What_it_does        Amount  \\\n",
       "0                          Cultivating Ideas for Profit  2.000000e+05   \n",
       "1     An academy-guardian-scholar centric ecosystem ...  1.000000e+05   \n",
       "2      Converting bio-hazardous waste to harmless waste  3.000000e+06   \n",
       "3                          Escrow-as-a-service platform  4.000000e+05   \n",
       "4     Gramophone is an AgTech platform enabling acce...  3.400000e+05   \n",
       "...                                                 ...           ...   \n",
       "2800  Udaan is a B2B trade platform, designed specif...  3.000000e+06   \n",
       "2801            HappyEasyGo is an online travel domain.  3.000000e+06   \n",
       "2802  Mombay is a unique opportunity for housewives ...  1.000000e+02   \n",
       "2803  Droni Tech manufacture UAVs and develop softwa...  4.666667e+05   \n",
       "2804       Welcome to India's most convenient pharmacy!  4.666667e+05   \n",
       "\n",
       "         Stage  \n",
       "0         None  \n",
       "1     Pre-seed  \n",
       "2     Pre-seed  \n",
       "3         None  \n",
       "4         None  \n",
       "...        ...  \n",
       "2800  Series C  \n",
       "2801  Series A  \n",
       "2802      Seed  \n",
       "2803      Seed  \n",
       "2804  Series C  \n",
       "\n",
       "[2805 rows x 6 columns]"
      ]
     },
     "execution_count": 35,
     "metadata": {},
     "output_type": "execute_result"
    }
   ],
   "source": [
    "data"
   ]
  },
  {
   "cell_type": "code",
   "execution_count": 36,
   "metadata": {},
   "outputs": [
    {
     "data": {
      "text/html": [
       "<div>\n",
       "<style scoped>\n",
       "    .dataframe tbody tr th:only-of-type {\n",
       "        vertical-align: middle;\n",
       "    }\n",
       "\n",
       "    .dataframe tbody tr th {\n",
       "        vertical-align: top;\n",
       "    }\n",
       "\n",
       "    .dataframe thead th {\n",
       "        text-align: right;\n",
       "    }\n",
       "</style>\n",
       "<table border=\"1\" class=\"dataframe\">\n",
       "  <thead>\n",
       "    <tr style=\"text-align: right;\">\n",
       "      <th></th>\n",
       "      <th>Company_Brand</th>\n",
       "      <th>HeadQuarter</th>\n",
       "      <th>Sector</th>\n",
       "      <th>What_it_does</th>\n",
       "      <th>Amount</th>\n",
       "      <th>Stage</th>\n",
       "    </tr>\n",
       "  </thead>\n",
       "  <tbody>\n",
       "    <tr>\n",
       "      <th>0</th>\n",
       "      <td>aqgromalin</td>\n",
       "      <td>chennai</td>\n",
       "      <td>agritech</td>\n",
       "      <td>Cultivating Ideas for Profit</td>\n",
       "      <td>200000.00</td>\n",
       "      <td>None</td>\n",
       "    </tr>\n",
       "    <tr>\n",
       "      <th>1</th>\n",
       "      <td>krayonnz</td>\n",
       "      <td>bangalore</td>\n",
       "      <td>edtech</td>\n",
       "      <td>An academy-guardian-scholar centric ecosystem ...</td>\n",
       "      <td>100000.00</td>\n",
       "      <td>Pre-seed</td>\n",
       "    </tr>\n",
       "    <tr>\n",
       "      <th>2</th>\n",
       "      <td>padcare labs</td>\n",
       "      <td>pune</td>\n",
       "      <td>hygiene management</td>\n",
       "      <td>Converting bio-hazardous waste to harmless waste</td>\n",
       "      <td>3000000.00</td>\n",
       "      <td>Pre-seed</td>\n",
       "    </tr>\n",
       "    <tr>\n",
       "      <th>3</th>\n",
       "      <td>ncome</td>\n",
       "      <td>new delhi</td>\n",
       "      <td>escrow</td>\n",
       "      <td>Escrow-as-a-service platform</td>\n",
       "      <td>400000.00</td>\n",
       "      <td>None</td>\n",
       "    </tr>\n",
       "    <tr>\n",
       "      <th>4</th>\n",
       "      <td>gramophone</td>\n",
       "      <td>indore</td>\n",
       "      <td>agritech</td>\n",
       "      <td>Gramophone is an AgTech platform enabling acce...</td>\n",
       "      <td>340000.00</td>\n",
       "      <td>None</td>\n",
       "    </tr>\n",
       "    <tr>\n",
       "      <th>...</th>\n",
       "      <td>...</td>\n",
       "      <td>...</td>\n",
       "      <td>...</td>\n",
       "      <td>...</td>\n",
       "      <td>...</td>\n",
       "      <td>...</td>\n",
       "    </tr>\n",
       "    <tr>\n",
       "      <th>2800</th>\n",
       "      <td>Udaan</td>\n",
       "      <td>Bangalore</td>\n",
       "      <td>B2B</td>\n",
       "      <td>Udaan is a B2B trade platform, designed specif...</td>\n",
       "      <td>3000000.00</td>\n",
       "      <td>Series C</td>\n",
       "    </tr>\n",
       "    <tr>\n",
       "      <th>2801</th>\n",
       "      <td>Happyeasygo Group</td>\n",
       "      <td>Haryana</td>\n",
       "      <td>Tourism</td>\n",
       "      <td>HappyEasyGo is an online travel domain.</td>\n",
       "      <td>3000000.00</td>\n",
       "      <td>Series A</td>\n",
       "    </tr>\n",
       "    <tr>\n",
       "      <th>2802</th>\n",
       "      <td>Mombay</td>\n",
       "      <td>Mumbai</td>\n",
       "      <td>Food and Beverage</td>\n",
       "      <td>Mombay is a unique opportunity for housewives ...</td>\n",
       "      <td>100.00</td>\n",
       "      <td>Seed</td>\n",
       "    </tr>\n",
       "    <tr>\n",
       "      <th>2803</th>\n",
       "      <td>Droni Tech</td>\n",
       "      <td>Mumbai</td>\n",
       "      <td>Information Technology</td>\n",
       "      <td>Droni Tech manufacture UAVs and develop softwa...</td>\n",
       "      <td>466666.67</td>\n",
       "      <td>Seed</td>\n",
       "    </tr>\n",
       "    <tr>\n",
       "      <th>2804</th>\n",
       "      <td>Netmeds</td>\n",
       "      <td>Chennai</td>\n",
       "      <td>Biotechnology</td>\n",
       "      <td>Welcome to India's most convenient pharmacy!</td>\n",
       "      <td>466666.67</td>\n",
       "      <td>Series C</td>\n",
       "    </tr>\n",
       "  </tbody>\n",
       "</table>\n",
       "<p>2805 rows × 6 columns</p>\n",
       "</div>"
      ],
      "text/plain": [
       "          Company_Brand HeadQuarter                  Sector  \\\n",
       "0            aqgromalin     chennai                agritech   \n",
       "1              krayonnz   bangalore                  edtech   \n",
       "2          padcare labs        pune      hygiene management   \n",
       "3                 ncome   new delhi                  escrow   \n",
       "4            gramophone      indore                agritech   \n",
       "...                 ...         ...                     ...   \n",
       "2800              Udaan   Bangalore                     B2B   \n",
       "2801  Happyeasygo Group     Haryana                 Tourism   \n",
       "2802             Mombay      Mumbai       Food and Beverage   \n",
       "2803         Droni Tech      Mumbai  Information Technology   \n",
       "2804            Netmeds     Chennai           Biotechnology   \n",
       "\n",
       "                                           What_it_does      Amount     Stage  \n",
       "0                          Cultivating Ideas for Profit   200000.00      None  \n",
       "1     An academy-guardian-scholar centric ecosystem ...   100000.00  Pre-seed  \n",
       "2      Converting bio-hazardous waste to harmless waste  3000000.00  Pre-seed  \n",
       "3                          Escrow-as-a-service platform   400000.00      None  \n",
       "4     Gramophone is an AgTech platform enabling acce...   340000.00      None  \n",
       "...                                                 ...         ...       ...  \n",
       "2800  Udaan is a B2B trade platform, designed specif...  3000000.00  Series C  \n",
       "2801            HappyEasyGo is an online travel domain.  3000000.00  Series A  \n",
       "2802  Mombay is a unique opportunity for housewives ...      100.00      Seed  \n",
       "2803  Droni Tech manufacture UAVs and develop softwa...   466666.67      Seed  \n",
       "2804       Welcome to India's most convenient pharmacy!   466666.67  Series C  \n",
       "\n",
       "[2805 rows x 6 columns]"
      ]
     },
     "execution_count": 36,
     "metadata": {},
     "output_type": "execute_result"
    }
   ],
   "source": [
    "from decimal import Decimal, ROUND_HALF_UP\n",
    "import pandas as pd\n",
    "\n",
    "# Assuming 'Amount' is the column you want to convert\n",
    "data['Amount'] = data['Amount'].apply(lambda x: Decimal(str(x)).quantize(Decimal('0.00'), rounding=ROUND_HALF_UP))\n",
    "\n",
    "# Display the modified DataFrame\n",
    "data\n"
   ]
  },
  {
   "cell_type": "code",
   "execution_count": 37,
   "metadata": {},
   "outputs": [],
   "source": [
    "data['Amount'] = data['Amount'].astype(float)"
   ]
  },
  {
   "cell_type": "code",
   "execution_count": 38,
   "metadata": {},
   "outputs": [
    {
     "name": "stdout",
     "output_type": "stream",
     "text": [
      "<class 'pandas.core.frame.DataFrame'>\n",
      "RangeIndex: 2805 entries, 0 to 2804\n",
      "Data columns (total 6 columns):\n",
      " #   Column         Non-Null Count  Dtype  \n",
      "---  ------         --------------  -----  \n",
      " 0   Company_Brand  2805 non-null   object \n",
      " 1   HeadQuarter    2695 non-null   object \n",
      " 2   Sector         2788 non-null   object \n",
      " 3   What_it_does   2805 non-null   object \n",
      " 4   Amount         2805 non-null   float64\n",
      " 5   Stage          1902 non-null   object \n",
      "dtypes: float64(1), object(5)\n",
      "memory usage: 131.6+ KB\n"
     ]
    }
   ],
   "source": [
    "data.info()"
   ]
  },
  {
   "cell_type": "code",
   "execution_count": 39,
   "metadata": {},
   "outputs": [],
   "source": [
    "data['Amount'] =data['Amount'].astype(float)"
   ]
  },
  {
   "cell_type": "code",
   "execution_count": 40,
   "metadata": {},
   "outputs": [
    {
     "name": "stdout",
     "output_type": "stream",
     "text": [
      "<class 'pandas.core.frame.DataFrame'>\n",
      "RangeIndex: 2805 entries, 0 to 2804\n",
      "Data columns (total 6 columns):\n",
      " #   Column         Non-Null Count  Dtype  \n",
      "---  ------         --------------  -----  \n",
      " 0   Company_Brand  2805 non-null   object \n",
      " 1   HeadQuarter    2695 non-null   object \n",
      " 2   Sector         2788 non-null   object \n",
      " 3   What_it_does   2805 non-null   object \n",
      " 4   Amount         2805 non-null   float64\n",
      " 5   Stage          1902 non-null   object \n",
      "dtypes: float64(1), object(5)\n",
      "memory usage: 131.6+ KB\n"
     ]
    }
   ],
   "source": [
    "data.info()"
   ]
  },
  {
   "cell_type": "code",
   "execution_count": 41,
   "metadata": {},
   "outputs": [
    {
     "data": {
      "text/plain": [
       "0        200000.00\n",
       "1        100000.00\n",
       "2       3000000.00\n",
       "3        400000.00\n",
       "4        340000.00\n",
       "           ...    \n",
       "2800    3000000.00\n",
       "2801    3000000.00\n",
       "2802        100.00\n",
       "2803     466666.67\n",
       "2804     466666.67\n",
       "Name: Amount, Length: 2805, dtype: float64"
      ]
     },
     "execution_count": 41,
     "metadata": {},
     "output_type": "execute_result"
    }
   ],
   "source": [
    "data['Amount']"
   ]
  },
  {
   "cell_type": "code",
   "execution_count": 42,
   "metadata": {},
   "outputs": [
    {
     "data": {
      "text/html": [
       "<div>\n",
       "<style scoped>\n",
       "    .dataframe tbody tr th:only-of-type {\n",
       "        vertical-align: middle;\n",
       "    }\n",
       "\n",
       "    .dataframe tbody tr th {\n",
       "        vertical-align: top;\n",
       "    }\n",
       "\n",
       "    .dataframe thead th {\n",
       "        text-align: right;\n",
       "    }\n",
       "</style>\n",
       "<table border=\"1\" class=\"dataframe\">\n",
       "  <thead>\n",
       "    <tr style=\"text-align: right;\">\n",
       "      <th></th>\n",
       "      <th>Company_Brand</th>\n",
       "      <th>HeadQuarter</th>\n",
       "      <th>Sector</th>\n",
       "      <th>What_it_does</th>\n",
       "      <th>Amount</th>\n",
       "      <th>Stage</th>\n",
       "    </tr>\n",
       "  </thead>\n",
       "  <tbody>\n",
       "    <tr>\n",
       "      <th>0</th>\n",
       "      <td>aqgromalin</td>\n",
       "      <td>chennai</td>\n",
       "      <td>agritech</td>\n",
       "      <td>Cultivating Ideas for Profit</td>\n",
       "      <td>200000.0</td>\n",
       "      <td>None</td>\n",
       "    </tr>\n",
       "    <tr>\n",
       "      <th>1</th>\n",
       "      <td>krayonnz</td>\n",
       "      <td>bangalore</td>\n",
       "      <td>edtech</td>\n",
       "      <td>An academy-guardian-scholar centric ecosystem ...</td>\n",
       "      <td>100000.0</td>\n",
       "      <td>Pre-seed</td>\n",
       "    </tr>\n",
       "    <tr>\n",
       "      <th>2</th>\n",
       "      <td>padcare labs</td>\n",
       "      <td>pune</td>\n",
       "      <td>hygiene management</td>\n",
       "      <td>Converting bio-hazardous waste to harmless waste</td>\n",
       "      <td>3000000.0</td>\n",
       "      <td>Pre-seed</td>\n",
       "    </tr>\n",
       "    <tr>\n",
       "      <th>3</th>\n",
       "      <td>ncome</td>\n",
       "      <td>new delhi</td>\n",
       "      <td>escrow</td>\n",
       "      <td>Escrow-as-a-service platform</td>\n",
       "      <td>400000.0</td>\n",
       "      <td>None</td>\n",
       "    </tr>\n",
       "    <tr>\n",
       "      <th>4</th>\n",
       "      <td>gramophone</td>\n",
       "      <td>indore</td>\n",
       "      <td>agritech</td>\n",
       "      <td>Gramophone is an AgTech platform enabling acce...</td>\n",
       "      <td>340000.0</td>\n",
       "      <td>None</td>\n",
       "    </tr>\n",
       "    <tr>\n",
       "      <th>5</th>\n",
       "      <td>qzense</td>\n",
       "      <td>bangalore</td>\n",
       "      <td>agritech</td>\n",
       "      <td>qZense Labs is building the next-generation Io...</td>\n",
       "      <td>600000.0</td>\n",
       "      <td>Seed</td>\n",
       "    </tr>\n",
       "    <tr>\n",
       "      <th>6</th>\n",
       "      <td>myclassboard</td>\n",
       "      <td>hyderabad</td>\n",
       "      <td>edtech</td>\n",
       "      <td>MyClassboard is a full-fledged School / Colleg...</td>\n",
       "      <td>600000.0</td>\n",
       "      <td>Pre-series A</td>\n",
       "    </tr>\n",
       "    <tr>\n",
       "      <th>7</th>\n",
       "      <td>metvy</td>\n",
       "      <td>gurgaon</td>\n",
       "      <td>networking platform</td>\n",
       "      <td>AI driven networking platform for individuals ...</td>\n",
       "      <td>3000000.0</td>\n",
       "      <td>Pre-series</td>\n",
       "    </tr>\n",
       "    <tr>\n",
       "      <th>8</th>\n",
       "      <td>rupeek</td>\n",
       "      <td>bangalore</td>\n",
       "      <td>fintech</td>\n",
       "      <td>Rupeek is an online lending platform that spec...</td>\n",
       "      <td>45000000.0</td>\n",
       "      <td>Series C</td>\n",
       "    </tr>\n",
       "    <tr>\n",
       "      <th>9</th>\n",
       "      <td>gig india</td>\n",
       "      <td>pune</td>\n",
       "      <td>crowdsourcing</td>\n",
       "      <td>GigIndia is a marketplace that provides on-dem...</td>\n",
       "      <td>1000000.0</td>\n",
       "      <td>Pre-series A</td>\n",
       "    </tr>\n",
       "    <tr>\n",
       "      <th>10</th>\n",
       "      <td>slurrp farm</td>\n",
       "      <td>gurgaon</td>\n",
       "      <td>food &amp; bevarages</td>\n",
       "      <td>Slurrp Farm is a children health food brand.</td>\n",
       "      <td>2000000.0</td>\n",
       "      <td>Series A</td>\n",
       "    </tr>\n",
       "    <tr>\n",
       "      <th>11</th>\n",
       "      <td>medfin</td>\n",
       "      <td>bangalore</td>\n",
       "      <td>healthtech</td>\n",
       "      <td>Medfin is a Discovery platform for medical pro...</td>\n",
       "      <td>3000000.0</td>\n",
       "      <td>Series A</td>\n",
       "    </tr>\n",
       "    <tr>\n",
       "      <th>12</th>\n",
       "      <td>masterg</td>\n",
       "      <td>new delhi</td>\n",
       "      <td>fashion startup</td>\n",
       "      <td>MasterG is a design and skill development orga...</td>\n",
       "      <td>3000000.0</td>\n",
       "      <td>None</td>\n",
       "    </tr>\n",
       "    <tr>\n",
       "      <th>13</th>\n",
       "      <td>brila 91</td>\n",
       "      <td>new delhi</td>\n",
       "      <td>food &amp; bevarages</td>\n",
       "      <td>Bira 91 is a craft beer company.</td>\n",
       "      <td>1200000.0</td>\n",
       "      <td>None</td>\n",
       "    </tr>\n",
       "    <tr>\n",
       "      <th>14</th>\n",
       "      <td>foodybuddy</td>\n",
       "      <td>belgaum</td>\n",
       "      <td>food industry</td>\n",
       "      <td>FoodyBuddy is a online food delivery portal</td>\n",
       "      <td>600000.0</td>\n",
       "      <td>None</td>\n",
       "    </tr>\n",
       "    <tr>\n",
       "      <th>15</th>\n",
       "      <td>zomato</td>\n",
       "      <td>gurgaon</td>\n",
       "      <td>food delivery</td>\n",
       "      <td>Zomato is a food delivery and restaurant disco...</td>\n",
       "      <td>660000000.0</td>\n",
       "      <td>None</td>\n",
       "    </tr>\n",
       "    <tr>\n",
       "      <th>16</th>\n",
       "      <td>oureye.ai</td>\n",
       "      <td>bangalore</td>\n",
       "      <td>virtual auditing startup</td>\n",
       "      <td>Video intelligence solution for Enterprise Sta...</td>\n",
       "      <td>120000.0</td>\n",
       "      <td>None</td>\n",
       "    </tr>\n",
       "    <tr>\n",
       "      <th>17</th>\n",
       "      <td>shiprocket</td>\n",
       "      <td>new delhi</td>\n",
       "      <td>e-commerce</td>\n",
       "      <td>Shiprocket helps online retailers simplify the...</td>\n",
       "      <td>7500000.0</td>\n",
       "      <td>Series C</td>\n",
       "    </tr>\n",
       "    <tr>\n",
       "      <th>18</th>\n",
       "      <td>pine labs</td>\n",
       "      <td>noida</td>\n",
       "      <td>fintech</td>\n",
       "      <td>A merchant platform company that provides fina...</td>\n",
       "      <td>3000000.0</td>\n",
       "      <td>None</td>\n",
       "    </tr>\n",
       "    <tr>\n",
       "      <th>19</th>\n",
       "      <td>moneyboxx finance</td>\n",
       "      <td>new delhi</td>\n",
       "      <td>fintech</td>\n",
       "      <td>MONEYBOXX FINANCE LTD is committed to providin...</td>\n",
       "      <td>1000000.0</td>\n",
       "      <td>None</td>\n",
       "    </tr>\n",
       "    <tr>\n",
       "      <th>20</th>\n",
       "      <td>ewar</td>\n",
       "      <td>bangalore</td>\n",
       "      <td>gaming</td>\n",
       "      <td>EWar Games is a e-sports and real-time gaming ...</td>\n",
       "      <td>3000000.0</td>\n",
       "      <td>Pre-series A</td>\n",
       "    </tr>\n",
       "    <tr>\n",
       "      <th>21</th>\n",
       "      <td>sucseed indovation</td>\n",
       "      <td>hyderabad</td>\n",
       "      <td>fintech</td>\n",
       "      <td>SucSEED INDOVATION FACILITATES ACCESS TO CAPIT...</td>\n",
       "      <td>5000000.0</td>\n",
       "      <td>None</td>\n",
       "    </tr>\n",
       "    <tr>\n",
       "      <th>22</th>\n",
       "      <td>taxbuddy.com</td>\n",
       "      <td>mumbai</td>\n",
       "      <td>fintech</td>\n",
       "      <td>TaxBuddy for any tax related issues.</td>\n",
       "      <td>1000000.0</td>\n",
       "      <td>None</td>\n",
       "    </tr>\n",
       "    <tr>\n",
       "      <th>23</th>\n",
       "      <td>awign enterprises</td>\n",
       "      <td>bangalore</td>\n",
       "      <td>work fulfillment</td>\n",
       "      <td>Operations and manpower outsourcing startup</td>\n",
       "      <td>500000.0</td>\n",
       "      <td>None</td>\n",
       "    </tr>\n",
       "    <tr>\n",
       "      <th>24</th>\n",
       "      <td>circle of angels</td>\n",
       "      <td>gurgaon</td>\n",
       "      <td>fintech</td>\n",
       "      <td>Circles of Angels aims to solve this issue thr...</td>\n",
       "      <td>3000000.0</td>\n",
       "      <td>None</td>\n",
       "    </tr>\n",
       "    <tr>\n",
       "      <th>25</th>\n",
       "      <td>coindcx</td>\n",
       "      <td>mumbai</td>\n",
       "      <td>fintech</td>\n",
       "      <td>CoinDCX is a company that specializes in crypt...</td>\n",
       "      <td>10000000.0</td>\n",
       "      <td>Series B</td>\n",
       "    </tr>\n",
       "    <tr>\n",
       "      <th>26</th>\n",
       "      <td>glance</td>\n",
       "      <td>bangalore</td>\n",
       "      <td>ai startup</td>\n",
       "      <td>Glance is a screen zero platform that consumer...</td>\n",
       "      <td>145000000.0</td>\n",
       "      <td>None</td>\n",
       "    </tr>\n",
       "    <tr>\n",
       "      <th>27</th>\n",
       "      <td>verse innovation</td>\n",
       "      <td>bangalore</td>\n",
       "      <td>telecommunication</td>\n",
       "      <td>Owner of Dailyhunt App and I-Pay</td>\n",
       "      <td>100000000.0</td>\n",
       "      <td>None</td>\n",
       "    </tr>\n",
       "    <tr>\n",
       "      <th>28</th>\n",
       "      <td>voosh</td>\n",
       "      <td>bangalore</td>\n",
       "      <td>food industry</td>\n",
       "      <td>Building India's largest digital food service ...</td>\n",
       "      <td>3000000.0</td>\n",
       "      <td>Pre-seed</td>\n",
       "    </tr>\n",
       "    <tr>\n",
       "      <th>29</th>\n",
       "      <td>delhivery</td>\n",
       "      <td>gurgaon</td>\n",
       "      <td>e-commerce</td>\n",
       "      <td>Delhivery is a supply chain services company t...</td>\n",
       "      <td>3000000.0</td>\n",
       "      <td>None</td>\n",
       "    </tr>\n",
       "  </tbody>\n",
       "</table>\n",
       "</div>"
      ],
      "text/plain": [
       "         Company_Brand HeadQuarter                    Sector  \\\n",
       "0           aqgromalin     chennai                  agritech   \n",
       "1             krayonnz   bangalore                    edtech   \n",
       "2         padcare labs        pune        hygiene management   \n",
       "3                ncome   new delhi                    escrow   \n",
       "4           gramophone      indore                  agritech   \n",
       "5               qzense   bangalore                  agritech   \n",
       "6         myclassboard   hyderabad                    edtech   \n",
       "7                metvy     gurgaon       networking platform   \n",
       "8               rupeek   bangalore                   fintech   \n",
       "9            gig india        pune             crowdsourcing   \n",
       "10         slurrp farm     gurgaon          food & bevarages   \n",
       "11              medfin   bangalore                healthtech   \n",
       "12             masterg   new delhi           fashion startup   \n",
       "13            brila 91   new delhi          food & bevarages   \n",
       "14          foodybuddy     belgaum             food industry   \n",
       "15              zomato     gurgaon             food delivery   \n",
       "16           oureye.ai   bangalore  virtual auditing startup   \n",
       "17          shiprocket   new delhi                e-commerce   \n",
       "18           pine labs       noida                   fintech   \n",
       "19   moneyboxx finance   new delhi                   fintech   \n",
       "20                ewar   bangalore                    gaming   \n",
       "21  sucseed indovation   hyderabad                   fintech   \n",
       "22        taxbuddy.com      mumbai                   fintech   \n",
       "23   awign enterprises   bangalore          work fulfillment   \n",
       "24    circle of angels     gurgaon                   fintech   \n",
       "25             coindcx      mumbai                   fintech   \n",
       "26              glance   bangalore                ai startup   \n",
       "27    verse innovation   bangalore         telecommunication   \n",
       "28               voosh   bangalore             food industry   \n",
       "29           delhivery     gurgaon                e-commerce   \n",
       "\n",
       "                                         What_it_does       Amount  \\\n",
       "0                        Cultivating Ideas for Profit     200000.0   \n",
       "1   An academy-guardian-scholar centric ecosystem ...     100000.0   \n",
       "2    Converting bio-hazardous waste to harmless waste    3000000.0   \n",
       "3                        Escrow-as-a-service platform     400000.0   \n",
       "4   Gramophone is an AgTech platform enabling acce...     340000.0   \n",
       "5   qZense Labs is building the next-generation Io...     600000.0   \n",
       "6   MyClassboard is a full-fledged School / Colleg...     600000.0   \n",
       "7   AI driven networking platform for individuals ...    3000000.0   \n",
       "8   Rupeek is an online lending platform that spec...   45000000.0   \n",
       "9   GigIndia is a marketplace that provides on-dem...    1000000.0   \n",
       "10       Slurrp Farm is a children health food brand.    2000000.0   \n",
       "11  Medfin is a Discovery platform for medical pro...    3000000.0   \n",
       "12  MasterG is a design and skill development orga...    3000000.0   \n",
       "13                   Bira 91 is a craft beer company.    1200000.0   \n",
       "14        FoodyBuddy is a online food delivery portal     600000.0   \n",
       "15  Zomato is a food delivery and restaurant disco...  660000000.0   \n",
       "16  Video intelligence solution for Enterprise Sta...     120000.0   \n",
       "17  Shiprocket helps online retailers simplify the...    7500000.0   \n",
       "18  A merchant platform company that provides fina...    3000000.0   \n",
       "19  MONEYBOXX FINANCE LTD is committed to providin...    1000000.0   \n",
       "20  EWar Games is a e-sports and real-time gaming ...    3000000.0   \n",
       "21  SucSEED INDOVATION FACILITATES ACCESS TO CAPIT...    5000000.0   \n",
       "22               TaxBuddy for any tax related issues.    1000000.0   \n",
       "23        Operations and manpower outsourcing startup     500000.0   \n",
       "24  Circles of Angels aims to solve this issue thr...    3000000.0   \n",
       "25  CoinDCX is a company that specializes in crypt...   10000000.0   \n",
       "26  Glance is a screen zero platform that consumer...  145000000.0   \n",
       "27                   Owner of Dailyhunt App and I-Pay  100000000.0   \n",
       "28  Building India's largest digital food service ...    3000000.0   \n",
       "29  Delhivery is a supply chain services company t...    3000000.0   \n",
       "\n",
       "           Stage  \n",
       "0           None  \n",
       "1       Pre-seed  \n",
       "2       Pre-seed  \n",
       "3           None  \n",
       "4           None  \n",
       "5           Seed  \n",
       "6   Pre-series A  \n",
       "7     Pre-series  \n",
       "8       Series C  \n",
       "9   Pre-series A  \n",
       "10      Series A  \n",
       "11      Series A  \n",
       "12          None  \n",
       "13          None  \n",
       "14          None  \n",
       "15          None  \n",
       "16          None  \n",
       "17      Series C  \n",
       "18          None  \n",
       "19          None  \n",
       "20  Pre-series A  \n",
       "21          None  \n",
       "22          None  \n",
       "23          None  \n",
       "24          None  \n",
       "25      Series B  \n",
       "26          None  \n",
       "27          None  \n",
       "28      Pre-seed  \n",
       "29          None  "
      ]
     },
     "execution_count": 42,
     "metadata": {},
     "output_type": "execute_result"
    }
   ],
   "source": [
    "data.head(30)"
   ]
  },
  {
   "cell_type": "code",
   "execution_count": 43,
   "metadata": {},
   "outputs": [
    {
     "data": {
      "text/plain": [
       "Company_Brand      0\n",
       "HeadQuarter      110\n",
       "Sector            17\n",
       "What_it_does       0\n",
       "Amount             0\n",
       "Stage            903\n",
       "dtype: int64"
      ]
     },
     "execution_count": 43,
     "metadata": {},
     "output_type": "execute_result"
    }
   ],
   "source": [
    "data.isnull().sum()"
   ]
  },
  {
   "cell_type": "code",
   "execution_count": 44,
   "metadata": {},
   "outputs": [
    {
     "data": {
      "text/plain": [
       "Company_Brand    0\n",
       "HeadQuarter      0\n",
       "Sector           0\n",
       "What_it_does     0\n",
       "Amount           0\n",
       "Stage            0\n",
       "dtype: int64"
      ]
     },
     "execution_count": 44,
     "metadata": {},
     "output_type": "execute_result"
    }
   ],
   "source": [
    "data = data.fillna('undisclosed')\n",
    "\n",
    "data.isnull().sum()"
   ]
  },
  {
   "cell_type": "code",
   "execution_count": 45,
   "metadata": {},
   "outputs": [
    {
     "data": {
      "text/plain": [
       "362"
      ]
     },
     "execution_count": 45,
     "metadata": {},
     "output_type": "execute_result"
    }
   ],
   "source": [
    "data['Company_Brand'].duplicated().sum()"
   ]
  },
  {
   "cell_type": "code",
   "execution_count": 46,
   "metadata": {},
   "outputs": [
    {
     "data": {
      "text/html": [
       "<div>\n",
       "<style scoped>\n",
       "    .dataframe tbody tr th:only-of-type {\n",
       "        vertical-align: middle;\n",
       "    }\n",
       "\n",
       "    .dataframe tbody tr th {\n",
       "        vertical-align: top;\n",
       "    }\n",
       "\n",
       "    .dataframe thead th {\n",
       "        text-align: right;\n",
       "    }\n",
       "</style>\n",
       "<table border=\"1\" class=\"dataframe\">\n",
       "  <thead>\n",
       "    <tr style=\"text-align: right;\">\n",
       "      <th></th>\n",
       "      <th>Company_Brand</th>\n",
       "      <th>HeadQuarter</th>\n",
       "      <th>Sector</th>\n",
       "      <th>What_it_does</th>\n",
       "      <th>Amount</th>\n",
       "      <th>Stage</th>\n",
       "    </tr>\n",
       "  </thead>\n",
       "  <tbody>\n",
       "    <tr>\n",
       "      <th>0</th>\n",
       "      <td>Aqgromalin</td>\n",
       "      <td>Chennai</td>\n",
       "      <td>Agritech</td>\n",
       "      <td>Cultivating Ideas For Profit</td>\n",
       "      <td>200000.00</td>\n",
       "      <td>Undisclosed</td>\n",
       "    </tr>\n",
       "    <tr>\n",
       "      <th>1</th>\n",
       "      <td>Krayonnz</td>\n",
       "      <td>Bangalore</td>\n",
       "      <td>Edtech</td>\n",
       "      <td>An Academy-Guardian-Scholar Centric Ecosystem ...</td>\n",
       "      <td>100000.00</td>\n",
       "      <td>Pre-Seed</td>\n",
       "    </tr>\n",
       "    <tr>\n",
       "      <th>2</th>\n",
       "      <td>Padcare Labs</td>\n",
       "      <td>Pune</td>\n",
       "      <td>Hygiene Management</td>\n",
       "      <td>Converting Bio-Hazardous Waste To Harmless Waste</td>\n",
       "      <td>3000000.00</td>\n",
       "      <td>Pre-Seed</td>\n",
       "    </tr>\n",
       "    <tr>\n",
       "      <th>3</th>\n",
       "      <td>Ncome</td>\n",
       "      <td>New Delhi</td>\n",
       "      <td>Escrow</td>\n",
       "      <td>Escrow-As-A-Service Platform</td>\n",
       "      <td>400000.00</td>\n",
       "      <td>Undisclosed</td>\n",
       "    </tr>\n",
       "    <tr>\n",
       "      <th>4</th>\n",
       "      <td>Gramophone</td>\n",
       "      <td>Indore</td>\n",
       "      <td>Agritech</td>\n",
       "      <td>Gramophone Is An Agtech Platform Enabling Acce...</td>\n",
       "      <td>340000.00</td>\n",
       "      <td>Undisclosed</td>\n",
       "    </tr>\n",
       "    <tr>\n",
       "      <th>...</th>\n",
       "      <td>...</td>\n",
       "      <td>...</td>\n",
       "      <td>...</td>\n",
       "      <td>...</td>\n",
       "      <td>...</td>\n",
       "      <td>...</td>\n",
       "    </tr>\n",
       "    <tr>\n",
       "      <th>2799</th>\n",
       "      <td>Slicepay</td>\n",
       "      <td>Bengaluru</td>\n",
       "      <td>Fintech</td>\n",
       "      <td>Slicepay Is An Ai Based Instant Credit App For...</td>\n",
       "      <td>198666.67</td>\n",
       "      <td>Series A</td>\n",
       "    </tr>\n",
       "    <tr>\n",
       "      <th>2801</th>\n",
       "      <td>Happyeasygo Group</td>\n",
       "      <td>Haryana</td>\n",
       "      <td>Tourism</td>\n",
       "      <td>Happyeasygo Is An Online Travel Domain.</td>\n",
       "      <td>3000000.00</td>\n",
       "      <td>Series A</td>\n",
       "    </tr>\n",
       "    <tr>\n",
       "      <th>2802</th>\n",
       "      <td>Mombay</td>\n",
       "      <td>Mumbai</td>\n",
       "      <td>Food And Beverage</td>\n",
       "      <td>Mombay Is A Unique Opportunity For Housewives ...</td>\n",
       "      <td>100.00</td>\n",
       "      <td>Seed</td>\n",
       "    </tr>\n",
       "    <tr>\n",
       "      <th>2803</th>\n",
       "      <td>Droni Tech</td>\n",
       "      <td>Mumbai</td>\n",
       "      <td>Information Technology</td>\n",
       "      <td>Droni Tech Manufacture Uavs And Develop Softwa...</td>\n",
       "      <td>466666.67</td>\n",
       "      <td>Seed</td>\n",
       "    </tr>\n",
       "    <tr>\n",
       "      <th>2804</th>\n",
       "      <td>Netmeds</td>\n",
       "      <td>Chennai</td>\n",
       "      <td>Biotechnology</td>\n",
       "      <td>Welcome To India'S Most Convenient Pharmacy!</td>\n",
       "      <td>466666.67</td>\n",
       "      <td>Series C</td>\n",
       "    </tr>\n",
       "  </tbody>\n",
       "</table>\n",
       "<p>2152 rows × 6 columns</p>\n",
       "</div>"
      ],
      "text/plain": [
       "          Company_Brand HeadQuarter                  Sector  \\\n",
       "0            Aqgromalin     Chennai                Agritech   \n",
       "1              Krayonnz   Bangalore                  Edtech   \n",
       "2          Padcare Labs        Pune      Hygiene Management   \n",
       "3                 Ncome   New Delhi                  Escrow   \n",
       "4            Gramophone      Indore                Agritech   \n",
       "...                 ...         ...                     ...   \n",
       "2799           Slicepay   Bengaluru                 Fintech   \n",
       "2801  Happyeasygo Group     Haryana                 Tourism   \n",
       "2802             Mombay      Mumbai       Food And Beverage   \n",
       "2803         Droni Tech      Mumbai  Information Technology   \n",
       "2804            Netmeds     Chennai           Biotechnology   \n",
       "\n",
       "                                           What_it_does      Amount  \\\n",
       "0                          Cultivating Ideas For Profit   200000.00   \n",
       "1     An Academy-Guardian-Scholar Centric Ecosystem ...   100000.00   \n",
       "2      Converting Bio-Hazardous Waste To Harmless Waste  3000000.00   \n",
       "3                          Escrow-As-A-Service Platform   400000.00   \n",
       "4     Gramophone Is An Agtech Platform Enabling Acce...   340000.00   \n",
       "...                                                 ...         ...   \n",
       "2799  Slicepay Is An Ai Based Instant Credit App For...   198666.67   \n",
       "2801            Happyeasygo Is An Online Travel Domain.  3000000.00   \n",
       "2802  Mombay Is A Unique Opportunity For Housewives ...      100.00   \n",
       "2803  Droni Tech Manufacture Uavs And Develop Softwa...   466666.67   \n",
       "2804       Welcome To India'S Most Convenient Pharmacy!   466666.67   \n",
       "\n",
       "            Stage  \n",
       "0     Undisclosed  \n",
       "1        Pre-Seed  \n",
       "2        Pre-Seed  \n",
       "3     Undisclosed  \n",
       "4     Undisclosed  \n",
       "...           ...  \n",
       "2799     Series A  \n",
       "2801     Series A  \n",
       "2802         Seed  \n",
       "2803         Seed  \n",
       "2804     Series C  \n",
       "\n",
       "[2152 rows x 6 columns]"
      ]
     },
     "execution_count": 46,
     "metadata": {},
     "output_type": "execute_result"
    }
   ],
   "source": [
    "\n",
    "# Drop duplicates in \"Company_Brand\"\n",
    "data['Company_Brand'] = data['Company_Brand'].str.lower()  # Convert to lowercase\n",
    "\n",
    "columns_to_convert = ['Company_Brand', 'HeadQuarter', 'Sector', 'What_it_does', 'Stage']\n",
    "\n",
    "# Apply .str.lower() to each specified column\n",
    "data[columns_to_convert] = data[columns_to_convert].apply(lambda x: x.str.lower())\n",
    "\n",
    "drop_dup_Company_Brand = data.drop_duplicates(subset=['Company_Brand'], inplace=True)  # Drop duplicates\n",
    "\n",
    "# convert back to original case\n",
    "\n",
    "data[columns_to_convert] = data[columns_to_convert].apply(lambda x: x.str.title())\n",
    "\n",
    "\n",
    "data"
   ]
  },
  {
   "cell_type": "markdown",
   "metadata": {},
   "source": []
  },
  {
   "cell_type": "code",
   "execution_count": 47,
   "metadata": {},
   "outputs": [
    {
     "data": {
      "text/plain": [
       "0"
      ]
     },
     "execution_count": 47,
     "metadata": {},
     "output_type": "execute_result"
    }
   ],
   "source": [
    "data['Company_Brand'].duplicated().sum()"
   ]
  },
  {
   "cell_type": "markdown",
   "metadata": {},
   "source": [
    "__Business Questions 1__\n",
    "\n",
    "•\tWhich sectors have the highest representation among the startups?"
   ]
  },
  {
   "cell_type": "code",
   "execution_count": 48,
   "metadata": {},
   "outputs": [
    {
     "data": {
      "text/plain": [
       "Sector\n",
       "fintech               184\n",
       "edtech                156\n",
       "e-commerce             67\n",
       "financial services     56\n",
       "healthcare             53\n",
       "Name: count, dtype: int64"
      ]
     },
     "execution_count": 48,
     "metadata": {},
     "output_type": "execute_result"
    }
   ],
   "source": [
    "\n",
    "# Convert sector names to lowercase before counting\n",
    "data['Sector'] = data['Sector'].str.lower()\n",
    "\n",
    "# Get the top 5 sectors\n",
    "top_sectors = data['Sector'].value_counts().head(5)\n",
    "\n",
    "\n",
    "top_sectors "
   ]
  },
  {
   "cell_type": "code",
   "execution_count": 49,
   "metadata": {},
   "outputs": [
    {
     "data": {
      "image/png": "[encoded data removed]",
      "text/plain": [
       "<Figure size 1000x600 with 1 Axes>"
      ]
     },
     "metadata": {},
     "output_type": "display_data"
    }
   ],
   "source": [
    "import matplotlib.pyplot as plt\n",
    "\n",
    "# Plot the bar chart\n",
    "plt.figure(figsize=(10, 6))\n",
    "top_sectors.plot(kind='bar', color='blue')\n",
    "plt.title('Top 5 Sectors')\n",
    "plt.xlabel('Sector')\n",
    "plt.ylabel('Number of Companies')\n",
    "plt.show()"
   ]
  },
  {
   "cell_type": "markdown",
   "metadata": {},
   "source": [
    "__Business Questions 2__\n",
    "\n",
    "•\tWhich cities  have the highest concentration of startups?"
   ]
  },
  {
   "cell_type": "code",
   "execution_count": 50,
   "metadata": {},
   "outputs": [
    {
     "data": {
      "text/plain": [
       "HeadQuarter\n",
       "Bangalore    606\n",
       "Mumbai       372\n",
       "New Delhi    168\n",
       "Gurugram     159\n",
       "Pune          88\n",
       "Name: count, dtype: int64"
      ]
     },
     "execution_count": 50,
     "metadata": {},
     "output_type": "execute_result"
    }
   ],
   "source": [
    "# top 5 cities with highest concentration of startups\n",
    "\n",
    "top_cities = data['HeadQuarter'].value_counts().head(5)\n",
    "\n",
    "top_cities"
   ]
  },
  {
   "cell_type": "code",
   "execution_count": 51,
   "metadata": {},
   "outputs": [
    {
     "data": {
      "image/png": "[encoded data removed]",
      "text/plain": [
       "<Figure size 1000x600 with 1 Axes>"
      ]
     },
     "metadata": {},
     "output_type": "display_data"
    }
   ],
   "source": [
    "data['HeadQuarter'] = data['HeadQuarter'].str.lower()  # Convert city names to lowercase for case-insensitivity\n",
    "\n",
    "# Get the top 10 cities with the highest concentration of startups\n",
    "top_cities = data['HeadQuarter'].value_counts().head(5)\n",
    "\n",
    "# Plot the bar chart\n",
    "plt.figure(figsize=(10, 6))\n",
    "top_cities.plot(kind='bar', color='blue')\n",
    "plt.title('Top 5 Cities with Highest Startup Concentration')\n",
    "plt.xlabel('City')\n",
    "plt.ylabel('Number of Startups')\n",
    "plt.show()"
   ]
  },
  {
   "cell_type": "markdown",
   "metadata": {},
   "source": [
    "__Business Questions 3__\n",
    "\n",
    "•\tWhat are the top 5 sectors that tend to produce more successful startups?"
   ]
  },
  {
   "cell_type": "markdown",
   "metadata": {},
   "source": [
    "successful startups are the startups at the stages:\n",
    "\n",
    "- Series H\n",
    "- Series F\n",
    "- Series E2\n",
    "- Series D\n",
    "- Series C\n",
    "- Series B\n",
    "- Series A"
   ]
  },
  {
   "cell_type": "code",
   "execution_count": 52,
   "metadata": {},
   "outputs": [
    {
     "data": {
      "text/plain": [
       "Stage\n",
       "Undisclosed                 707\n",
       "Seed                        515\n",
       "Series A                    220\n",
       "Pre-Series A                161\n",
       "Series B                     83\n",
       "Pre Series A                 65\n",
       "Pre-Seed                     65\n",
       "Seed Round                   63\n",
       "Series C                     56\n",
       "Angel                        32\n",
       "Venture - Series Unknown     27\n",
       "Debt                         23\n",
       "Series D                     20\n",
       "Pre-Series B                 12\n",
       "Series E                     10\n",
       "Debt Financing                9\n",
       "Private Equity                8\n",
       "Corporate Round               7\n",
       "Bridge                        7\n",
       "Seed Funding                  5\n",
       "Name: count, dtype: int64"
      ]
     },
     "execution_count": 52,
     "metadata": {},
     "output_type": "execute_result"
    }
   ],
   "source": [
    "# checkout various stages\n",
    "\n",
    "data['Stage'].value_counts().head(20)"
   ]
  },
  {
   "cell_type": "code",
   "execution_count": 53,
   "metadata": {},
   "outputs": [
    {
     "data": {
      "text/html": [
       "<div>\n",
       "<style scoped>\n",
       "    .dataframe tbody tr th:only-of-type {\n",
       "        vertical-align: middle;\n",
       "    }\n",
       "\n",
       "    .dataframe tbody tr th {\n",
       "        vertical-align: top;\n",
       "    }\n",
       "\n",
       "    .dataframe thead th {\n",
       "        text-align: right;\n",
       "    }\n",
       "</style>\n",
       "<table border=\"1\" class=\"dataframe\">\n",
       "  <thead>\n",
       "    <tr style=\"text-align: right;\">\n",
       "      <th></th>\n",
       "      <th>Company_Brand</th>\n",
       "      <th>HeadQuarter</th>\n",
       "      <th>Sector</th>\n",
       "      <th>What_it_does</th>\n",
       "      <th>Amount</th>\n",
       "      <th>Stage</th>\n",
       "    </tr>\n",
       "  </thead>\n",
       "  <tbody>\n",
       "    <tr>\n",
       "      <th>2378</th>\n",
       "      <td>Portea Medical</td>\n",
       "      <td>bangalore</td>\n",
       "      <td>health care</td>\n",
       "      <td>Portea Medical Is The Largest And Fastest Grow...</td>\n",
       "      <td>3333333.33</td>\n",
       "      <td>Debt Financing</td>\n",
       "    </tr>\n",
       "    <tr>\n",
       "      <th>2384</th>\n",
       "      <td>Jagaran Microfin</td>\n",
       "      <td>kolkata</td>\n",
       "      <td>—</td>\n",
       "      <td>Jagaran Microfin Is A Microfinance Institution...</td>\n",
       "      <td>7333333.33</td>\n",
       "      <td>Debt Financing</td>\n",
       "    </tr>\n",
       "    <tr>\n",
       "      <th>2393</th>\n",
       "      <td>Oneassist</td>\n",
       "      <td>mumbai</td>\n",
       "      <td>financial services</td>\n",
       "      <td>Oneassist Is A Protection &amp; Assistance Service...</td>\n",
       "      <td>3000000.00</td>\n",
       "      <td>Debt Financing</td>\n",
       "    </tr>\n",
       "    <tr>\n",
       "      <th>2428</th>\n",
       "      <td>Quikr</td>\n",
       "      <td>bangalore</td>\n",
       "      <td>classifieds</td>\n",
       "      <td>Quikr Is A Free Classifieds And Online Marketp...</td>\n",
       "      <td>7333333.33</td>\n",
       "      <td>Debt Financing</td>\n",
       "    </tr>\n",
       "    <tr>\n",
       "      <th>2639</th>\n",
       "      <td>Drivezy</td>\n",
       "      <td>bengaluru</td>\n",
       "      <td>automotive</td>\n",
       "      <td>Drivezy Is India'S Largest Vehicle Sharing Pla...</td>\n",
       "      <td>3000000.00</td>\n",
       "      <td>Debt Financing</td>\n",
       "    </tr>\n",
       "    <tr>\n",
       "      <th>2663</th>\n",
       "      <td>Yaantra</td>\n",
       "      <td>delhi</td>\n",
       "      <td>information services</td>\n",
       "      <td>Yaantra, India’S Leading Mobile Phone Repair, ...</td>\n",
       "      <td>3000000.00</td>\n",
       "      <td>Debt Financing</td>\n",
       "    </tr>\n",
       "    <tr>\n",
       "      <th>2731</th>\n",
       "      <td>Vogo Rentals</td>\n",
       "      <td>kormangala</td>\n",
       "      <td>last mile transportation</td>\n",
       "      <td>Vogo Is A Dockless Scooter Rental Company In I...</td>\n",
       "      <td>1066666.67</td>\n",
       "      <td>Debt Financing</td>\n",
       "    </tr>\n",
       "    <tr>\n",
       "      <th>2745</th>\n",
       "      <td>Bounce (Metro Bikes)</td>\n",
       "      <td>bangalore</td>\n",
       "      <td>autonomous vehicles</td>\n",
       "      <td>Bounce (Formerly Metro Bikes) Is An Urban Mobi...</td>\n",
       "      <td>40000.00</td>\n",
       "      <td>Debt Financing</td>\n",
       "    </tr>\n",
       "    <tr>\n",
       "      <th>2754</th>\n",
       "      <td>Urban Ladder</td>\n",
       "      <td>bangalore</td>\n",
       "      <td>e-commerce</td>\n",
       "      <td>Urban Ladder Is A Bangalore-Based Online Furni...</td>\n",
       "      <td>74666.67</td>\n",
       "      <td>Debt Financing</td>\n",
       "    </tr>\n",
       "  </tbody>\n",
       "</table>\n",
       "</div>"
      ],
      "text/plain": [
       "             Company_Brand HeadQuarter                    Sector  \\\n",
       "2378        Portea Medical   bangalore               health care   \n",
       "2384      Jagaran Microfin     kolkata                         —   \n",
       "2393             Oneassist      mumbai        financial services   \n",
       "2428                 Quikr   bangalore               classifieds   \n",
       "2639               Drivezy   bengaluru                automotive   \n",
       "2663               Yaantra       delhi      information services   \n",
       "2731          Vogo Rentals  kormangala  last mile transportation   \n",
       "2745  Bounce (Metro Bikes)   bangalore       autonomous vehicles   \n",
       "2754          Urban Ladder   bangalore                e-commerce   \n",
       "\n",
       "                                           What_it_does      Amount  \\\n",
       "2378  Portea Medical Is The Largest And Fastest Grow...  3333333.33   \n",
       "2384  Jagaran Microfin Is A Microfinance Institution...  7333333.33   \n",
       "2393  Oneassist Is A Protection & Assistance Service...  3000000.00   \n",
       "2428  Quikr Is A Free Classifieds And Online Marketp...  7333333.33   \n",
       "2639  Drivezy Is India'S Largest Vehicle Sharing Pla...  3000000.00   \n",
       "2663  Yaantra, India’S Leading Mobile Phone Repair, ...  3000000.00   \n",
       "2731  Vogo Is A Dockless Scooter Rental Company In I...  1066666.67   \n",
       "2745  Bounce (Formerly Metro Bikes) Is An Urban Mobi...    40000.00   \n",
       "2754  Urban Ladder Is A Bangalore-Based Online Furni...    74666.67   \n",
       "\n",
       "               Stage  \n",
       "2378  Debt Financing  \n",
       "2384  Debt Financing  \n",
       "2393  Debt Financing  \n",
       "2428  Debt Financing  \n",
       "2639  Debt Financing  \n",
       "2663  Debt Financing  \n",
       "2731  Debt Financing  \n",
       "2745  Debt Financing  \n",
       "2754  Debt Financing  "
      ]
     },
     "execution_count": 53,
     "metadata": {},
     "output_type": "execute_result"
    }
   ],
   "source": [
    "series_a_data = data[data['Stage'] == 'Debt Financing']\n",
    "series_a_data"
   ]
  },
  {
   "cell_type": "code",
   "execution_count": 54,
   "metadata": {},
   "outputs": [
    {
     "data": {
      "text/plain": [
       "Sector\n",
       "fintech               38\n",
       "edtech                21\n",
       "financial services    14\n",
       "e-commerce            13\n",
       "agritech              11\n",
       "Name: count, dtype: int64"
      ]
     },
     "execution_count": 54,
     "metadata": {},
     "output_type": "execute_result"
    }
   ],
   "source": [
    "\n",
    "#  Success Indicators\n",
    "success_indicators = data[data['Stage'].isin(\n",
    "    ['Series H', 'Series F','Series E2','Series D','Series C','Series B','Series A'])]['Sector'].value_counts().head(5)\n",
    "\n",
    "success_indicators"
   ]
  },
  {
   "cell_type": "code",
   "execution_count": 55,
   "metadata": {},
   "outputs": [
    {
     "data": {
      "application/vnd.plotly.v1+json": {
       "config": {
        "plotlyServerURL": "https://plot.ly"
       },
       "data": [
        {
         "domain": {
          "x": [
           0,
           1
          ],
          "y": [
           0,
           1
          ]
         },
         "hovertemplate": "Sector=%{label}<br>Percentage=%{value}<extra></extra>",
         "labels": [
          "fintech",
          "edtech",
          "financial services",
          "e-commerce",
          "agritech"
         ],
         "legendgroup": "",
         "name": "",
         "showlegend": true,
         "type": "pie",
         "values": [
          0.09895833333333333,
          0.0546875,
          0.036458333333333336,
          0.033854166666666664,
          0.028645833333333332
         ]
        }
       ],
       "layout": {
        "legend": {
         "tracegroupgap": 0
        },
        "template": {
         "data": {
          "bar": [
           {
            "error_x": {
             "color": "#2a3f5f"
            },
            "error_y": {
             "color": "#2a3f5f"
            },
            "marker": {
             "line": {
              "color": "#E5ECF6",
              "width": 0.5
             },
             "pattern": {
              "fillmode": "overlay",
              "size": 10,
              "solidity": 0.2
             }
            },
            "type": "bar"
           }
          ],
          "barpolar": [
           {
            "marker": {
             "line": {
              "color": "#E5ECF6",
              "width": 0.5
             },
             "pattern": {
              "fillmode": "overlay",
              "size": 10,
              "solidity": 0.2
             }
            },
            "type": "barpolar"
           }
          ],
          "carpet": [
           {
            "aaxis": {
             "endlinecolor": "#2a3f5f",
             "gridcolor": "white",
             "linecolor": "white",
             "minorgridcolor": "white",
             "startlinecolor": "#2a3f5f"
            },
            "baxis": {
             "endlinecolor": "#2a3f5f",
             "gridcolor": "white",
             "linecolor": "white",
             "minorgridcolor": "white",
             "startlinecolor": "#2a3f5f"
            },
            "type": "carpet"
           }
          ],
          "choropleth": [
           {
            "colorbar": {
             "outlinewidth": 0,
             "ticks": ""
            },
            "type": "choropleth"
           }
          ],
          "contour": [
           {
            "colorbar": {
             "outlinewidth": 0,
             "ticks": ""
            },
            "colorscale": [
             [
              0,
              "#0d0887"
             ],
             [
              0.1111111111111111,
              "#46039f"
             ],
             [
              0.2222222222222222,
              "#7201a8"
             ],
             [
              0.3333333333333333,
              "#9c179e"
             ],
             [
              0.4444444444444444,
              "#bd3786"
             ],
             [
              0.5555555555555556,
              "#d8576b"
             ],
             [
              0.6666666666666666,
              "#ed7953"
             ],
             [
              0.7777777777777778,
              "#fb9f3a"
             ],
             [
              0.8888888888888888,
              "#fdca26"
             ],
             [
              1,
              "#f0f921"
             ]
            ],
            "type": "contour"
           }
          ],
          "contourcarpet": [
           {
            "colorbar": {
             "outlinewidth": 0,
             "ticks": ""
            },
            "type": "contourcarpet"
           }
          ],
          "heatmap": [
           {
            "colorbar": {
             "outlinewidth": 0,
             "ticks": ""
            },
            "colorscale": [
             [
              0,
              "#0d0887"
             ],
             [
              0.1111111111111111,
              "#46039f"
             ],
             [
              0.2222222222222222,
              "#7201a8"
             ],
             [
              0.3333333333333333,
              "#9c179e"
             ],
             [
              0.4444444444444444,
              "#bd3786"
             ],
             [
              0.5555555555555556,
              "#d8576b"
             ],
             [
              0.6666666666666666,
              "#ed7953"
             ],
             [
              0.7777777777777778,
              "#fb9f3a"
             ],
             [
              0.8888888888888888,
              "#fdca26"
             ],
             [
              1,
              "#f0f921"
             ]
            ],
            "type": "heatmap"
           }
          ],
          "heatmapgl": [
           {
            "colorbar": {
             "outlinewidth": 0,
             "ticks": ""
            },
            "colorscale": [
             [
              0,
              "#0d0887"
             ],
             [
              0.1111111111111111,
              "#46039f"
             ],
             [
              0.2222222222222222,
              "#7201a8"
             ],
             [
              0.3333333333333333,
              "#9c179e"
             ],
             [
              0.4444444444444444,
              "#bd3786"
             ],
             [
              0.5555555555555556,
              "#d8576b"
             ],
             [
              0.6666666666666666,
              "#ed7953"
             ],
             [
              0.7777777777777778,
              "#fb9f3a"
             ],
             [
              0.8888888888888888,
              "#fdca26"
             ],
             [
              1,
              "#f0f921"
             ]
            ],
            "type": "heatmapgl"
           }
          ],
          "histogram": [
           {
            "marker": {
             "pattern": {
              "fillmode": "overlay",
              "size": 10,
              "solidity": 0.2
             }
            },
            "type": "histogram"
           }
          ],
          "histogram2d": [
           {
            "colorbar": {
             "outlinewidth": 0,
             "ticks": ""
            },
            "colorscale": [
             [
              0,
              "#0d0887"
             ],
             [
              0.1111111111111111,
              "#46039f"
             ],
             [
              0.2222222222222222,
              "#7201a8"
             ],
             [
              0.3333333333333333,
              "#9c179e"
             ],
             [
              0.4444444444444444,
              "#bd3786"
             ],
             [
              0.5555555555555556,
              "#d8576b"
             ],
             [
              0.6666666666666666,
              "#ed7953"
             ],
             [
              0.7777777777777778,
              "#fb9f3a"
             ],
             [
              0.8888888888888888,
              "#fdca26"
             ],
             [
              1,
              "#f0f921"
             ]
            ],
            "type": "histogram2d"
           }
          ],
          "histogram2dcontour": [
           {
            "colorbar": {
             "outlinewidth": 0,
             "ticks": ""
            },
            "colorscale": [
             [
              0,
              "#0d0887"
             ],
             [
              0.1111111111111111,
              "#46039f"
             ],
             [
              0.2222222222222222,
              "#7201a8"
             ],
             [
              0.3333333333333333,
              "#9c179e"
             ],
             [
              0.4444444444444444,
              "#bd3786"
             ],
             [
              0.5555555555555556,
              "#d8576b"
             ],
             [
              0.6666666666666666,
              "#ed7953"
             ],
             [
              0.7777777777777778,
              "#fb9f3a"
             ],
             [
              0.8888888888888888,
              "#fdca26"
             ],
             [
              1,
              "#f0f921"
             ]
            ],
            "type": "histogram2dcontour"
           }
          ],
          "mesh3d": [
           {
            "colorbar": {
             "outlinewidth": 0,
             "ticks": ""
            },
            "type": "mesh3d"
           }
          ],
          "parcoords": [
           {
            "line": {
             "colorbar": {
              "outlinewidth": 0,
              "ticks": ""
             }
            },
            "type": "parcoords"
           }
          ],
          "pie": [
           {
            "automargin": true,
            "type": "pie"
           }
          ],
          "scatter": [
           {
            "fillpattern": {
             "fillmode": "overlay",
             "size": 10,
             "solidity": 0.2
            },
            "type": "scatter"
           }
          ],
          "scatter3d": [
           {
            "line": {
             "colorbar": {
              "outlinewidth": 0,
              "ticks": ""
             }
            },
            "marker": {
             "colorbar": {
              "outlinewidth": 0,
              "ticks": ""
             }
            },
            "type": "scatter3d"
           }
          ],
          "scattercarpet": [
           {
            "marker": {
             "colorbar": {
              "outlinewidth": 0,
              "ticks": ""
             }
            },
            "type": "scattercarpet"
           }
          ],
          "scattergeo": [
           {
            "marker": {
             "colorbar": {
              "outlinewidth": 0,
              "ticks": ""
             }
            },
            "type": "scattergeo"
           }
          ],
          "scattergl": [
           {
            "marker": {
             "colorbar": {
              "outlinewidth": 0,
              "ticks": ""
             }
            },
            "type": "scattergl"
           }
          ],
          "scattermapbox": [
           {
            "marker": {
             "colorbar": {
              "outlinewidth": 0,
              "ticks": ""
             }
            },
            "type": "scattermapbox"
           }
          ],
          "scatterpolar": [
           {
            "marker": {
             "colorbar": {
              "outlinewidth": 0,
              "ticks": ""
             }
            },
            "type": "scatterpolar"
           }
          ],
          "scatterpolargl": [
           {
            "marker": {
             "colorbar": {
              "outlinewidth": 0,
              "ticks": ""
             }
            },
            "type": "scatterpolargl"
           }
          ],
          "scatterternary": [
           {
            "marker": {
             "colorbar": {
              "outlinewidth": 0,
              "ticks": ""
             }
            },
            "type": "scatterternary"
           }
          ],
          "surface": [
           {
            "colorbar": {
             "outlinewidth": 0,
             "ticks": ""
            },
            "colorscale": [
             [
              0,
              "#0d0887"
             ],
             [
              0.1111111111111111,
              "#46039f"
             ],
             [
              0.2222222222222222,
              "#7201a8"
             ],
             [
              0.3333333333333333,
              "#9c179e"
             ],
             [
              0.4444444444444444,
              "#bd3786"
             ],
             [
              0.5555555555555556,
              "#d8576b"
             ],
             [
              0.6666666666666666,
              "#ed7953"
             ],
             [
              0.7777777777777778,
              "#fb9f3a"
             ],
             [
              0.8888888888888888,
              "#fdca26"
             ],
             [
              1,
              "#f0f921"
             ]
            ],
            "type": "surface"
           }
          ],
          "table": [
           {
            "cells": {
             "fill": {
              "color": "#EBF0F8"
             },
             "line": {
              "color": "white"
             }
            },
            "header": {
             "fill": {
              "color": "#C8D4E3"
             },
             "line": {
              "color": "white"
             }
            },
            "type": "table"
           }
          ]
         },
         "layout": {
          "annotationdefaults": {
           "arrowcolor": "#2a3f5f",
           "arrowhead": 0,
           "arrowwidth": 1
          },
          "autotypenumbers": "strict",
          "coloraxis": {
           "colorbar": {
            "outlinewidth": 0,
            "ticks": ""
           }
          },
          "colorscale": {
           "diverging": [
            [
             0,
             "#8e0152"
            ],
            [
             0.1,
             "#c51b7d"
            ],
            [
             0.2,
             "#de77ae"
            ],
            [
             0.3,
             "#f1b6da"
            ],
            [
             0.4,
             "#fde0ef"
            ],
            [
             0.5,
             "#f7f7f7"
            ],
            [
             0.6,
             "#e6f5d0"
            ],
            [
             0.7,
             "#b8e186"
            ],
            [
             0.8,
             "#7fbc41"
            ],
            [
             0.9,
             "#4d9221"
            ],
            [
             1,
             "#276419"
            ]
           ],
           "sequential": [
            [
             0,
             "#0d0887"
            ],
            [
             0.1111111111111111,
             "#46039f"
            ],
            [
             0.2222222222222222,
             "#7201a8"
            ],
            [
             0.3333333333333333,
             "#9c179e"
            ],
            [
             0.4444444444444444,
             "#bd3786"
            ],
            [
             0.5555555555555556,
             "#d8576b"
            ],
            [
             0.6666666666666666,
             "#ed7953"
            ],
            [
             0.7777777777777778,
             "#fb9f3a"
            ],
            [
             0.8888888888888888,
             "#fdca26"
            ],
            [
             1,
             "#f0f921"
            ]
           ],
           "sequentialminus": [
            [
             0,
             "#0d0887"
            ],
            [
             0.1111111111111111,
             "#46039f"
            ],
            [
             0.2222222222222222,
             "#7201a8"
            ],
            [
             0.3333333333333333,
             "#9c179e"
            ],
            [
             0.4444444444444444,
             "#bd3786"
            ],
            [
             0.5555555555555556,
             "#d8576b"
            ],
            [
             0.6666666666666666,
             "#ed7953"
            ],
            [
             0.7777777777777778,
             "#fb9f3a"
            ],
            [
             0.8888888888888888,
             "#fdca26"
            ],
            [
             1,
             "#f0f921"
            ]
           ]
          },
          "colorway": [
           "#636efa",
           "#EF553B",
           "#00cc96",
           "#ab63fa",
           "#FFA15A",
           "#19d3f3",
           "#FF6692",
           "#B6E880",
           "#FF97FF",
           "#FECB52"
          ],
          "font": {
           "color": "#2a3f5f"
          },
          "geo": {
           "bgcolor": "white",
           "lakecolor": "white",
           "landcolor": "#E5ECF6",
           "showlakes": true,
           "showland": true,
           "subunitcolor": "white"
          },
          "hoverlabel": {
           "align": "left"
          },
          "hovermode": "closest",
          "mapbox": {
           "style": "light"
          },
          "paper_bgcolor": "white",
          "plot_bgcolor": "#E5ECF6",
          "polar": {
           "angularaxis": {
            "gridcolor": "white",
            "linecolor": "white",
            "ticks": ""
           },
           "bgcolor": "#E5ECF6",
           "radialaxis": {
            "gridcolor": "white",
            "linecolor": "white",
            "ticks": ""
           }
          },
          "scene": {
           "xaxis": {
            "backgroundcolor": "#E5ECF6",
            "gridcolor": "white",
            "gridwidth": 2,
            "linecolor": "white",
            "showbackground": true,
            "ticks": "",
            "zerolinecolor": "white"
           },
           "yaxis": {
            "backgroundcolor": "#E5ECF6",
            "gridcolor": "white",
            "gridwidth": 2,
            "linecolor": "white",
            "showbackground": true,
            "ticks": "",
            "zerolinecolor": "white"
           },
           "zaxis": {
            "backgroundcolor": "#E5ECF6",
            "gridcolor": "white",
            "gridwidth": 2,
            "linecolor": "white",
            "showbackground": true,
            "ticks": "",
            "zerolinecolor": "white"
           }
          },
          "shapedefaults": {
           "line": {
            "color": "#2a3f5f"
           }
          },
          "ternary": {
           "aaxis": {
            "gridcolor": "white",
            "linecolor": "white",
            "ticks": ""
           },
           "baxis": {
            "gridcolor": "white",
            "linecolor": "white",
            "ticks": ""
           },
           "bgcolor": "#E5ECF6",
           "caxis": {
            "gridcolor": "white",
            "linecolor": "white",
            "ticks": ""
           }
          },
          "title": {
           "x": 0.05
          },
          "xaxis": {
           "automargin": true,
           "gridcolor": "white",
           "linecolor": "white",
           "ticks": "",
           "title": {
            "standoff": 15
           },
           "zerolinecolor": "white",
           "zerolinewidth": 2
          },
          "yaxis": {
           "automargin": true,
           "gridcolor": "white",
           "linecolor": "white",
           "ticks": "",
           "title": {
            "standoff": 15
           },
           "zerolinecolor": "white",
           "zerolinewidth": 2
          }
         }
        },
        "title": {
         "text": "Successful Startup Contribution by Sector  (Percentage)"
        }
       }
      }
     },
     "metadata": {},
     "output_type": "display_data"
    },
    {
     "data": {
      "text/plain": [
       "<Figure size 1000x600 with 0 Axes>"
      ]
     },
     "metadata": {},
     "output_type": "display_data"
    }
   ],
   "source": [
    "\n",
    "import plotly.express as px\n",
    "\n",
    "# success indicators \n",
    "success_indicators = data[data['Stage'].isin(['Series H', 'Series F','Series E2','Series D','Series C','Series B','Series A'])]['Sector'].value_counts(normalize=True).reset_index().head(5)\n",
    "success_indicators.columns = ['Sector', 'Percentage']\n",
    "\n",
    "# Create a pie chart\n",
    "plt.figure(figsize=(10, 6))\n",
    "fig = px.pie(success_indicators, values='Percentage', names='Sector',\n",
    "             title='Successful Startup Contribution by Sector  (Percentage)')\n",
    "\n",
    "fig.show()\n"
   ]
  },
  {
   "cell_type": "code",
   "execution_count": 56,
   "metadata": {},
   "outputs": [
    {
     "data": {
      "text/plain": [
       "0        200000.00\n",
       "1        100000.00\n",
       "2       3000000.00\n",
       "3        400000.00\n",
       "4        340000.00\n",
       "           ...    \n",
       "2799     198666.67\n",
       "2801    3000000.00\n",
       "2802        100.00\n",
       "2803     466666.67\n",
       "2804     466666.67\n",
       "Name: Amount, Length: 2152, dtype: float64"
      ]
     },
     "execution_count": 56,
     "metadata": {},
     "output_type": "execute_result"
    }
   ],
   "source": [
    "data['Amount']"
   ]
  },
  {
   "cell_type": "markdown",
   "metadata": {},
   "source": [
    "__Business Question 4__\n",
    "\n",
    "•\tWhat are the top 5 cities with  higher concentration of successful startups?"
   ]
  },
  {
   "cell_type": "code",
   "execution_count": 57,
   "metadata": {},
   "outputs": [
    {
     "data": {
      "application/vnd.plotly.v1+json": {
       "config": {
        "plotlyServerURL": "https://plot.ly"
       },
       "data": [
        {
         "domain": {
          "x": [
           0,
           1
          ],
          "y": [
           0,
           1
          ]
         },
         "hovertemplate": "HeadQuarter=%{label}<br>Percentage=%{value}<extra></extra>",
         "labels": [
          "bangalore",
          "mumbai",
          "gurugram",
          "undisclosed",
          "new delhi"
         ],
         "legendgroup": "",
         "name": "",
         "showlegend": true,
         "type": "pie",
         "values": [
          0.3333333333333333,
          0.17447916666666666,
          0.07291666666666667,
          0.057291666666666664,
          0.046875
         ]
        }
       ],
       "layout": {
        "legend": {
         "tracegroupgap": 0
        },
        "template": {
         "data": {
          "bar": [
           {
            "error_x": {
             "color": "#2a3f5f"
            },
            "error_y": {
             "color": "#2a3f5f"
            },
            "marker": {
             "line": {
              "color": "#E5ECF6",
              "width": 0.5
             },
             "pattern": {
              "fillmode": "overlay",
              "size": 10,
              "solidity": 0.2
             }
            },
            "type": "bar"
           }
          ],
          "barpolar": [
           {
            "marker": {
             "line": {
              "color": "#E5ECF6",
              "width": 0.5
             },
             "pattern": {
              "fillmode": "overlay",
              "size": 10,
              "solidity": 0.2
             }
            },
            "type": "barpolar"
           }
          ],
          "carpet": [
           {
            "aaxis": {
             "endlinecolor": "#2a3f5f",
             "gridcolor": "white",
             "linecolor": "white",
             "minorgridcolor": "white",
             "startlinecolor": "#2a3f5f"
            },
            "baxis": {
             "endlinecolor": "#2a3f5f",
             "gridcolor": "white",
             "linecolor": "white",
             "minorgridcolor": "white",
             "startlinecolor": "#2a3f5f"
            },
            "type": "carpet"
           }
          ],
          "choropleth": [
           {
            "colorbar": {
             "outlinewidth": 0,
             "ticks": ""
            },
            "type": "choropleth"
           }
          ],
          "contour": [
           {
            "colorbar": {
             "outlinewidth": 0,
             "ticks": ""
            },
            "colorscale": [
             [
              0,
              "#0d0887"
             ],
             [
              0.1111111111111111,
              "#46039f"
             ],
             [
              0.2222222222222222,
              "#7201a8"
             ],
             [
              0.3333333333333333,
              "#9c179e"
             ],
             [
              0.4444444444444444,
              "#bd3786"
             ],
             [
              0.5555555555555556,
              "#d8576b"
             ],
             [
              0.6666666666666666,
              "#ed7953"
             ],
             [
              0.7777777777777778,
              "#fb9f3a"
             ],
             [
              0.8888888888888888,
              "#fdca26"
             ],
             [
              1,
              "#f0f921"
             ]
            ],
            "type": "contour"
           }
          ],
          "contourcarpet": [
           {
            "colorbar": {
             "outlinewidth": 0,
             "ticks": ""
            },
            "type": "contourcarpet"
           }
          ],
          "heatmap": [
           {
            "colorbar": {
             "outlinewidth": 0,
             "ticks": ""
            },
            "colorscale": [
             [
              0,
              "#0d0887"
             ],
             [
              0.1111111111111111,
              "#46039f"
             ],
             [
              0.2222222222222222,
              "#7201a8"
             ],
             [
              0.3333333333333333,
              "#9c179e"
             ],
             [
              0.4444444444444444,
              "#bd3786"
             ],
             [
              0.5555555555555556,
              "#d8576b"
             ],
             [
              0.6666666666666666,
              "#ed7953"
             ],
             [
              0.7777777777777778,
              "#fb9f3a"
             ],
             [
              0.8888888888888888,
              "#fdca26"
             ],
             [
              1,
              "#f0f921"
             ]
            ],
            "type": "heatmap"
           }
          ],
          "heatmapgl": [
           {
            "colorbar": {
             "outlinewidth": 0,
             "ticks": ""
            },
            "colorscale": [
             [
              0,
              "#0d0887"
             ],
             [
              0.1111111111111111,
              "#46039f"
             ],
             [
              0.2222222222222222,
              "#7201a8"
             ],
             [
              0.3333333333333333,
              "#9c179e"
             ],
             [
              0.4444444444444444,
              "#bd3786"
             ],
             [
              0.5555555555555556,
              "#d8576b"
             ],
             [
              0.6666666666666666,
              "#ed7953"
             ],
             [
              0.7777777777777778,
              "#fb9f3a"
             ],
             [
              0.8888888888888888,
              "#fdca26"
             ],
             [
              1,
              "#f0f921"
             ]
            ],
            "type": "heatmapgl"
           }
          ],
          "histogram": [
           {
            "marker": {
             "pattern": {
              "fillmode": "overlay",
              "size": 10,
              "solidity": 0.2
             }
            },
            "type": "histogram"
           }
          ],
          "histogram2d": [
           {
            "colorbar": {
             "outlinewidth": 0,
             "ticks": ""
            },
            "colorscale": [
             [
              0,
              "#0d0887"
             ],
             [
              0.1111111111111111,
              "#46039f"
             ],
             [
              0.2222222222222222,
              "#7201a8"
             ],
             [
              0.3333333333333333,
              "#9c179e"
             ],
             [
              0.4444444444444444,
              "#bd3786"
             ],
             [
              0.5555555555555556,
              "#d8576b"
             ],
             [
              0.6666666666666666,
              "#ed7953"
             ],
             [
              0.7777777777777778,
              "#fb9f3a"
             ],
             [
              0.8888888888888888,
              "#fdca26"
             ],
             [
              1,
              "#f0f921"
             ]
            ],
            "type": "histogram2d"
           }
          ],
          "histogram2dcontour": [
           {
            "colorbar": {
             "outlinewidth": 0,
             "ticks": ""
            },
            "colorscale": [
             [
              0,
              "#0d0887"
             ],
             [
              0.1111111111111111,
              "#46039f"
             ],
             [
              0.2222222222222222,
              "#7201a8"
             ],
             [
              0.3333333333333333,
              "#9c179e"
             ],
             [
              0.4444444444444444,
              "#bd3786"
             ],
             [
              0.5555555555555556,
              "#d8576b"
             ],
             [
              0.6666666666666666,
              "#ed7953"
             ],
             [
              0.7777777777777778,
              "#fb9f3a"
             ],
             [
              0.8888888888888888,
              "#fdca26"
             ],
             [
              1,
              "#f0f921"
             ]
            ],
            "type": "histogram2dcontour"
           }
          ],
          "mesh3d": [
           {
            "colorbar": {
             "outlinewidth": 0,
             "ticks": ""
            },
            "type": "mesh3d"
           }
          ],
          "parcoords": [
           {
            "line": {
             "colorbar": {
              "outlinewidth": 0,
              "ticks": ""
             }
            },
            "type": "parcoords"
           }
          ],
          "pie": [
           {
            "automargin": true,
            "type": "pie"
           }
          ],
          "scatter": [
           {
            "fillpattern": {
             "fillmode": "overlay",
             "size": 10,
             "solidity": 0.2
            },
            "type": "scatter"
           }
          ],
          "scatter3d": [
           {
            "line": {
             "colorbar": {
              "outlinewidth": 0,
              "ticks": ""
             }
            },
            "marker": {
             "colorbar": {
              "outlinewidth": 0,
              "ticks": ""
             }
            },
            "type": "scatter3d"
           }
          ],
          "scattercarpet": [
           {
            "marker": {
             "colorbar": {
              "outlinewidth": 0,
              "ticks": ""
             }
            },
            "type": "scattercarpet"
           }
          ],
          "scattergeo": [
           {
            "marker": {
             "colorbar": {
              "outlinewidth": 0,
              "ticks": ""
             }
            },
            "type": "scattergeo"
           }
          ],
          "scattergl": [
           {
            "marker": {
             "colorbar": {
              "outlinewidth": 0,
              "ticks": ""
             }
            },
            "type": "scattergl"
           }
          ],
          "scattermapbox": [
           {
            "marker": {
             "colorbar": {
              "outlinewidth": 0,
              "ticks": ""
             }
            },
            "type": "scattermapbox"
           }
          ],
          "scatterpolar": [
           {
            "marker": {
             "colorbar": {
              "outlinewidth": 0,
              "ticks": ""
             }
            },
            "type": "scatterpolar"
           }
          ],
          "scatterpolargl": [
           {
            "marker": {
             "colorbar": {
              "outlinewidth": 0,
              "ticks": ""
             }
            },
            "type": "scatterpolargl"
           }
          ],
          "scatterternary": [
           {
            "marker": {
             "colorbar": {
              "outlinewidth": 0,
              "ticks": ""
             }
            },
            "type": "scatterternary"
           }
          ],
          "surface": [
           {
            "colorbar": {
             "outlinewidth": 0,
             "ticks": ""
            },
            "colorscale": [
             [
              0,
              "#0d0887"
             ],
             [
              0.1111111111111111,
              "#46039f"
             ],
             [
              0.2222222222222222,
              "#7201a8"
             ],
             [
              0.3333333333333333,
              "#9c179e"
             ],
             [
              0.4444444444444444,
              "#bd3786"
             ],
             [
              0.5555555555555556,
              "#d8576b"
             ],
             [
              0.6666666666666666,
              "#ed7953"
             ],
             [
              0.7777777777777778,
              "#fb9f3a"
             ],
             [
              0.8888888888888888,
              "#fdca26"
             ],
             [
              1,
              "#f0f921"
             ]
            ],
            "type": "surface"
           }
          ],
          "table": [
           {
            "cells": {
             "fill": {
              "color": "#EBF0F8"
             },
             "line": {
              "color": "white"
             }
            },
            "header": {
             "fill": {
              "color": "#C8D4E3"
             },
             "line": {
              "color": "white"
             }
            },
            "type": "table"
           }
          ]
         },
         "layout": {
          "annotationdefaults": {
           "arrowcolor": "#2a3f5f",
           "arrowhead": 0,
           "arrowwidth": 1
          },
          "autotypenumbers": "strict",
          "coloraxis": {
           "colorbar": {
            "outlinewidth": 0,
            "ticks": ""
           }
          },
          "colorscale": {
           "diverging": [
            [
             0,
             "#8e0152"
            ],
            [
             0.1,
             "#c51b7d"
            ],
            [
             0.2,
             "#de77ae"
            ],
            [
             0.3,
             "#f1b6da"
            ],
            [
             0.4,
             "#fde0ef"
            ],
            [
             0.5,
             "#f7f7f7"
            ],
            [
             0.6,
             "#e6f5d0"
            ],
            [
             0.7,
             "#b8e186"
            ],
            [
             0.8,
             "#7fbc41"
            ],
            [
             0.9,
             "#4d9221"
            ],
            [
             1,
             "#276419"
            ]
           ],
           "sequential": [
            [
             0,
             "#0d0887"
            ],
            [
             0.1111111111111111,
             "#46039f"
            ],
            [
             0.2222222222222222,
             "#7201a8"
            ],
            [
             0.3333333333333333,
             "#9c179e"
            ],
            [
             0.4444444444444444,
             "#bd3786"
            ],
            [
             0.5555555555555556,
             "#d8576b"
            ],
            [
             0.6666666666666666,
             "#ed7953"
            ],
            [
             0.7777777777777778,
             "#fb9f3a"
            ],
            [
             0.8888888888888888,
             "#fdca26"
            ],
            [
             1,
             "#f0f921"
            ]
           ],
           "sequentialminus": [
            [
             0,
             "#0d0887"
            ],
            [
             0.1111111111111111,
             "#46039f"
            ],
            [
             0.2222222222222222,
             "#7201a8"
            ],
            [
             0.3333333333333333,
             "#9c179e"
            ],
            [
             0.4444444444444444,
             "#bd3786"
            ],
            [
             0.5555555555555556,
             "#d8576b"
            ],
            [
             0.6666666666666666,
             "#ed7953"
            ],
            [
             0.7777777777777778,
             "#fb9f3a"
            ],
            [
             0.8888888888888888,
             "#fdca26"
            ],
            [
             1,
             "#f0f921"
            ]
           ]
          },
          "colorway": [
           "#636efa",
           "#EF553B",
           "#00cc96",
           "#ab63fa",
           "#FFA15A",
           "#19d3f3",
           "#FF6692",
           "#B6E880",
           "#FF97FF",
           "#FECB52"
          ],
          "font": {
           "color": "#2a3f5f"
          },
          "geo": {
           "bgcolor": "white",
           "lakecolor": "white",
           "landcolor": "#E5ECF6",
           "showlakes": true,
           "showland": true,
           "subunitcolor": "white"
          },
          "hoverlabel": {
           "align": "left"
          },
          "hovermode": "closest",
          "mapbox": {
           "style": "light"
          },
          "paper_bgcolor": "white",
          "plot_bgcolor": "#E5ECF6",
          "polar": {
           "angularaxis": {
            "gridcolor": "white",
            "linecolor": "white",
            "ticks": ""
           },
           "bgcolor": "#E5ECF6",
           "radialaxis": {
            "gridcolor": "white",
            "linecolor": "white",
            "ticks": ""
           }
          },
          "scene": {
           "xaxis": {
            "backgroundcolor": "#E5ECF6",
            "gridcolor": "white",
            "gridwidth": 2,
            "linecolor": "white",
            "showbackground": true,
            "ticks": "",
            "zerolinecolor": "white"
           },
           "yaxis": {
            "backgroundcolor": "#E5ECF6",
            "gridcolor": "white",
            "gridwidth": 2,
            "linecolor": "white",
            "showbackground": true,
            "ticks": "",
            "zerolinecolor": "white"
           },
           "zaxis": {
            "backgroundcolor": "#E5ECF6",
            "gridcolor": "white",
            "gridwidth": 2,
            "linecolor": "white",
            "showbackground": true,
            "ticks": "",
            "zerolinecolor": "white"
           }
          },
          "shapedefaults": {
           "line": {
            "color": "#2a3f5f"
           }
          },
          "ternary": {
           "aaxis": {
            "gridcolor": "white",
            "linecolor": "white",
            "ticks": ""
           },
           "baxis": {
            "gridcolor": "white",
            "linecolor": "white",
            "ticks": ""
           },
           "bgcolor": "#E5ECF6",
           "caxis": {
            "gridcolor": "white",
            "linecolor": "white",
            "ticks": ""
           }
          },
          "title": {
           "x": 0.05
          },
          "xaxis": {
           "automargin": true,
           "gridcolor": "white",
           "linecolor": "white",
           "ticks": "",
           "title": {
            "standoff": 15
           },
           "zerolinecolor": "white",
           "zerolinewidth": 2
          },
          "yaxis": {
           "automargin": true,
           "gridcolor": "white",
           "linecolor": "white",
           "ticks": "",
           "title": {
            "standoff": 15
           },
           "zerolinecolor": "white",
           "zerolinewidth": 2
          }
         }
        },
        "title": {
         "text": "Successful Startup Contribution by City  (Percentage)"
        }
       }
      }
     },
     "metadata": {},
     "output_type": "display_data"
    }
   ],
   "source": [
    "\n",
    "# success indicators \n",
    "success_indicators = data[data['Stage'].isin(['Series H', 'Series F','Series E2','Series D','Series C','Series B','Series A'])]['HeadQuarter'].value_counts(normalize=True).reset_index().head(5)\n",
    "success_indicators.columns = ['HeadQuarter', 'Percentage']\n",
    "\n",
    "# Create a pie chart\n",
    "fig = px.pie(success_indicators, values='Percentage', names='HeadQuarter',\n",
    "             title='Successful Startup Contribution by City  (Percentage)')\n",
    "\n",
    "fig.show()\n"
   ]
  },
  {
   "cell_type": "code",
   "execution_count": 58,
   "metadata": {},
   "outputs": [
    {
     "name": "stdout",
     "output_type": "stream",
     "text": [
      "\n",
      "Funding Amount Impact:\n",
      " Sector\n",
      "multinational conglomerate company    2.200000e+09\n",
      "renewable player                      3.900000e+08\n",
      "aerospace                             2.666667e+08\n",
      "e-market                              1.680000e+08\n",
      "health and fitness                    1.150000e+08\n",
      "Name: Amount, dtype: float64\n"
     ]
    }
   ],
   "source": [
    "# Business Question 4: Funding Amount Impact\n",
    "success_indicators.column = ['Sector']\n",
    "amount_impact = data.groupby(success_indicators.column)['Amount'].median().sort_values(ascending=False).head(5)\n",
    "print(\"\\nFunding Amount Impact:\\n\", amount_impact)"
   ]
  },
  {
   "cell_type": "code",
   "execution_count": 59,
   "metadata": {},
   "outputs": [
    {
     "data": {
      "image/png": "[encoded data removed]",
      "text/plain": [
       "<Figure size 1200x800 with 1 Axes>"
      ]
     },
     "metadata": {},
     "output_type": "display_data"
    }
   ],
   "source": [
    "\n",
    "\n",
    "# Visualize the funding amount impact across different sectors\n",
    "plt.figure(figsize=(12, 8))\n",
    "amount_impact.plot(kind='bar', color='skyblue')\n",
    "plt.title('Funding Amount Impact Across Sectors')\n",
    "plt.xlabel('Sector')\n",
    "plt.ylabel('Median Funding Amount')\n",
    "plt.xticks(rotation=45, ha='right')\n",
    "plt.show()\n"
   ]
  },
  {
   "cell_type": "code",
   "execution_count": 60,
   "metadata": {},
   "outputs": [
    {
     "name": "stdout",
     "output_type": "stream",
     "text": [
      "<class 'pandas.core.frame.DataFrame'>\n",
      "Index: 2152 entries, 0 to 2804\n",
      "Data columns (total 6 columns):\n",
      " #   Column         Non-Null Count  Dtype  \n",
      "---  ------         --------------  -----  \n",
      " 0   Company_Brand  2152 non-null   object \n",
      " 1   HeadQuarter    2152 non-null   object \n",
      " 2   Sector         2152 non-null   object \n",
      " 3   What_it_does   2152 non-null   object \n",
      " 4   Amount         2152 non-null   float64\n",
      " 5   Stage          2152 non-null   object \n",
      "dtypes: float64(1), object(5)\n",
      "memory usage: 117.7+ KB\n"
     ]
    }
   ],
   "source": [
    "data['Amount']= data['Amount'].astype(float)\n",
    "\n",
    "data.info()"
   ]
  },
  {
   "cell_type": "markdown",
   "metadata": {},
   "source": [
    "__Which 5 startups have the highest funding amounts?__"
   ]
  },
  {
   "cell_type": "code",
   "execution_count": 68,
   "metadata": {},
   "outputs": [
    {
     "name": "stdout",
     "output_type": "stream",
     "text": [
      "\n",
      "Top 5 Startups Based on Funding Amount:\n",
      "                    Company_Brand        Amount\n",
      "273  Reliance Retail Ventures Ltd  7.000000e+10\n",
      "310                     Snowflake  3.000000e+09\n",
      "321                      Reliance  2.200000e+09\n",
      "295      Reliance Retail Ventures  8.000000e+08\n",
      "15                         Zomato  6.600000e+08\n"
     ]
    }
   ],
   "source": [
    "\n",
    "data['Amount'] = data['Amount'].apply(lambda x: Decimal(str(x)))\n",
    "data['Amount'] = data['Amount'].astype(float)\n",
    "\n",
    "# Identify the top 5 startups based on funding amount\n",
    "top_startups = data.nlargest(5, 'Amount')\n",
    "\n",
    "# Display the top startups\n",
    "print(\"\\nTop 5 Startups Based on Funding Amount:\")\n",
    "print(top_startups[['Company_Brand', 'Amount']])\n"
   ]
  },
  {
   "cell_type": "code",
   "execution_count": 69,
   "metadata": {},
   "outputs": [
    {
     "data": {
      "image/png": "[encoded data removed]",
      "text/plain": [
       "<Figure size 1200x800 with 1 Axes>"
      ]
     },
     "metadata": {},
     "output_type": "display_data"
    }
   ],
   "source": [
    "import matplotlib.pyplot as plt\n",
    "\n",
    "# Plot the funding amount for the top 5 startups\n",
    "plt.figure(figsize=(12, 8))\n",
    "plt.bar(top_startups['Company_Brand'], top_startups['Amount'], color='skyblue')\n",
    "plt.title('Top 5 Startups Based on Funding Amount')\n",
    "plt.xlabel('Startup')\n",
    "plt.ylabel('Funding Amount')\n",
    "plt.xticks(rotation=45, ha='right')\n",
    "plt.show()\n"
   ]
  },
  {
   "cell_type": "markdown",
   "metadata": {},
   "source": [
    "__Hypothesis 5: Stage and Having a Specified Amount__\n",
    "\n",
    "Null Hypothesis (H0): There is no association between a company's stage and whether it has funding above a specified threshold.\n",
    "\n",
    "Alternative Hypothesis (H1): Companies in a particular stage are more likely to have funding amounts above a specified threshold."
   ]
  },
  {
   "cell_type": "code",
   "execution_count": null,
   "metadata": {},
   "outputs": [
    {
     "name": "stdout",
     "output_type": "stream",
     "text": [
      "Hypothesis 5 - Stage and Having a Specified Amount:\n",
      "Chi-squared p-value: 1.9788596042871308e-13\n"
     ]
    }
   ],
   "source": [
    "# Hypothesis : Stage and Having a Specified Amount\n",
    "\n",
    "# Chi-squared test for independence\n",
    "stage_amount_chi2, stage_amount_p, _, _ = stats.chi2_contingency(pd.crosstab(data['Stage'], data['Amount'] > 500000))\n",
    "\n",
    "print(\"Hypothesis 5 - Stage and Having a Specified Amount:\")\n",
    "print(\"Chi-squared p-value:\", stage_amount_p)"
   ]
  },
  {
   "cell_type": "code",
   "execution_count": null,
   "metadata": {},
   "outputs": [
    {
     "name": "stdout",
     "output_type": "stream",
     "text": [
      "0.00\n"
     ]
    }
   ],
   "source": [
    "from decimal import Decimal, ROUND_HALF_UP\n",
    "\n",
    "\n",
    "# Convert to Decimal\n",
    "p_value_decimal = Decimal(str(stage_amount_p))\n",
    "\n",
    "# Round to 5 decimal places\n",
    "p_value_rounded = p_value_decimal.quantize(Decimal('0.00'), rounding=ROUND_HALF_UP)\n",
    "\n",
    "# Display the result\n",
    "print(p_value_rounded)"
   ]
  },
  {
   "cell_type": "markdown",
   "metadata": {},
   "source": [
    "__Interpretation of the p-value:__\n",
    "\n",
    "A very small p-value (close to zero) indicates strong evidence against the null hypothesis.\n",
    "In this case, the p-value is much smaller than conventional significance levels (e.g., 0.05 or 0.01), suggesting that you would reject the null hypothesis.\n",
    "\n",
    "__Conclusion:__\n",
    "\n",
    "With a p-value this small, you would typically conclude that there is significant evidence to reject the null hypothesis.\n",
    "Therefore, you may infer that there is a significant relationship between the \"Sector\" and \"Stage\" variables in your data."
   ]
  },
  {
   "cell_type": "code",
   "execution_count": null,
   "metadata": {},
   "outputs": [],
   "source": []
  },
  {
   "cell_type": "code",
   "execution_count": null,
   "metadata": {},
   "outputs": [],
   "source": []
  }
 ],
 "metadata": {
  "kernelspec": {
   "display_name": "Python 3",
   "language": "python",
   "name": "python3"
  },
  "language_info": {
   "codemirror_mode": {
    "name": "ipython",
    "version": 3
   },
   "file_extension": ".py",
   "mimetype": "text/x-python",
   "name": "python",
   "nbconvert_exporter": "python",
   "pygments_lexer": "ipython3",
   "version": "3.11.5"
  }
 },
 "nbformat": 4,
 "nbformat_minor": 2
}
